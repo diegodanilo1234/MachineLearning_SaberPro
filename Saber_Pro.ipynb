{
 "cells": [
  {
   "cell_type": "markdown",
   "source": "# Machine Learning - Regresión lineal multiple aplicada a las pruebas SABER PRO Colombia año 2020\n\nEn este proyecto se busca crear un modelo de Machine Learning para predecir el puntaje que un estudiante va obtener en las pruebsas SABER PRO. Tambien conocer cuales son los determinantes del rendimiento académico de la educación superior dado las variables sociales y economicas que proporciona el ICFES en la prueba SABER PRO aplicado en Colombia en el año 2020 a los estudiantes de educación superior.\n\nFuente: ICFES\n",
   "metadata": {
    "tags": [],
    "cell_id": "00000-b8dc3bb3-27ca-49a2-ab0e-0f31d5ec82a7",
    "deepnote_app_coordinates": {
     "x": 0,
     "y": null,
     "w": 12,
     "h": 5
    },
    "deepnote_cell_type": "markdown"
   }
  },
  {
   "cell_type": "markdown",
   "source": "### 1. Cargamos las librerias",
   "metadata": {
    "tags": [],
    "cell_id": "00002-fef683ea-972a-4593-9f52-f601e798b06f",
    "deepnote_app_coordinates": {
     "x": 0,
     "y": 12,
     "w": 12,
     "h": 5
    },
    "deepnote_cell_type": "markdown"
   }
  },
  {
   "cell_type": "code",
   "metadata": {
    "tags": [],
    "cell_id": "00000-035acad4-c7c0-4210-9add-c2270f910c9e",
    "deepnote_to_be_reexecuted": false,
    "source_hash": "8f060444",
    "execution_start": 1640008520694,
    "execution_millis": 4549,
    "deepnote_app_coordinates": {
     "x": 0,
     "y": 18,
     "w": 12,
     "h": 5
    },
    "deepnote_cell_type": "code"
   },
   "source": "import pandas as pd # Libreria para el tratamiento de DataFrames\nimport matplotlib.pyplot as plt # Libreria gráfica\nimport seaborn as sns # Libreria gráfica\nfrom sklearn.model_selection import train_test_split # Dividir los datos en entrenamiento y prueba\nfrom sklearn.linear_model import LinearRegression # Modelo  de Regresión lineal\nfrom sklearn import decomposition # Modulo de PCA\n",
   "execution_count": 1,
   "outputs": []
  },
  {
   "cell_type": "markdown",
   "source": "### 2. Cargamos la base de datos",
   "metadata": {
    "tags": [],
    "cell_id": "00004-1330885f-c669-4f90-822f-32a4aab8c4d3",
    "deepnote_app_coordinates": {
     "x": 0,
     "y": 24,
     "w": 12,
     "h": 5
    },
    "deepnote_cell_type": "markdown"
   }
  },
  {
   "cell_type": "code",
   "metadata": {
    "tags": [],
    "cell_id": "00001-1293305c-e554-40f2-953d-50b80b1eb6df",
    "deepnote_to_be_reexecuted": false,
    "source_hash": "453190e5",
    "execution_start": 1640008530982,
    "execution_millis": 9029,
    "deepnote_app_coordinates": {
     "x": 0,
     "y": 30,
     "w": 12,
     "h": 5
    },
    "deepnote_cell_type": "code"
   },
   "source": "# Lectura del dataset\nsaber_pro = pd.read_csv(\"/work/base_saberpro.csv\")",
   "execution_count": 2,
   "outputs": []
  },
  {
   "cell_type": "code",
   "metadata": {
    "tags": [],
    "cell_id": "00002-267bdd1b-94e2-4a11-95d3-66fcee2d0b45",
    "deepnote_to_be_reexecuted": false,
    "source_hash": "a4b8b9b6",
    "execution_start": 1640008544997,
    "execution_millis": 493,
    "deepnote_app_coordinates": {
     "x": 0,
     "y": 36,
     "w": 12,
     "h": 5
    },
    "deepnote_cell_type": "code"
   },
   "source": "# Primeras 5 filas del dataset\nsaber_pro.head()",
   "execution_count": 3,
   "outputs": [
    {
     "output_type": "execute_result",
     "execution_count": 3,
     "data": {
      "application/vnd.deepnote.dataframe.v3+json": {
       "column_count": 97,
       "row_count": 5,
       "columns": [
        {
         "name": "ESTU_TIPODOCUMENTO",
         "dtype": "object",
         "stats": {
          "unique_count": 2,
          "nan_count": 0,
          "categories": [
           {
            "name": "CC",
            "count": 4
           },
           {
            "name": "CE",
            "count": 1
           }
          ]
         }
        },
        {
         "name": "ESTU_NACIONALIDAD",
         "dtype": "object",
         "stats": {
          "unique_count": 2,
          "nan_count": 0,
          "categories": [
           {
            "name": "COLOMBIA",
            "count": 4
           },
           {
            "name": "VENEZUELA",
            "count": 1
           }
          ]
         }
        },
        {
         "name": "ESTU_GENERO",
         "dtype": "object",
         "stats": {
          "unique_count": 2,
          "nan_count": 0,
          "categories": [
           {
            "name": "F",
            "count": 3
           },
           {
            "name": "M",
            "count": 2
           }
          ]
         }
        },
        {
         "name": "ESTU_FECHANACIMIENTO",
         "dtype": "object",
         "stats": {
          "unique_count": 5,
          "nan_count": 0,
          "categories": [
           {
            "name": "29/05/1990",
            "count": 1
           },
           {
            "name": "28/12/1995",
            "count": 1
           },
           {
            "name": "3 others",
            "count": 3
           }
          ]
         }
        },
        {
         "name": "ESTU_EXTERIOR",
         "dtype": "object",
         "stats": {
          "unique_count": 1,
          "nan_count": 0,
          "categories": [
           {
            "name": "NO",
            "count": 5
           }
          ]
         }
        },
        {
         "name": "PERIODO",
         "dtype": "int64",
         "stats": {
          "unique_count": 1,
          "nan_count": 0,
          "min": "20203",
          "max": "20203",
          "histogram": [
           {
            "bin_start": 20202.5,
            "bin_end": 20202.6,
            "count": 0
           },
           {
            "bin_start": 20202.6,
            "bin_end": 20202.7,
            "count": 0
           },
           {
            "bin_start": 20202.7,
            "bin_end": 20202.8,
            "count": 0
           },
           {
            "bin_start": 20202.8,
            "bin_end": 20202.9,
            "count": 0
           },
           {
            "bin_start": 20202.9,
            "bin_end": 20203,
            "count": 0
           },
           {
            "bin_start": 20203,
            "bin_end": 20203.1,
            "count": 5
           },
           {
            "bin_start": 20203.1,
            "bin_end": 20203.2,
            "count": 0
           },
           {
            "bin_start": 20203.2,
            "bin_end": 20203.3,
            "count": 0
           },
           {
            "bin_start": 20203.3,
            "bin_end": 20203.4,
            "count": 0
           },
           {
            "bin_start": 20203.4,
            "bin_end": 20203.5,
            "count": 0
           }
          ]
         }
        },
        {
         "name": "ESTU_CONSECUTIVO",
         "dtype": "object",
         "stats": {
          "unique_count": 5,
          "nan_count": 0,
          "categories": [
           {
            "name": "EK202030122120",
            "count": 1
           },
           {
            "name": "EK202030183321",
            "count": 1
           },
           {
            "name": "3 others",
            "count": 3
           }
          ]
         }
        },
        {
         "name": "ESTU_ESTUDIANTE",
         "dtype": "object",
         "stats": {
          "unique_count": 1,
          "nan_count": 0,
          "categories": [
           {
            "name": "ESTUDIANTE",
            "count": 5
           }
          ]
         }
        },
        {
         "name": "ESTU_PAIS_RESIDE",
         "dtype": "object",
         "stats": {
          "unique_count": 2,
          "nan_count": 0,
          "categories": [
           {
            "name": "COLOMBIA",
            "count": 4
           },
           {
            "name": "VENEZUELA",
            "count": 1
           }
          ]
         }
        },
        {
         "name": "ESTU_DEPTO_RESIDE",
         "dtype": "object",
         "stats": {
          "unique_count": 4,
          "nan_count": 0,
          "categories": [
           {
            "name": "BOGOT�",
            "count": 2
           },
           {
            "name": "CESAR",
            "count": 1
           },
           {
            "name": "2 others",
            "count": 2
           }
          ]
         }
        },
        {
         "name": "ESTU_COD_RESIDE_DEPTO",
         "dtype": "float64",
         "stats": {
          "unique_count": 4,
          "nan_count": 0,
          "min": "8.0",
          "max": "44.0",
          "histogram": [
           {
            "bin_start": 8,
            "bin_end": 11.6,
            "count": 3
           },
           {
            "bin_start": 11.6,
            "bin_end": 15.2,
            "count": 0
           },
           {
            "bin_start": 15.2,
            "bin_end": 18.8,
            "count": 0
           },
           {
            "bin_start": 18.8,
            "bin_end": 22.4,
            "count": 1
           },
           {
            "bin_start": 22.4,
            "bin_end": 26,
            "count": 0
           },
           {
            "bin_start": 26,
            "bin_end": 29.6,
            "count": 0
           },
           {
            "bin_start": 29.6,
            "bin_end": 33.2,
            "count": 0
           },
           {
            "bin_start": 33.2,
            "bin_end": 36.8,
            "count": 0
           },
           {
            "bin_start": 36.8,
            "bin_end": 40.4,
            "count": 0
           },
           {
            "bin_start": 40.4,
            "bin_end": 44,
            "count": 1
           }
          ]
         }
        },
        {
         "name": "ESTU_MCPIO_RESIDE",
         "dtype": "object",
         "stats": {
          "unique_count": 4,
          "nan_count": 0,
          "categories": [
           {
            "name": "BOGOT� D.C.",
            "count": 2
           },
           {
            "name": "BOSCONIA",
            "count": 1
           },
           {
            "name": "2 others",
            "count": 2
           }
          ]
         }
        },
        {
         "name": "ESTU_COD_RESIDE_MCPIO",
         "dtype": "float64",
         "stats": {
          "unique_count": 4,
          "nan_count": 0,
          "min": "8001.0",
          "max": "44430.0",
          "histogram": [
           {
            "bin_start": 8001,
            "bin_end": 11643.9,
            "count": 3
           },
           {
            "bin_start": 11643.9,
            "bin_end": 15286.8,
            "count": 0
           },
           {
            "bin_start": 15286.8,
            "bin_end": 18929.7,
            "count": 0
           },
           {
            "bin_start": 18929.7,
            "bin_end": 22572.6,
            "count": 1
           },
           {
            "bin_start": 22572.6,
            "bin_end": 26215.5,
            "count": 0
           },
           {
            "bin_start": 26215.5,
            "bin_end": 29858.4,
            "count": 0
           },
           {
            "bin_start": 29858.4,
            "bin_end": 33501.3,
            "count": 0
           },
           {
            "bin_start": 33501.3,
            "bin_end": 37144.2,
            "count": 0
           },
           {
            "bin_start": 37144.2,
            "bin_end": 40787.1,
            "count": 0
           },
           {
            "bin_start": 40787.1,
            "bin_end": 44430,
            "count": 1
           }
          ]
         }
        },
        {
         "name": "ESTU_AREARESIDE",
         "dtype": "object",
         "stats": {
          "unique_count": 1,
          "nan_count": 0,
          "categories": [
           {
            "name": "Cabecera Municipal",
            "count": 5
           }
          ]
         }
        },
        {
         "name": "ESTU_ESTADOCIVIL",
         "dtype": "object",
         "stats": {
          "unique_count": 2,
          "nan_count": 0,
          "categories": [
           {
            "name": "Soltero",
            "count": 4
           },
           {
            "name": "Casado",
            "count": 1
           }
          ]
         }
        },
        {
         "name": "ESTU_COLE_TERMINO",
         "dtype": "object",
         "stats": {
          "unique_count": 3,
          "nan_count": 2,
          "categories": [
           {
            "name": "INSTITUTO CRISTO REY",
            "count": 1
           },
           {
            "name": "2 others",
            "count": 2
           },
           {
            "name": "Missing",
            "count": 2
           }
          ]
         }
        },
        {
         "name": "ESTU_CODDANE_COLE_TERMINO",
         "dtype": "float64",
         "stats": {
          "unique_count": 3,
          "nan_count": 2,
          "min": "108078000000.0",
          "max": "344279000000.0",
          "histogram": [
           {
            "bin_start": 108078000000,
            "bin_end": 131698100000,
            "count": 1
           },
           {
            "bin_start": 131698100000,
            "bin_end": 155318200000,
            "count": 1
           },
           {
            "bin_start": 155318200000,
            "bin_end": 178938300000,
            "count": 0
           },
           {
            "bin_start": 178938300000,
            "bin_end": 202558400000,
            "count": 0
           },
           {
            "bin_start": 202558400000,
            "bin_end": 226178500000,
            "count": 0
           },
           {
            "bin_start": 226178500000,
            "bin_end": 249798600000,
            "count": 0
           },
           {
            "bin_start": 249798600000,
            "bin_end": 273418700000,
            "count": 0
           },
           {
            "bin_start": 273418700000,
            "bin_end": 297038800000,
            "count": 0
           },
           {
            "bin_start": 297038800000,
            "bin_end": 320658900000,
            "count": 0
           },
           {
            "bin_start": 320658900000,
            "bin_end": 344279000000,
            "count": 1
           }
          ]
         }
        },
        {
         "name": "ESTU_COD_COLE_MCPIO_TERMINO",
         "dtype": "float64",
         "stats": {
          "unique_count": 3,
          "nan_count": 2,
          "min": "8078.0",
          "max": "44847.0",
          "histogram": [
           {
            "bin_start": 8078,
            "bin_end": 11754.9,
            "count": 1
           },
           {
            "bin_start": 11754.9,
            "bin_end": 15431.8,
            "count": 0
           },
           {
            "bin_start": 15431.8,
            "bin_end": 19108.7,
            "count": 0
           },
           {
            "bin_start": 19108.7,
            "bin_end": 22785.6,
            "count": 0
           },
           {
            "bin_start": 22785.6,
            "bin_end": 26462.5,
            "count": 0
           },
           {
            "bin_start": 26462.5,
            "bin_end": 30139.4,
            "count": 0
           },
           {
            "bin_start": 30139.4,
            "bin_end": 33816.3,
            "count": 0
           },
           {
            "bin_start": 33816.3,
            "bin_end": 37493.2,
            "count": 0
           },
           {
            "bin_start": 37493.2,
            "bin_end": 41170.1,
            "count": 0
           },
           {
            "bin_start": 41170.1,
            "bin_end": 44847,
            "count": 2
           }
          ]
         }
        },
        {
         "name": "ESTU_TITULOOBTENIDOBACHILLER",
         "dtype": "object",
         "stats": {
          "unique_count": 2,
          "nan_count": 0,
          "categories": [
           {
            "name": "Bachiller acad�mico",
            "count": 3
           },
           {
            "name": "Bachiller pedag�gico o normalista",
            "count": 2
           }
          ]
         }
        },
        {
         "name": "ESTU_VALORMATRICULAUNIVERSIDAD",
         "dtype": "object",
         "stats": {
          "unique_count": 3,
          "nan_count": 0,
          "categories": [
           {
            "name": "Entre 500 mil y menos de 1 mill�n",
            "count": 3
           },
           {
            "name": "Entre 1 mill�n y menos de 2.5 millones",
            "count": 1
           },
           {
            "name": "Entre 4 millones y menos de 5.5 millones",
            "count": 1
           }
          ]
         }
        },
        {
         "name": "ESTU_PAGOMATRICULABECA",
         "dtype": "object",
         "stats": {
          "unique_count": 2,
          "nan_count": 0,
          "categories": [
           {
            "name": "No",
            "count": 3
           },
           {
            "name": "Si",
            "count": 2
           }
          ]
         }
        },
        {
         "name": "ESTU_PAGOMATRICULACREDITO",
         "dtype": "object",
         "stats": {
          "unique_count": 2,
          "nan_count": 0,
          "categories": [
           {
            "name": "No",
            "count": 3
           },
           {
            "name": "Si",
            "count": 2
           }
          ]
         }
        },
        {
         "name": "ESTU_PAGOMATRICULAPADRES",
         "dtype": "object",
         "stats": {
          "unique_count": 2,
          "nan_count": 0,
          "categories": [
           {
            "name": "No",
            "count": 3
           },
           {
            "name": "Si",
            "count": 2
           }
          ]
         }
        },
        {
         "name": "ESTU_PAGOMATRICULAPROPIO",
         "dtype": "object",
         "stats": {
          "unique_count": 2,
          "nan_count": 0,
          "categories": [
           {
            "name": "Si",
            "count": 3
           },
           {
            "name": "No",
            "count": 2
           }
          ]
         }
        },
        {
         "name": "ESTU_COMOCAPACITOEXAMENSB11",
         "dtype": "object",
         "stats": {
          "unique_count": 2,
          "nan_count": 0,
          "categories": [
           {
            "name": "Repas� por cuenta propia",
            "count": 4
           },
           {
            "name": "No realiz� ninguna prueba de preparaci�n",
            "count": 1
           }
          ]
         }
        },
        {
         "name": "ESTU_CURSODOCENTESIES",
         "dtype": "object",
         "stats": {
          "unique_count": 0,
          "nan_count": 5,
          "categories": [
           {
            "name": "Missing",
            "count": 5
           }
          ]
         }
        },
        {
         "name": "ESTU_CURSOIESAPOYOEXTERNO",
         "dtype": "object",
         "stats": {
          "unique_count": 0,
          "nan_count": 5,
          "categories": [
           {
            "name": "Missing",
            "count": 5
           }
          ]
         }
        },
        {
         "name": "ESTU_CURSOIESEXTERNA",
         "dtype": "object",
         "stats": {
          "unique_count": 0,
          "nan_count": 5,
          "categories": [
           {
            "name": "Missing",
            "count": 5
           }
          ]
         }
        },
        {
         "name": "ESTU_SIMULACROTIPOICFES",
         "dtype": "object",
         "stats": {
          "unique_count": 0,
          "nan_count": 5,
          "categories": [
           {
            "name": "Missing",
            "count": 5
           }
          ]
         }
        },
        {
         "name": "ESTU_ACTIVIDADREFUERZOAREAS",
         "dtype": "object",
         "stats": {
          "unique_count": 0,
          "nan_count": 5,
          "categories": [
           {
            "name": "Missing",
            "count": 5
           }
          ]
         }
        },
        {
         "name": "ESTU_ACTIVIDADREFUERZOGENERIC",
         "dtype": "object",
         "stats": {
          "unique_count": 0,
          "nan_count": 5,
          "categories": [
           {
            "name": "Missing",
            "count": 5
           }
          ]
         }
        },
        {
         "name": "ESTU_TIPODOCUMENTOSB11",
         "dtype": "object",
         "stats": {
          "unique_count": 2,
          "nan_count": 0,
          "categories": [
           {
            "name": "TI",
            "count": 4
           },
           {
            "name": "CE",
            "count": 1
           }
          ]
         }
        },
        {
         "name": "ESTU_SEMESTRECURSA",
         "dtype": "object",
         "stats": {
          "unique_count": 2,
          "nan_count": 0,
          "categories": [
           {
            "name": "8",
            "count": 4
           },
           {
            "name": "10",
            "count": 1
           }
          ]
         }
        },
        {
         "name": "FAMI_EDUCACIONPADRE",
         "dtype": "object",
         "stats": {
          "unique_count": 5,
          "nan_count": 0,
          "categories": [
           {
            "name": "Secundaria (Bachillerato) incompleta",
            "count": 1
           },
           {
            "name": "Educaci�n profesional completa",
            "count": 1
           },
           {
            "name": "3 others",
            "count": 3
           }
          ]
         }
        },
        {
         "name": "FAMI_EDUCACIONMADRE",
         "dtype": "object",
         "stats": {
          "unique_count": 4,
          "nan_count": 0,
          "categories": [
           {
            "name": "Primaria incompleta",
            "count": 2
           },
           {
            "name": "Educaci�n profesional completa",
            "count": 1
           },
           {
            "name": "2 others",
            "count": 2
           }
          ]
         }
        },
        {
         "name": "FAMI_TRABAJOLABORPADRE",
         "dtype": "object",
         "stats": {
          "unique_count": 5,
          "nan_count": 0,
          "categories": [
           {
            "name": "Pensionado",
            "count": 1
           },
           {
            "name": "Es due�o de un negocio peque�o (tiene pocos empleados o no tiene, por ejemplo tienda, papeler�a, etc",
            "count": 1
           },
           {
            "name": "3 others",
            "count": 3
           }
          ]
         }
        },
        {
         "name": "FAMI_TRABAJOLABORMADRE",
         "dtype": "object",
         "stats": {
          "unique_count": 3,
          "nan_count": 0,
          "categories": [
           {
            "name": "Trabaja en el hogar, no trabaja o estudia",
            "count": 3
           },
           {
            "name": "Pensionado",
            "count": 1
           },
           {
            "name": "Es vendedor o trabaja en atenci�n al p�blico",
            "count": 1
           }
          ]
         }
        },
        {
         "name": "FAMI_ESTRATOVIVIENDA",
         "dtype": "object",
         "stats": {
          "unique_count": 3,
          "nan_count": 0,
          "categories": [
           {
            "name": "Estrato 2",
            "count": 2
           },
           {
            "name": "Estrato 1",
            "count": 2
           },
           {
            "name": "Estrato 4",
            "count": 1
           }
          ]
         }
        },
        {
         "name": "ESTU_OTROCOLE_TERMINO",
         "dtype": "object",
         "stats": {
          "unique_count": 1,
          "nan_count": 4,
          "categories": [
           {
            "name": "colegio republica de venezuela",
            "count": 1
           },
           {
            "name": "Missing",
            "count": 4
           }
          ]
         }
        },
        {
         "name": "FAMI_TIENEINTERNET",
         "dtype": "object",
         "stats": {
          "unique_count": 2,
          "nan_count": 0,
          "categories": [
           {
            "name": "Si",
            "count": 4
           },
           {
            "name": "No",
            "count": 1
           }
          ]
         }
        },
        {
         "name": "FAMI_TIENECOMPUTADOR",
         "dtype": "object",
         "stats": {
          "unique_count": 2,
          "nan_count": 0,
          "categories": [
           {
            "name": "Si",
            "count": 4
           },
           {
            "name": "No",
            "count": 1
           }
          ]
         }
        },
        {
         "name": "FAMI_TIENELAVADORA",
         "dtype": "object",
         "stats": {
          "unique_count": 2,
          "nan_count": 0,
          "categories": [
           {
            "name": "Si",
            "count": 3
           },
           {
            "name": "No",
            "count": 2
           }
          ]
         }
        },
        {
         "name": "FAMI_TIENEHORNOMICROOGAS",
         "dtype": "object",
         "stats": {
          "unique_count": 2,
          "nan_count": 0,
          "categories": [
           {
            "name": "No",
            "count": 3
           },
           {
            "name": "Si",
            "count": 2
           }
          ]
         }
        },
        {
         "name": "FAMI_TIENESERVICIOTV",
         "dtype": "object",
         "stats": {
          "unique_count": 2,
          "nan_count": 0,
          "categories": [
           {
            "name": "Si",
            "count": 4
           },
           {
            "name": "No",
            "count": 1
           }
          ]
         }
        },
        {
         "name": "FAMI_TIENEAUTOMOVIL",
         "dtype": "object",
         "stats": {
          "unique_count": 2,
          "nan_count": 0,
          "categories": [
           {
            "name": "No",
            "count": 4
           },
           {
            "name": "Si",
            "count": 1
           }
          ]
         }
        },
        {
         "name": "FAMI_TIENEMOTOCICLETA",
         "dtype": "object",
         "stats": {
          "unique_count": 1,
          "nan_count": 0,
          "categories": [
           {
            "name": "No",
            "count": 5
           }
          ]
         }
        },
        {
         "name": "FAMI_TIENECONSOLAVIDEOJUEGOS",
         "dtype": "object",
         "stats": {
          "unique_count": 2,
          "nan_count": 0,
          "categories": [
           {
            "name": "No",
            "count": 4
           },
           {
            "name": "Si",
            "count": 1
           }
          ]
         }
        },
        {
         "name": "FAMI_CUANTOSCOMPARTEBA�O",
         "dtype": "object",
         "stats": {
          "unique_count": 5,
          "nan_count": 0,
          "categories": [
           {
            "name": "NINGUNA",
            "count": 1
           },
           {
            "name": "1",
            "count": 1
           },
           {
            "name": "3 others",
            "count": 3
           }
          ]
         }
        },
        {
         "name": "ESTU_HORASSEMANATRABAJA",
         "dtype": "object",
         "stats": {
          "unique_count": 3,
          "nan_count": 0,
          "categories": [
           {
            "name": "M�s de 30 horas",
            "count": 3
           },
           {
            "name": "Entre 11 y 20 horas",
            "count": 1
           },
           {
            "name": "Entre 21 y 30 horas",
            "count": 1
           }
          ]
         }
        },
        {
         "name": "INST_COD_INSTITUCION",
         "dtype": "int64",
         "stats": {
          "unique_count": 4,
          "nan_count": 0,
          "min": "1213",
          "max": "2829",
          "histogram": [
           {
            "bin_start": 1213,
            "bin_end": 1374.6,
            "count": 2
           },
           {
            "bin_start": 1374.6,
            "bin_end": 1536.2,
            "count": 0
           },
           {
            "bin_start": 1536.2,
            "bin_end": 1697.8,
            "count": 0
           },
           {
            "bin_start": 1697.8,
            "bin_end": 1859.4,
            "count": 1
           },
           {
            "bin_start": 1859.4,
            "bin_end": 2021,
            "count": 0
           },
           {
            "bin_start": 2021,
            "bin_end": 2182.6,
            "count": 0
           },
           {
            "bin_start": 2182.6,
            "bin_end": 2344.2,
            "count": 0
           },
           {
            "bin_start": 2344.2,
            "bin_end": 2505.8,
            "count": 0
           },
           {
            "bin_start": 2505.8,
            "bin_end": 2667.3999999999996,
            "count": 0
           },
           {
            "bin_start": 2667.3999999999996,
            "bin_end": 2829,
            "count": 2
           }
          ]
         }
        },
        {
         "name": "INST_NOMBRE_INSTITUCION",
         "dtype": "object",
         "stats": {
          "unique_count": 4,
          "nan_count": 0,
          "categories": [
           {
            "name": "CORPORACION UNIVERSITARIA MINUTO DE DIOS -UNIMINUTO-BOGOT� D.C.",
            "count": 2
           },
           {
            "name": "UNIVERSIDAD DE SAN BUENAVENTURA-BOGOT� D.C.",
            "count": 1
           },
           {
            "name": "2 others",
            "count": 2
           }
          ]
         }
        },
        {
         "name": "ESTU_PRGM_ACADEMICO",
         "dtype": "object",
         "stats": {
          "unique_count": 5,
          "nan_count": 0,
          "categories": [
           {
            "name": "ADMINISTRACI�N FINANCIERA",
            "count": 1
           },
           {
            "name": "ADMINISTRACION DE EMPRESAS",
            "count": 1
           },
           {
            "name": "3 others",
            "count": 3
           }
          ]
         }
        },
        {
         "name": "ESTU_SNIES_PRGMACADEMICO",
         "dtype": "int64",
         "stats": {
          "unique_count": 5,
          "nan_count": 0,
          "min": "53056",
          "max": "107456",
          "histogram": [
           {
            "bin_start": 53056,
            "bin_end": 58496,
            "count": 1
           },
           {
            "bin_start": 58496,
            "bin_end": 63936,
            "count": 0
           },
           {
            "bin_start": 63936,
            "bin_end": 69376,
            "count": 0
           },
           {
            "bin_start": 69376,
            "bin_end": 74816,
            "count": 0
           },
           {
            "bin_start": 74816,
            "bin_end": 80256,
            "count": 0
           },
           {
            "bin_start": 80256,
            "bin_end": 85696,
            "count": 0
           },
           {
            "bin_start": 85696,
            "bin_end": 91136,
            "count": 2
           },
           {
            "bin_start": 91136,
            "bin_end": 96576,
            "count": 0
           },
           {
            "bin_start": 96576,
            "bin_end": 102016,
            "count": 0
           },
           {
            "bin_start": 102016,
            "bin_end": 107456,
            "count": 2
           }
          ]
         }
        },
        {
         "name": "GRUPOREFERENCIA",
         "dtype": "object",
         "stats": {
          "unique_count": 3,
          "nan_count": 0,
          "categories": [
           {
            "name": "ADMINISTRACI�N Y AFINES",
            "count": 2
           },
           {
            "name": "EDUCACI�N",
            "count": 2
           },
           {
            "name": "SALUD",
            "count": 1
           }
          ]
         }
        },
        {
         "name": "ESTU_PRGM_CODMUNICIPIO",
         "dtype": "int64",
         "stats": {
          "unique_count": 4,
          "nan_count": 0,
          "min": "8001",
          "max": "47001",
          "histogram": [
           {
            "bin_start": 8001,
            "bin_end": 11901,
            "count": 3
           },
           {
            "bin_start": 11901,
            "bin_end": 15801,
            "count": 0
           },
           {
            "bin_start": 15801,
            "bin_end": 19701,
            "count": 0
           },
           {
            "bin_start": 19701,
            "bin_end": 23601,
            "count": 0
           },
           {
            "bin_start": 23601,
            "bin_end": 27501,
            "count": 0
           },
           {
            "bin_start": 27501,
            "bin_end": 31401,
            "count": 0
           },
           {
            "bin_start": 31401,
            "bin_end": 35301,
            "count": 0
           },
           {
            "bin_start": 35301,
            "bin_end": 39201,
            "count": 0
           },
           {
            "bin_start": 39201,
            "bin_end": 43101,
            "count": 0
           },
           {
            "bin_start": 43101,
            "bin_end": 47001,
            "count": 2
           }
          ]
         }
        },
        {
         "name": "ESTU_PRGM_MUNICIPIO",
         "dtype": "object",
         "stats": {
          "unique_count": 4,
          "nan_count": 0,
          "categories": [
           {
            "name": "BOGOT� D.C.",
            "count": 2
           },
           {
            "name": "SANTA MARTA",
            "count": 1
           },
           {
            "name": "2 others",
            "count": 2
           }
          ]
         }
        },
        {
         "name": "ESTU_PRGM_DEPARTAMENTO",
         "dtype": "object",
         "stats": {
          "unique_count": 4,
          "nan_count": 0,
          "categories": [
           {
            "name": "BOGOT�",
            "count": 2
           },
           {
            "name": "MAGDALENA",
            "count": 1
           },
           {
            "name": "2 others",
            "count": 2
           }
          ]
         }
        },
        {
         "name": "ESTU_NIVEL_PRGM_ACADEMICO",
         "dtype": "object",
         "stats": {
          "unique_count": 1,
          "nan_count": 0,
          "categories": [
           {
            "name": "UNIVERSITARIO",
            "count": 5
           }
          ]
         }
        },
        {
         "name": "ESTU_METODO_PRGM",
         "dtype": "object",
         "stats": {
          "unique_count": 3,
          "nan_count": 0,
          "categories": [
           {
            "name": "DISTANCIA",
            "count": 3
           },
           {
            "name": "PRESENCIAL",
            "count": 1
           },
           {
            "name": "DISTANCIA VITUAL",
            "count": 1
           }
          ]
         }
        },
        {
         "name": "ESTU_NUCLEO_PREGRADO",
         "dtype": "object",
         "stats": {
          "unique_count": 3,
          "nan_count": 0,
          "categories": [
           {
            "name": "ADMINISTRACI�N",
            "count": 2
           },
           {
            "name": "EDUCACI�N",
            "count": 2
           },
           {
            "name": "SALUD PUBLICA",
            "count": 1
           }
          ]
         }
        },
        {
         "name": "ESTU_INST_CODMUNICIPIO",
         "dtype": "int64",
         "stats": {
          "unique_count": 3,
          "nan_count": 0,
          "min": "11001",
          "max": "47001",
          "histogram": [
           {
            "bin_start": 11001,
            "bin_end": 14601,
            "count": 3
           },
           {
            "bin_start": 14601,
            "bin_end": 18201,
            "count": 0
           },
           {
            "bin_start": 18201,
            "bin_end": 21801,
            "count": 0
           },
           {
            "bin_start": 21801,
            "bin_end": 25401,
            "count": 0
           },
           {
            "bin_start": 25401,
            "bin_end": 29001,
            "count": 0
           },
           {
            "bin_start": 29001,
            "bin_end": 32601,
            "count": 0
           },
           {
            "bin_start": 32601,
            "bin_end": 36201,
            "count": 0
           },
           {
            "bin_start": 36201,
            "bin_end": 39801,
            "count": 0
           },
           {
            "bin_start": 39801,
            "bin_end": 43401,
            "count": 0
           },
           {
            "bin_start": 43401,
            "bin_end": 47001,
            "count": 2
           }
          ]
         }
        },
        {
         "name": "ESTU_INST_MUNICIPIO",
         "dtype": "object",
         "stats": {
          "unique_count": 3,
          "nan_count": 0,
          "categories": [
           {
            "name": "BOGOT� D.C.",
            "count": 3
           },
           {
            "name": "SANTA MARTA",
            "count": 1
           },
           {
            "name": "RIOHACHA",
            "count": 1
           }
          ]
         }
        },
        {
         "name": "ESTU_INST_DEPARTAMENTO",
         "dtype": "object",
         "stats": {
          "unique_count": 3,
          "nan_count": 0,
          "categories": [
           {
            "name": "BOGOT�",
            "count": 3
           },
           {
            "name": "MAGDALENA",
            "count": 1
           },
           {
            "name": "LA GUAJIRA",
            "count": 1
           }
          ]
         }
        },
        {
         "name": "INST_CARACTER_ACADEMICO",
         "dtype": "object",
         "stats": {
          "unique_count": 2,
          "nan_count": 0,
          "categories": [
           {
            "name": "UNIVERSIDAD",
            "count": 3
           },
           {
            "name": "INSTITUCI�N UNIVERSITARIA",
            "count": 2
           }
          ]
         }
        },
        {
         "name": "INST_ORIGEN",
         "dtype": "object",
         "stats": {
          "unique_count": 3,
          "nan_count": 0,
          "categories": [
           {
            "name": "NO OFICIAL - CORPORACI�N",
            "count": 2
           },
           {
            "name": "OFICIAL DEPARTAMENTAL",
            "count": 2
           },
           {
            "name": "NO OFICIAL - FUNDACI�N",
            "count": 1
           }
          ]
         }
        },
        {
         "name": "ESTU_PRIVADO_LIBERTAD",
         "dtype": "object",
         "stats": {
          "unique_count": 1,
          "nan_count": 0,
          "categories": [
           {
            "name": "N",
            "count": 5
           }
          ]
         }
        },
        {
         "name": "ESTU_COD_MCPIO_PRESENTACION",
         "dtype": "float64",
         "stats": {
          "unique_count": 3,
          "nan_count": 0,
          "min": "8001.0",
          "max": "20001.0",
          "histogram": [
           {
            "bin_start": 8001,
            "bin_end": 9201,
            "count": 1
           },
           {
            "bin_start": 9201,
            "bin_end": 10401,
            "count": 0
           },
           {
            "bin_start": 10401,
            "bin_end": 11601,
            "count": 3
           },
           {
            "bin_start": 11601,
            "bin_end": 12801,
            "count": 0
           },
           {
            "bin_start": 12801,
            "bin_end": 14001,
            "count": 0
           },
           {
            "bin_start": 14001,
            "bin_end": 15201,
            "count": 0
           },
           {
            "bin_start": 15201,
            "bin_end": 16401,
            "count": 0
           },
           {
            "bin_start": 16401,
            "bin_end": 17601,
            "count": 0
           },
           {
            "bin_start": 17601,
            "bin_end": 18801,
            "count": 0
           },
           {
            "bin_start": 18801,
            "bin_end": 20001,
            "count": 1
           }
          ]
         }
        },
        {
         "name": "ESTU_MCPIO_PRESENTACION",
         "dtype": "object",
         "stats": {
          "unique_count": 3,
          "nan_count": 0,
          "categories": [
           {
            "name": "BOGOT� D.C.",
            "count": 3
           },
           {
            "name": "VALLEDUPAR",
            "count": 1
           },
           {
            "name": "BARRANQUILLA",
            "count": 1
           }
          ]
         }
        },
        {
         "name": "ESTU_DEPTO_PRESENTACION",
         "dtype": "object",
         "stats": {
          "unique_count": 3,
          "nan_count": 0,
          "categories": [
           {
            "name": "BOGOT�",
            "count": 3
           },
           {
            "name": "CESAR",
            "count": 1
           },
           {
            "name": "ATLANTICO",
            "count": 1
           }
          ]
         }
        },
        {
         "name": "ESTU_COD_DEPTO_PRESENTACION",
         "dtype": "float64",
         "stats": {
          "unique_count": 3,
          "nan_count": 0,
          "min": "8.0",
          "max": "20.0",
          "histogram": [
           {
            "bin_start": 8,
            "bin_end": 9.2,
            "count": 1
           },
           {
            "bin_start": 9.2,
            "bin_end": 10.4,
            "count": 0
           },
           {
            "bin_start": 10.4,
            "bin_end": 11.6,
            "count": 3
           },
           {
            "bin_start": 11.6,
            "bin_end": 12.8,
            "count": 0
           },
           {
            "bin_start": 12.8,
            "bin_end": 14,
            "count": 0
           },
           {
            "bin_start": 14,
            "bin_end": 15.2,
            "count": 0
           },
           {
            "bin_start": 15.2,
            "bin_end": 16.4,
            "count": 0
           },
           {
            "bin_start": 16.4,
            "bin_end": 17.6,
            "count": 0
           },
           {
            "bin_start": 17.6,
            "bin_end": 18.799999999999997,
            "count": 0
           },
           {
            "bin_start": 18.799999999999997,
            "bin_end": 20,
            "count": 1
           }
          ]
         }
        },
        {
         "name": "MOD_RAZONA_CUANTITAT_PUNT",
         "dtype": "int64",
         "stats": {
          "unique_count": 4,
          "nan_count": 0,
          "min": "116",
          "max": "155",
          "histogram": [
           {
            "bin_start": 116,
            "bin_end": 119.9,
            "count": 2
           },
           {
            "bin_start": 119.9,
            "bin_end": 123.8,
            "count": 0
           },
           {
            "bin_start": 123.8,
            "bin_end": 127.7,
            "count": 0
           },
           {
            "bin_start": 127.7,
            "bin_end": 131.6,
            "count": 0
           },
           {
            "bin_start": 131.6,
            "bin_end": 135.5,
            "count": 0
           },
           {
            "bin_start": 135.5,
            "bin_end": 139.4,
            "count": 2
           },
           {
            "bin_start": 139.4,
            "bin_end": 143.3,
            "count": 0
           },
           {
            "bin_start": 143.3,
            "bin_end": 147.2,
            "count": 0
           },
           {
            "bin_start": 147.2,
            "bin_end": 151.1,
            "count": 0
           },
           {
            "bin_start": 151.1,
            "bin_end": 155,
            "count": 1
           }
          ]
         }
        },
        {
         "name": "MOD_RAZONA_CUANTITAT_DESEM",
         "dtype": "int64",
         "stats": {
          "unique_count": 3,
          "nan_count": 0,
          "min": "1",
          "max": "3",
          "histogram": [
           {
            "bin_start": 1,
            "bin_end": 1.2,
            "count": 2
           },
           {
            "bin_start": 1.2,
            "bin_end": 1.4,
            "count": 0
           },
           {
            "bin_start": 1.4,
            "bin_end": 1.6,
            "count": 0
           },
           {
            "bin_start": 1.6,
            "bin_end": 1.8,
            "count": 0
           },
           {
            "bin_start": 1.8,
            "bin_end": 2,
            "count": 0
           },
           {
            "bin_start": 2,
            "bin_end": 2.2,
            "count": 2
           },
           {
            "bin_start": 2.2,
            "bin_end": 2.4000000000000004,
            "count": 0
           },
           {
            "bin_start": 2.4000000000000004,
            "bin_end": 2.6,
            "count": 0
           },
           {
            "bin_start": 2.6,
            "bin_end": 2.8,
            "count": 0
           },
           {
            "bin_start": 2.8,
            "bin_end": 3,
            "count": 1
           }
          ]
         }
        },
        {
         "name": "MOD_RAZONA_CUANTITATIVO_PNAL",
         "dtype": "int64",
         "stats": {
          "unique_count": 4,
          "nan_count": 0,
          "min": "17",
          "max": "59",
          "histogram": [
           {
            "bin_start": 17,
            "bin_end": 21.2,
            "count": 2
           },
           {
            "bin_start": 21.2,
            "bin_end": 25.4,
            "count": 0
           },
           {
            "bin_start": 25.4,
            "bin_end": 29.6,
            "count": 0
           },
           {
            "bin_start": 29.6,
            "bin_end": 33.8,
            "count": 0
           },
           {
            "bin_start": 33.8,
            "bin_end": 38,
            "count": 1
           },
           {
            "bin_start": 38,
            "bin_end": 42.2,
            "count": 1
           },
           {
            "bin_start": 42.2,
            "bin_end": 46.400000000000006,
            "count": 0
           },
           {
            "bin_start": 46.400000000000006,
            "bin_end": 50.6,
            "count": 0
           },
           {
            "bin_start": 50.6,
            "bin_end": 54.800000000000004,
            "count": 0
           },
           {
            "bin_start": 54.800000000000004,
            "bin_end": 59,
            "count": 1
           }
          ]
         }
        },
        {
         "name": "MOD_RAZONA_CUANTITATIVO_PNBC",
         "dtype": "float64",
         "stats": {
          "unique_count": 5,
          "nan_count": 0,
          "min": "30.0",
          "max": "69.0",
          "histogram": [
           {
            "bin_start": 30,
            "bin_end": 33.9,
            "count": 2
           },
           {
            "bin_start": 33.9,
            "bin_end": 37.8,
            "count": 0
           },
           {
            "bin_start": 37.8,
            "bin_end": 41.7,
            "count": 0
           },
           {
            "bin_start": 41.7,
            "bin_end": 45.6,
            "count": 1
           },
           {
            "bin_start": 45.6,
            "bin_end": 49.5,
            "count": 0
           },
           {
            "bin_start": 49.5,
            "bin_end": 53.4,
            "count": 0
           },
           {
            "bin_start": 53.4,
            "bin_end": 57.3,
            "count": 0
           },
           {
            "bin_start": 57.3,
            "bin_end": 61.2,
            "count": 1
           },
           {
            "bin_start": 61.2,
            "bin_end": 65.1,
            "count": 0
           },
           {
            "bin_start": 65.1,
            "bin_end": 69,
            "count": 1
           }
          ]
         }
        },
        {
         "name": "MOD_LECTURA_CRITICA_PUNT",
         "dtype": "int64",
         "stats": {
          "unique_count": 5,
          "nan_count": 0,
          "min": "108",
          "max": "198",
          "histogram": [
           {
            "bin_start": 108,
            "bin_end": 117,
            "count": 2
           },
           {
            "bin_start": 117,
            "bin_end": 126,
            "count": 0
           },
           {
            "bin_start": 126,
            "bin_end": 135,
            "count": 1
           },
           {
            "bin_start": 135,
            "bin_end": 144,
            "count": 0
           },
           {
            "bin_start": 144,
            "bin_end": 153,
            "count": 0
           },
           {
            "bin_start": 153,
            "bin_end": 162,
            "count": 1
           },
           {
            "bin_start": 162,
            "bin_end": 171,
            "count": 0
           },
           {
            "bin_start": 171,
            "bin_end": 180,
            "count": 0
           },
           {
            "bin_start": 180,
            "bin_end": 189,
            "count": 0
           },
           {
            "bin_start": 189,
            "bin_end": 198,
            "count": 1
           }
          ]
         }
        },
        {
         "name": "MOD_LECTURA_CRITICA_DESEM",
         "dtype": "int64",
         "stats": {
          "unique_count": 3,
          "nan_count": 0,
          "min": "1",
          "max": "3",
          "histogram": [
           {
            "bin_start": 1,
            "bin_end": 1.2,
            "count": 2
           },
           {
            "bin_start": 1.2,
            "bin_end": 1.4,
            "count": 0
           },
           {
            "bin_start": 1.4,
            "bin_end": 1.6,
            "count": 0
           },
           {
            "bin_start": 1.6,
            "bin_end": 1.8,
            "count": 0
           },
           {
            "bin_start": 1.8,
            "bin_end": 2,
            "count": 0
           },
           {
            "bin_start": 2,
            "bin_end": 2.2,
            "count": 2
           },
           {
            "bin_start": 2.2,
            "bin_end": 2.4000000000000004,
            "count": 0
           },
           {
            "bin_start": 2.4000000000000004,
            "bin_end": 2.6,
            "count": 0
           },
           {
            "bin_start": 2.6,
            "bin_end": 2.8,
            "count": 0
           },
           {
            "bin_start": 2.8,
            "bin_end": 3,
            "count": 1
           }
          ]
         }
        },
        {
         "name": "MOD_LECTURA_CRITICA_PNAL",
         "dtype": "int64",
         "stats": {
          "unique_count": 5,
          "nan_count": 0,
          "min": "8",
          "max": "94",
          "histogram": [
           {
            "bin_start": 8,
            "bin_end": 16.6,
            "count": 2
           },
           {
            "bin_start": 16.6,
            "bin_end": 25.2,
            "count": 0
           },
           {
            "bin_start": 25.2,
            "bin_end": 33.8,
            "count": 1
           },
           {
            "bin_start": 33.8,
            "bin_end": 42.4,
            "count": 0
           },
           {
            "bin_start": 42.4,
            "bin_end": 51,
            "count": 0
           },
           {
            "bin_start": 51,
            "bin_end": 59.599999999999994,
            "count": 1
           },
           {
            "bin_start": 59.599999999999994,
            "bin_end": 68.19999999999999,
            "count": 0
           },
           {
            "bin_start": 68.19999999999999,
            "bin_end": 76.8,
            "count": 0
           },
           {
            "bin_start": 76.8,
            "bin_end": 85.39999999999999,
            "count": 0
           },
           {
            "bin_start": 85.39999999999999,
            "bin_end": 94,
            "count": 1
           }
          ]
         }
        },
        {
         "name": "MOD_LECTURA_CRITICA_PNBC",
         "dtype": "float64",
         "stats": {
          "unique_count": 5,
          "nan_count": 0,
          "min": "11.0",
          "max": "98.0",
          "histogram": [
           {
            "bin_start": 11,
            "bin_end": 19.7,
            "count": 2
           },
           {
            "bin_start": 19.7,
            "bin_end": 28.4,
            "count": 0
           },
           {
            "bin_start": 28.4,
            "bin_end": 37.099999999999994,
            "count": 0
           },
           {
            "bin_start": 37.099999999999994,
            "bin_end": 45.8,
            "count": 0
           },
           {
            "bin_start": 45.8,
            "bin_end": 54.5,
            "count": 1
           },
           {
            "bin_start": 54.5,
            "bin_end": 63.199999999999996,
            "count": 1
           },
           {
            "bin_start": 63.199999999999996,
            "bin_end": 71.89999999999999,
            "count": 0
           },
           {
            "bin_start": 71.89999999999999,
            "bin_end": 80.6,
            "count": 0
           },
           {
            "bin_start": 80.6,
            "bin_end": 89.3,
            "count": 0
           },
           {
            "bin_start": 89.3,
            "bin_end": 98,
            "count": 1
           }
          ]
         }
        },
        {
         "name": "MOD_COMPETEN_CIUDADA_PUNT",
         "dtype": "int64",
         "stats": {
          "unique_count": 5,
          "nan_count": 0,
          "min": "104",
          "max": "151",
          "histogram": [
           {
            "bin_start": 104,
            "bin_end": 108.7,
            "count": 2
           },
           {
            "bin_start": 108.7,
            "bin_end": 113.4,
            "count": 0
           },
           {
            "bin_start": 113.4,
            "bin_end": 118.1,
            "count": 0
           },
           {
            "bin_start": 118.1,
            "bin_end": 122.8,
            "count": 0
           },
           {
            "bin_start": 122.8,
            "bin_end": 127.5,
            "count": 1
           },
           {
            "bin_start": 127.5,
            "bin_end": 132.2,
            "count": 0
           },
           {
            "bin_start": 132.2,
            "bin_end": 136.9,
            "count": 0
           },
           {
            "bin_start": 136.9,
            "bin_end": 141.6,
            "count": 0
           },
           {
            "bin_start": 141.6,
            "bin_end": 146.3,
            "count": 1
           },
           {
            "bin_start": 146.3,
            "bin_end": 151,
            "count": 1
           }
          ]
         }
        },
        {
         "name": "MOD_COMPETEN_CIUDADA_DESEM",
         "dtype": "int64",
         "stats": {
          "unique_count": 2,
          "nan_count": 0,
          "min": "1",
          "max": "2",
          "histogram": [
           {
            "bin_start": 1,
            "bin_end": 1.1,
            "count": 3
           },
           {
            "bin_start": 1.1,
            "bin_end": 1.2,
            "count": 0
           },
           {
            "bin_start": 1.2,
            "bin_end": 1.3,
            "count": 0
           },
           {
            "bin_start": 1.3,
            "bin_end": 1.4,
            "count": 0
           },
           {
            "bin_start": 1.4,
            "bin_end": 1.5,
            "count": 0
           },
           {
            "bin_start": 1.5,
            "bin_end": 1.6,
            "count": 0
           },
           {
            "bin_start": 1.6,
            "bin_end": 1.7000000000000002,
            "count": 0
           },
           {
            "bin_start": 1.7000000000000002,
            "bin_end": 1.8,
            "count": 0
           },
           {
            "bin_start": 1.8,
            "bin_end": 1.9,
            "count": 0
           },
           {
            "bin_start": 1.9,
            "bin_end": 2,
            "count": 2
           }
          ]
         }
        },
        {
         "name": "MOD_COMPETEN_CIUDADA_PNAL",
         "dtype": "int64",
         "stats": {
          "unique_count": 5,
          "nan_count": 0,
          "min": "8",
          "max": "46",
          "histogram": [
           {
            "bin_start": 8,
            "bin_end": 11.8,
            "count": 2
           },
           {
            "bin_start": 11.8,
            "bin_end": 15.6,
            "count": 0
           },
           {
            "bin_start": 15.6,
            "bin_end": 19.4,
            "count": 1
           },
           {
            "bin_start": 19.4,
            "bin_end": 23.2,
            "count": 0
           },
           {
            "bin_start": 23.2,
            "bin_end": 27,
            "count": 0
           },
           {
            "bin_start": 27,
            "bin_end": 30.799999999999997,
            "count": 0
           },
           {
            "bin_start": 30.799999999999997,
            "bin_end": 34.599999999999994,
            "count": 0
           },
           {
            "bin_start": 34.599999999999994,
            "bin_end": 38.4,
            "count": 1
           },
           {
            "bin_start": 38.4,
            "bin_end": 42.199999999999996,
            "count": 0
           },
           {
            "bin_start": 42.199999999999996,
            "bin_end": 46,
            "count": 1
           }
          ]
         }
        },
        {
         "name": "MOD_COMPETEN_CIUDADA_PNBC",
         "dtype": "float64",
         "stats": {
          "unique_count": 5,
          "nan_count": 0,
          "min": "11.0",
          "max": "56.0",
          "histogram": [
           {
            "bin_start": 11,
            "bin_end": 15.5,
            "count": 2
           },
           {
            "bin_start": 15.5,
            "bin_end": 20,
            "count": 0
           },
           {
            "bin_start": 20,
            "bin_end": 24.5,
            "count": 0
           },
           {
            "bin_start": 24.5,
            "bin_end": 29,
            "count": 0
           },
           {
            "bin_start": 29,
            "bin_end": 33.5,
            "count": 0
           },
           {
            "bin_start": 33.5,
            "bin_end": 38,
            "count": 1
           },
           {
            "bin_start": 38,
            "bin_end": 42.5,
            "count": 0
           },
           {
            "bin_start": 42.5,
            "bin_end": 47,
            "count": 0
           },
           {
            "bin_start": 47,
            "bin_end": 51.5,
            "count": 1
           },
           {
            "bin_start": 51.5,
            "bin_end": 56,
            "count": 1
           }
          ]
         }
        },
        {
         "name": "MOD_INGLES_PUNT",
         "dtype": "int64",
         "stats": {
          "unique_count": 5,
          "nan_count": 0,
          "min": "110",
          "max": "182",
          "histogram": [
           {
            "bin_start": 110,
            "bin_end": 117.2,
            "count": 1
           },
           {
            "bin_start": 117.2,
            "bin_end": 124.4,
            "count": 1
           },
           {
            "bin_start": 124.4,
            "bin_end": 131.6,
            "count": 2
           },
           {
            "bin_start": 131.6,
            "bin_end": 138.8,
            "count": 0
           },
           {
            "bin_start": 138.8,
            "bin_end": 146,
            "count": 0
           },
           {
            "bin_start": 146,
            "bin_end": 153.2,
            "count": 0
           },
           {
            "bin_start": 153.2,
            "bin_end": 160.4,
            "count": 0
           },
           {
            "bin_start": 160.4,
            "bin_end": 167.6,
            "count": 0
           },
           {
            "bin_start": 167.6,
            "bin_end": 174.8,
            "count": 0
           },
           {
            "bin_start": 174.8,
            "bin_end": 182,
            "count": 1
           }
          ]
         }
        },
        {
         "name": "MOD_INGLES_DESEM",
         "dtype": "object",
         "stats": {
          "unique_count": 3,
          "nan_count": 0,
          "categories": [
           {
            "name": "#�VALOR!",
            "count": 2
           },
           {
            "name": "A1",
            "count": 2
           },
           {
            "name": "B1",
            "count": 1
           }
          ]
         }
        },
        {
         "name": "MOD_INGLES_PNAL",
         "dtype": "int64",
         "stats": {
          "unique_count": 5,
          "nan_count": 0,
          "min": "6",
          "max": "79",
          "histogram": [
           {
            "bin_start": 6,
            "bin_end": 13.3,
            "count": 2
           },
           {
            "bin_start": 13.3,
            "bin_end": 20.6,
            "count": 0
           },
           {
            "bin_start": 20.6,
            "bin_end": 27.9,
            "count": 2
           },
           {
            "bin_start": 27.9,
            "bin_end": 35.2,
            "count": 0
           },
           {
            "bin_start": 35.2,
            "bin_end": 42.5,
            "count": 0
           },
           {
            "bin_start": 42.5,
            "bin_end": 49.8,
            "count": 0
           },
           {
            "bin_start": 49.8,
            "bin_end": 57.1,
            "count": 0
           },
           {
            "bin_start": 57.1,
            "bin_end": 64.4,
            "count": 0
           },
           {
            "bin_start": 64.4,
            "bin_end": 71.7,
            "count": 0
           },
           {
            "bin_start": 71.7,
            "bin_end": 79,
            "count": 1
           }
          ]
         }
        },
        {
         "name": "MOD_INGLES_PNBC",
         "dtype": "float64",
         "stats": {
          "unique_count": 5,
          "nan_count": 0,
          "min": "9.0",
          "max": "86.0",
          "histogram": [
           {
            "bin_start": 9,
            "bin_end": 16.7,
            "count": 2
           },
           {
            "bin_start": 16.7,
            "bin_end": 24.4,
            "count": 0
           },
           {
            "bin_start": 24.4,
            "bin_end": 32.1,
            "count": 0
           },
           {
            "bin_start": 32.1,
            "bin_end": 39.8,
            "count": 1
           },
           {
            "bin_start": 39.8,
            "bin_end": 47.5,
            "count": 1
           },
           {
            "bin_start": 47.5,
            "bin_end": 55.2,
            "count": 0
           },
           {
            "bin_start": 55.2,
            "bin_end": 62.9,
            "count": 0
           },
           {
            "bin_start": 62.9,
            "bin_end": 70.6,
            "count": 0
           },
           {
            "bin_start": 70.6,
            "bin_end": 78.3,
            "count": 0
           },
           {
            "bin_start": 78.3,
            "bin_end": 86,
            "count": 1
           }
          ]
         }
        },
        {
         "name": "MOD_COMUNI_ESCRITA_PUNT",
         "dtype": "float64",
         "stats": {
          "unique_count": 5,
          "nan_count": 0,
          "min": "114.0",
          "max": "133.0",
          "histogram": [
           {
            "bin_start": 114,
            "bin_end": 115.9,
            "count": 1
           },
           {
            "bin_start": 115.9,
            "bin_end": 117.8,
            "count": 0
           },
           {
            "bin_start": 117.8,
            "bin_end": 119.7,
            "count": 2
           },
           {
            "bin_start": 119.7,
            "bin_end": 121.6,
            "count": 0
           },
           {
            "bin_start": 121.6,
            "bin_end": 123.5,
            "count": 1
           },
           {
            "bin_start": 123.5,
            "bin_end": 125.4,
            "count": 0
           },
           {
            "bin_start": 125.4,
            "bin_end": 127.3,
            "count": 0
           },
           {
            "bin_start": 127.3,
            "bin_end": 129.2,
            "count": 0
           },
           {
            "bin_start": 129.2,
            "bin_end": 131.1,
            "count": 0
           },
           {
            "bin_start": 131.1,
            "bin_end": 133,
            "count": 1
           }
          ]
         }
        },
        {
         "name": "MOD_COMUNI_ESCRITA_DESEM",
         "dtype": "float64",
         "stats": {
          "unique_count": 2,
          "nan_count": 0,
          "min": "1.0",
          "max": "2.0",
          "histogram": [
           {
            "bin_start": 1,
            "bin_end": 1.1,
            "count": 1
           },
           {
            "bin_start": 1.1,
            "bin_end": 1.2,
            "count": 0
           },
           {
            "bin_start": 1.2,
            "bin_end": 1.3,
            "count": 0
           },
           {
            "bin_start": 1.3,
            "bin_end": 1.4,
            "count": 0
           },
           {
            "bin_start": 1.4,
            "bin_end": 1.5,
            "count": 0
           },
           {
            "bin_start": 1.5,
            "bin_end": 1.6,
            "count": 0
           },
           {
            "bin_start": 1.6,
            "bin_end": 1.7000000000000002,
            "count": 0
           },
           {
            "bin_start": 1.7000000000000002,
            "bin_end": 1.8,
            "count": 0
           },
           {
            "bin_start": 1.8,
            "bin_end": 1.9,
            "count": 0
           },
           {
            "bin_start": 1.9,
            "bin_end": 2,
            "count": 4
           }
          ]
         }
        },
        {
         "name": "MOD_COMUNI_ESCRITA_PNAL",
         "dtype": "float64",
         "stats": {
          "unique_count": 5,
          "nan_count": 0,
          "min": "16.0",
          "max": "43.0",
          "histogram": [
           {
            "bin_start": 16,
            "bin_end": 18.7,
            "count": 3
           },
           {
            "bin_start": 18.7,
            "bin_end": 21.4,
            "count": 1
           },
           {
            "bin_start": 21.4,
            "bin_end": 24.1,
            "count": 0
           },
           {
            "bin_start": 24.1,
            "bin_end": 26.8,
            "count": 0
           },
           {
            "bin_start": 26.8,
            "bin_end": 29.5,
            "count": 0
           },
           {
            "bin_start": 29.5,
            "bin_end": 32.2,
            "count": 0
           },
           {
            "bin_start": 32.2,
            "bin_end": 34.900000000000006,
            "count": 0
           },
           {
            "bin_start": 34.900000000000006,
            "bin_end": 37.6,
            "count": 0
           },
           {
            "bin_start": 37.6,
            "bin_end": 40.3,
            "count": 0
           },
           {
            "bin_start": 40.3,
            "bin_end": 43,
            "count": 1
           }
          ]
         }
        },
        {
         "name": "MOD_COMUNI_ESCRITA_PNBC",
         "dtype": "float64",
         "stats": {
          "unique_count": 5,
          "nan_count": 0,
          "min": "17.0",
          "max": "49.0",
          "histogram": [
           {
            "bin_start": 17,
            "bin_end": 20.2,
            "count": 1
           },
           {
            "bin_start": 20.2,
            "bin_end": 23.4,
            "count": 2
           },
           {
            "bin_start": 23.4,
            "bin_end": 26.6,
            "count": 0
           },
           {
            "bin_start": 26.6,
            "bin_end": 29.8,
            "count": 0
           },
           {
            "bin_start": 29.8,
            "bin_end": 33,
            "count": 1
           },
           {
            "bin_start": 33,
            "bin_end": 36.2,
            "count": 0
           },
           {
            "bin_start": 36.2,
            "bin_end": 39.400000000000006,
            "count": 0
           },
           {
            "bin_start": 39.400000000000006,
            "bin_end": 42.6,
            "count": 0
           },
           {
            "bin_start": 42.6,
            "bin_end": 45.8,
            "count": 0
           },
           {
            "bin_start": 45.8,
            "bin_end": 49,
            "count": 1
           }
          ]
         }
        },
        {
         "name": "PUNT_GLOBAL",
         "dtype": "int64",
         "stats": {
          "unique_count": 4,
          "nan_count": 0,
          "min": "117",
          "max": "164",
          "histogram": [
           {
            "bin_start": 117,
            "bin_end": 121.7,
            "count": 2
           },
           {
            "bin_start": 121.7,
            "bin_end": 126.4,
            "count": 1
           },
           {
            "bin_start": 126.4,
            "bin_end": 131.1,
            "count": 0
           },
           {
            "bin_start": 131.1,
            "bin_end": 135.8,
            "count": 1
           },
           {
            "bin_start": 135.8,
            "bin_end": 140.5,
            "count": 0
           },
           {
            "bin_start": 140.5,
            "bin_end": 145.2,
            "count": 0
           },
           {
            "bin_start": 145.2,
            "bin_end": 149.9,
            "count": 0
           },
           {
            "bin_start": 149.9,
            "bin_end": 154.6,
            "count": 0
           },
           {
            "bin_start": 154.6,
            "bin_end": 159.3,
            "count": 0
           },
           {
            "bin_start": 159.3,
            "bin_end": 164,
            "count": 1
           }
          ]
         }
        },
        {
         "name": "PERCENTIL_NBC",
         "dtype": "float64",
         "stats": {
          "unique_count": 5,
          "nan_count": 0,
          "min": "15.0",
          "max": "83.0",
          "histogram": [
           {
            "bin_start": 15,
            "bin_end": 21.8,
            "count": 2
           },
           {
            "bin_start": 21.8,
            "bin_end": 28.6,
            "count": 0
           },
           {
            "bin_start": 28.6,
            "bin_end": 35.4,
            "count": 0
           },
           {
            "bin_start": 35.4,
            "bin_end": 42.2,
            "count": 2
           },
           {
            "bin_start": 42.2,
            "bin_end": 49,
            "count": 0
           },
           {
            "bin_start": 49,
            "bin_end": 55.8,
            "count": 0
           },
           {
            "bin_start": 55.8,
            "bin_end": 62.6,
            "count": 0
           },
           {
            "bin_start": 62.6,
            "bin_end": 69.4,
            "count": 0
           },
           {
            "bin_start": 69.4,
            "bin_end": 76.19999999999999,
            "count": 0
           },
           {
            "bin_start": 76.19999999999999,
            "bin_end": 83,
            "count": 1
           }
          ]
         }
        },
        {
         "name": "PERCENTIL_GLOBAL",
         "dtype": "int64",
         "stats": {
          "unique_count": 4,
          "nan_count": 0,
          "min": "11",
          "max": "72",
          "histogram": [
           {
            "bin_start": 11,
            "bin_end": 17.1,
            "count": 3
           },
           {
            "bin_start": 17.1,
            "bin_end": 23.2,
            "count": 0
           },
           {
            "bin_start": 23.2,
            "bin_end": 29.299999999999997,
            "count": 1
           },
           {
            "bin_start": 29.299999999999997,
            "bin_end": 35.4,
            "count": 0
           },
           {
            "bin_start": 35.4,
            "bin_end": 41.5,
            "count": 0
           },
           {
            "bin_start": 41.5,
            "bin_end": 47.599999999999994,
            "count": 0
           },
           {
            "bin_start": 47.599999999999994,
            "bin_end": 53.699999999999996,
            "count": 0
           },
           {
            "bin_start": 53.699999999999996,
            "bin_end": 59.8,
            "count": 0
           },
           {
            "bin_start": 59.8,
            "bin_end": 65.9,
            "count": 0
           },
           {
            "bin_start": 65.9,
            "bin_end": 72,
            "count": 1
           }
          ]
         }
        },
        {
         "name": "ESTU_INSE_INDIVIDUAL",
         "dtype": "float64",
         "stats": {
          "unique_count": 5,
          "nan_count": 0,
          "min": "32.73512471",
          "max": "76.1374474",
          "histogram": [
           {
            "bin_start": 32.73512471,
            "bin_end": 37.075356979,
            "count": 1
           },
           {
            "bin_start": 37.075356979,
            "bin_end": 41.415589248,
            "count": 1
           },
           {
            "bin_start": 41.415589248,
            "bin_end": 45.755821517,
            "count": 1
           },
           {
            "bin_start": 45.755821517,
            "bin_end": 50.096053786,
            "count": 0
           },
           {
            "bin_start": 50.096053786,
            "bin_end": 54.436286055,
            "count": 0
           },
           {
            "bin_start": 54.436286055,
            "bin_end": 58.776518323999994,
            "count": 1
           },
           {
            "bin_start": 58.776518323999994,
            "bin_end": 63.116750593,
            "count": 0
           },
           {
            "bin_start": 63.116750593,
            "bin_end": 67.45698286199999,
            "count": 0
           },
           {
            "bin_start": 67.45698286199999,
            "bin_end": 71.797215131,
            "count": 0
           },
           {
            "bin_start": 71.797215131,
            "bin_end": 76.1374474,
            "count": 1
           }
          ]
         }
        },
        {
         "name": "ESTU_NSE_INDIVIDUAL",
         "dtype": "float64",
         "stats": {
          "unique_count": 3,
          "nan_count": 0,
          "min": "1.0",
          "max": "4.0",
          "histogram": [
           {
            "bin_start": 1,
            "bin_end": 1.3,
            "count": 3
           },
           {
            "bin_start": 1.3,
            "bin_end": 1.6,
            "count": 0
           },
           {
            "bin_start": 1.6,
            "bin_end": 1.9,
            "count": 0
           },
           {
            "bin_start": 1.9,
            "bin_end": 2.2,
            "count": 0
           },
           {
            "bin_start": 2.2,
            "bin_end": 2.5,
            "count": 0
           },
           {
            "bin_start": 2.5,
            "bin_end": 2.8,
            "count": 0
           },
           {
            "bin_start": 2.8,
            "bin_end": 3.1,
            "count": 1
           },
           {
            "bin_start": 3.1,
            "bin_end": 3.4,
            "count": 0
           },
           {
            "bin_start": 3.4,
            "bin_end": 3.6999999999999997,
            "count": 0
           },
           {
            "bin_start": 3.6999999999999997,
            "bin_end": 4,
            "count": 1
           }
          ]
         }
        },
        {
         "name": "ESTU_NSE_IES",
         "dtype": "int64",
         "stats": {
          "unique_count": 2,
          "nan_count": 0,
          "min": "2",
          "max": "4",
          "histogram": [
           {
            "bin_start": 2,
            "bin_end": 2.2,
            "count": 4
           },
           {
            "bin_start": 2.2,
            "bin_end": 2.4,
            "count": 0
           },
           {
            "bin_start": 2.4,
            "bin_end": 2.6,
            "count": 0
           },
           {
            "bin_start": 2.6,
            "bin_end": 2.8,
            "count": 0
           },
           {
            "bin_start": 2.8,
            "bin_end": 3,
            "count": 0
           },
           {
            "bin_start": 3,
            "bin_end": 3.2,
            "count": 0
           },
           {
            "bin_start": 3.2,
            "bin_end": 3.4000000000000004,
            "count": 0
           },
           {
            "bin_start": 3.4000000000000004,
            "bin_end": 3.6,
            "count": 0
           },
           {
            "bin_start": 3.6,
            "bin_end": 3.8,
            "count": 0
           },
           {
            "bin_start": 3.8,
            "bin_end": 4,
            "count": 1
           }
          ]
         }
        },
        {
         "name": "ESTU_ESTADOINVESTIGACION",
         "dtype": "object",
         "stats": {
          "unique_count": 1,
          "nan_count": 0,
          "categories": [
           {
            "name": "PUBLICAR",
            "count": 5
           }
          ]
         }
        },
        {
         "name": "_deepnote_index_column",
         "dtype": "int64"
        }
       ],
       "rows": [
        {
         "ESTU_TIPODOCUMENTO": "CC",
         "ESTU_NACIONALIDAD": "COLOMBIA",
         "ESTU_GENERO": "M",
         "ESTU_FECHANACIMIENTO": "29/05/1990",
         "ESTU_EXTERIOR": "NO",
         "PERIODO": 20203,
         "ESTU_CONSECUTIVO": "EK202030122120",
         "ESTU_ESTUDIANTE": "ESTUDIANTE",
         "ESTU_PAIS_RESIDE": "COLOMBIA",
         "ESTU_DEPTO_RESIDE": "BOGOT�",
         "ESTU_COD_RESIDE_DEPTO": 11,
         "ESTU_MCPIO_RESIDE": "BOGOT� D.C.",
         "ESTU_COD_RESIDE_MCPIO": 11001,
         "ESTU_AREARESIDE": "Cabecera Municipal",
         "ESTU_ESTADOCIVIL": "Soltero",
         "ESTU_COLE_TERMINO": "nan",
         "ESTU_CODDANE_COLE_TERMINO": "nan",
         "ESTU_COD_COLE_MCPIO_TERMINO": "nan",
         "ESTU_TITULOOBTENIDOBACHILLER": "Bachiller acad�mico",
         "ESTU_VALORMATRICULAUNIVERSIDAD": "Entre 1 mill�n y menos de 2.5 millones",
         "ESTU_PAGOMATRICULABECA": "No",
         "ESTU_PAGOMATRICULACREDITO": "Si",
         "ESTU_PAGOMATRICULAPADRES": "Si",
         "ESTU_PAGOMATRICULAPROPIO": "Si",
         "ESTU_COMOCAPACITOEXAMENSB11": "Repas� por cuenta propia",
         "ESTU_CURSODOCENTESIES": "nan",
         "ESTU_CURSOIESAPOYOEXTERNO": "nan",
         "ESTU_CURSOIESEXTERNA": "nan",
         "ESTU_SIMULACROTIPOICFES": "nan",
         "ESTU_ACTIVIDADREFUERZOAREAS": "nan",
         "ESTU_ACTIVIDADREFUERZOGENERIC": "nan",
         "ESTU_TIPODOCUMENTOSB11": "TI",
         "ESTU_SEMESTRECURSA": "10",
         "FAMI_EDUCACIONPADRE": "Secundaria (Bachillerato) incompleta",
         "FAMI_EDUCACIONMADRE": "Primaria incompleta",
         "FAMI_TRABAJOLABORPADRE": "Pensionado",
         "FAMI_TRABAJOLABORMADRE": "Pensionado",
         "FAMI_ESTRATOVIVIENDA": "Estrato 2",
         "ESTU_OTROCOLE_TERMINO": "nan",
         "FAMI_TIENEINTERNET": "Si",
         "FAMI_TIENECOMPUTADOR": "Si",
         "FAMI_TIENELAVADORA": "Si",
         "FAMI_TIENEHORNOMICROOGAS": "Si",
         "FAMI_TIENESERVICIOTV": "Si",
         "FAMI_TIENEAUTOMOVIL": "No",
         "FAMI_TIENEMOTOCICLETA": "No",
         "FAMI_TIENECONSOLAVIDEOJUEGOS": "No",
         "FAMI_CUANTOSCOMPARTEBA�O": "NINGUNA",
         "ESTU_HORASSEMANATRABAJA": "M�s de 30 horas",
         "INST_COD_INSTITUCION": 2829,
         "INST_NOMBRE_INSTITUCION": "CORPORACION UNIVERSITARIA MINUTO DE DIOS -UNIMINUTO-BOGOT� D.C.",
         "ESTU_PRGM_ACADEMICO": "ADMINISTRACI�N FINANCIERA",
         "ESTU_SNIES_PRGMACADEMICO": 90921,
         "GRUPOREFERENCIA": "ADMINISTRACI�N Y AFINES",
         "ESTU_PRGM_CODMUNICIPIO": 11001,
         "ESTU_PRGM_MUNICIPIO": "BOGOT� D.C.",
         "ESTU_PRGM_DEPARTAMENTO": "BOGOT�",
         "ESTU_NIVEL_PRGM_ACADEMICO": "UNIVERSITARIO",
         "ESTU_METODO_PRGM": "DISTANCIA",
         "ESTU_NUCLEO_PREGRADO": "ADMINISTRACI�N",
         "ESTU_INST_CODMUNICIPIO": 11001,
         "ESTU_INST_MUNICIPIO": "BOGOT� D.C.",
         "ESTU_INST_DEPARTAMENTO": "BOGOT�",
         "INST_CARACTER_ACADEMICO": "INSTITUCI�N UNIVERSITARIA",
         "INST_ORIGEN": "NO OFICIAL - CORPORACI�N",
         "ESTU_PRIVADO_LIBERTAD": "N",
         "ESTU_COD_MCPIO_PRESENTACION": 11001,
         "ESTU_MCPIO_PRESENTACION": "BOGOT� D.C.",
         "ESTU_DEPTO_PRESENTACION": "BOGOT�",
         "ESTU_COD_DEPTO_PRESENTACION": 11,
         "MOD_RAZONA_CUANTITAT_PUNT": 136,
         "MOD_RAZONA_CUANTITAT_DESEM": 2,
         "MOD_RAZONA_CUANTITATIVO_PNAL": 36,
         "MOD_RAZONA_CUANTITATIVO_PNBC": 45,
         "MOD_LECTURA_CRITICA_PUNT": 108,
         "MOD_LECTURA_CRITICA_DESEM": 1,
         "MOD_LECTURA_CRITICA_PNAL": 8,
         "MOD_LECTURA_CRITICA_PNBC": 11,
         "MOD_COMPETEN_CIUDADA_PUNT": 104,
         "MOD_COMPETEN_CIUDADA_DESEM": 1,
         "MOD_COMPETEN_CIUDADA_PNAL": 8,
         "MOD_COMPETEN_CIUDADA_PNBC": 11,
         "MOD_INGLES_PUNT": 118,
         "MOD_INGLES_DESEM": "#�VALOR!",
         "MOD_INGLES_PNAL": 10,
         "MOD_INGLES_PNBC": 13,
         "MOD_COMUNI_ESCRITA_PUNT": 118,
         "MOD_COMUNI_ESCRITA_DESEM": 2,
         "MOD_COMUNI_ESCRITA_PNAL": 17,
         "MOD_COMUNI_ESCRITA_PNBC": 21,
         "PUNT_GLOBAL": 117,
         "PERCENTIL_NBC": 15,
         "PERCENTIL_GLOBAL": 11,
         "ESTU_INSE_INDIVIDUAL": 58.50020662,
         "ESTU_NSE_INDIVIDUAL": 3,
         "ESTU_NSE_IES": 2,
         "ESTU_ESTADOINVESTIGACION": "PUBLICAR",
         "_deepnote_index_column": 0
        },
        {
         "ESTU_TIPODOCUMENTO": "CE",
         "ESTU_NACIONALIDAD": "VENEZUELA",
         "ESTU_GENERO": "M",
         "ESTU_FECHANACIMIENTO": "28/12/1995",
         "ESTU_EXTERIOR": "NO",
         "PERIODO": 20203,
         "ESTU_CONSECUTIVO": "EK202030183321",
         "ESTU_ESTUDIANTE": "ESTUDIANTE",
         "ESTU_PAIS_RESIDE": "VENEZUELA",
         "ESTU_DEPTO_RESIDE": "BOGOT�",
         "ESTU_COD_RESIDE_DEPTO": 11,
         "ESTU_MCPIO_RESIDE": "BOGOT� D.C.",
         "ESTU_COD_RESIDE_MCPIO": 11001,
         "ESTU_AREARESIDE": "Cabecera Municipal",
         "ESTU_ESTADOCIVIL": "Soltero",
         "ESTU_COLE_TERMINO": "nan",
         "ESTU_CODDANE_COLE_TERMINO": "nan",
         "ESTU_COD_COLE_MCPIO_TERMINO": "nan",
         "ESTU_TITULOOBTENIDOBACHILLER": "Bachiller acad�mico",
         "ESTU_VALORMATRICULAUNIVERSIDAD": "Entre 4 millones y menos de 5.5 millones",
         "ESTU_PAGOMATRICULABECA": "No",
         "ESTU_PAGOMATRICULACREDITO": "No",
         "ESTU_PAGOMATRICULAPADRES": "Si",
         "ESTU_PAGOMATRICULAPROPIO": "No",
         "ESTU_COMOCAPACITOEXAMENSB11": "No realiz� ninguna prueba de preparaci�n",
         "ESTU_CURSODOCENTESIES": "nan",
         "ESTU_CURSOIESAPOYOEXTERNO": "nan",
         "ESTU_CURSOIESEXTERNA": "nan",
         "ESTU_SIMULACROTIPOICFES": "nan",
         "ESTU_ACTIVIDADREFUERZOAREAS": "nan",
         "ESTU_ACTIVIDADREFUERZOGENERIC": "nan",
         "ESTU_TIPODOCUMENTOSB11": "CE",
         "ESTU_SEMESTRECURSA": "8",
         "FAMI_EDUCACIONPADRE": "Educaci�n profesional completa",
         "FAMI_EDUCACIONMADRE": "Educaci�n profesional completa",
         "FAMI_TRABAJOLABORPADRE": "Es due�o de un negocio peque�o (tiene pocos empleados o no tiene, por ejemplo tienda, papeler�a, etc",
         "FAMI_TRABAJOLABORMADRE": "Trabaja en el hogar, no trabaja o estudia",
         "FAMI_ESTRATOVIVIENDA": "Estrato 4",
         "ESTU_OTROCOLE_TERMINO": "colegio republica de venezuela",
         "FAMI_TIENEINTERNET": "Si",
         "FAMI_TIENECOMPUTADOR": "Si",
         "FAMI_TIENELAVADORA": "Si",
         "FAMI_TIENEHORNOMICROOGAS": "Si",
         "FAMI_TIENESERVICIOTV": "Si",
         "FAMI_TIENEAUTOMOVIL": "Si",
         "FAMI_TIENEMOTOCICLETA": "No",
         "FAMI_TIENECONSOLAVIDEOJUEGOS": "Si",
         "FAMI_CUANTOSCOMPARTEBA�O": "1",
         "ESTU_HORASSEMANATRABAJA": "M�s de 30 horas",
         "INST_COD_INSTITUCION": 1718,
         "INST_NOMBRE_INSTITUCION": "UNIVERSIDAD DE SAN BUENAVENTURA-BOGOT� D.C.",
         "ESTU_PRGM_ACADEMICO": "ADMINISTRACION DE EMPRESAS",
         "ESTU_SNIES_PRGMACADEMICO": 53056,
         "GRUPOREFERENCIA": "ADMINISTRACI�N Y AFINES",
         "ESTU_PRGM_CODMUNICIPIO": 11001,
         "ESTU_PRGM_MUNICIPIO": "BOGOT� D.C.",
         "ESTU_PRGM_DEPARTAMENTO": "BOGOT�",
         "ESTU_NIVEL_PRGM_ACADEMICO": "UNIVERSITARIO",
         "ESTU_METODO_PRGM": "PRESENCIAL",
         "ESTU_NUCLEO_PREGRADO": "ADMINISTRACI�N",
         "ESTU_INST_CODMUNICIPIO": 11001,
         "ESTU_INST_MUNICIPIO": "BOGOT� D.C.",
         "ESTU_INST_DEPARTAMENTO": "BOGOT�",
         "INST_CARACTER_ACADEMICO": "UNIVERSIDAD",
         "INST_ORIGEN": "NO OFICIAL - FUNDACI�N",
         "ESTU_PRIVADO_LIBERTAD": "N",
         "ESTU_COD_MCPIO_PRESENTACION": 11001,
         "ESTU_MCPIO_PRESENTACION": "BOGOT� D.C.",
         "ESTU_DEPTO_PRESENTACION": "BOGOT�",
         "ESTU_COD_DEPTO_PRESENTACION": 11,
         "MOD_RAZONA_CUANTITAT_PUNT": 155,
         "MOD_RAZONA_CUANTITAT_DESEM": 3,
         "MOD_RAZONA_CUANTITATIVO_PNAL": 59,
         "MOD_RAZONA_CUANTITATIVO_PNBC": 69,
         "MOD_LECTURA_CRITICA_PUNT": 198,
         "MOD_LECTURA_CRITICA_DESEM": 3,
         "MOD_LECTURA_CRITICA_PNAL": 94,
         "MOD_LECTURA_CRITICA_PNBC": 98,
         "MOD_COMPETEN_CIUDADA_PUNT": 151,
         "MOD_COMPETEN_CIUDADA_DESEM": 2,
         "MOD_COMPETEN_CIUDADA_PNAL": 46,
         "MOD_COMPETEN_CIUDADA_PNBC": 56,
         "MOD_INGLES_PUNT": 182,
         "MOD_INGLES_DESEM": "B1",
         "MOD_INGLES_PNAL": 79,
         "MOD_INGLES_PNBC": 86,
         "MOD_COMUNI_ESCRITA_PUNT": 133,
         "MOD_COMUNI_ESCRITA_DESEM": 2,
         "MOD_COMUNI_ESCRITA_PNAL": 43,
         "MOD_COMUNI_ESCRITA_PNBC": 49,
         "PUNT_GLOBAL": 164,
         "PERCENTIL_NBC": 83,
         "PERCENTIL_GLOBAL": 72,
         "ESTU_INSE_INDIVIDUAL": 76.1374474,
         "ESTU_NSE_INDIVIDUAL": 4,
         "ESTU_NSE_IES": 4,
         "ESTU_ESTADOINVESTIGACION": "PUBLICAR",
         "_deepnote_index_column": 1
        },
        {
         "ESTU_TIPODOCUMENTO": "CC",
         "ESTU_NACIONALIDAD": "COLOMBIA",
         "ESTU_GENERO": "F",
         "ESTU_FECHANACIMIENTO": "09/12/1977",
         "ESTU_EXTERIOR": "NO",
         "PERIODO": 20203,
         "ESTU_CONSECUTIVO": "EK202030300407",
         "ESTU_ESTUDIANTE": "ESTUDIANTE",
         "ESTU_PAIS_RESIDE": "COLOMBIA",
         "ESTU_DEPTO_RESIDE": "CESAR",
         "ESTU_COD_RESIDE_DEPTO": 20,
         "ESTU_MCPIO_RESIDE": "BOSCONIA",
         "ESTU_COD_RESIDE_MCPIO": 20060,
         "ESTU_AREARESIDE": "Cabecera Municipal",
         "ESTU_ESTADOCIVIL": "Soltero",
         "ESTU_COLE_TERMINO": "INSTITUTO CRISTO REY",
         "ESTU_CODDANE_COLE_TERMINO": 344279000000,
         "ESTU_COD_COLE_MCPIO_TERMINO": 44279,
         "ESTU_TITULOOBTENIDOBACHILLER": "Bachiller acad�mico",
         "ESTU_VALORMATRICULAUNIVERSIDAD": "Entre 500 mil y menos de 1 mill�n",
         "ESTU_PAGOMATRICULABECA": "Si",
         "ESTU_PAGOMATRICULACREDITO": "No",
         "ESTU_PAGOMATRICULAPADRES": "No",
         "ESTU_PAGOMATRICULAPROPIO": "No",
         "ESTU_COMOCAPACITOEXAMENSB11": "Repas� por cuenta propia",
         "ESTU_CURSODOCENTESIES": "nan",
         "ESTU_CURSOIESAPOYOEXTERNO": "nan",
         "ESTU_CURSOIESEXTERNA": "nan",
         "ESTU_SIMULACROTIPOICFES": "nan",
         "ESTU_ACTIVIDADREFUERZOAREAS": "nan",
         "ESTU_ACTIVIDADREFUERZOGENERIC": "nan",
         "ESTU_TIPODOCUMENTOSB11": "TI",
         "ESTU_SEMESTRECURSA": "8",
         "FAMI_EDUCACIONPADRE": "Secundaria (Bachillerato) completa",
         "FAMI_EDUCACIONMADRE": "Primaria incompleta",
         "FAMI_TRABAJOLABORPADRE": "Es agricultor, pesquero o jornalero",
         "FAMI_TRABAJOLABORMADRE": "Trabaja en el hogar, no trabaja o estudia",
         "FAMI_ESTRATOVIVIENDA": "Estrato 2",
         "ESTU_OTROCOLE_TERMINO": "nan",
         "FAMI_TIENEINTERNET": "Si",
         "FAMI_TIENECOMPUTADOR": "No",
         "FAMI_TIENELAVADORA": "No",
         "FAMI_TIENEHORNOMICROOGAS": "No",
         "FAMI_TIENESERVICIOTV": "Si",
         "FAMI_TIENEAUTOMOVIL": "No",
         "FAMI_TIENEMOTOCICLETA": "No",
         "FAMI_TIENECONSOLAVIDEOJUEGOS": "No",
         "FAMI_CUANTOSCOMPARTEBA�O": "3 o 4",
         "ESTU_HORASSEMANATRABAJA": "Entre 11 y 20 horas",
         "INST_COD_INSTITUCION": 1213,
         "INST_NOMBRE_INSTITUCION": "UNIVERSIDAD DEL MAGDALENA - UNIMAGDALENA-SANTA MARTA",
         "ESTU_PRGM_ACADEMICO": "ADMINISTRACI�N DE LA SEGURIDAD Y SALUD   EN EL TRABAJO",
         "ESTU_SNIES_PRGMACADEMICO": 107456,
         "GRUPOREFERENCIA": "SALUD",
         "ESTU_PRGM_CODMUNICIPIO": 47001,
         "ESTU_PRGM_MUNICIPIO": "SANTA MARTA",
         "ESTU_PRGM_DEPARTAMENTO": "MAGDALENA",
         "ESTU_NIVEL_PRGM_ACADEMICO": "UNIVERSITARIO",
         "ESTU_METODO_PRGM": "DISTANCIA VITUAL",
         "ESTU_NUCLEO_PREGRADO": "SALUD PUBLICA",
         "ESTU_INST_CODMUNICIPIO": 47001,
         "ESTU_INST_MUNICIPIO": "SANTA MARTA",
         "ESTU_INST_DEPARTAMENTO": "MAGDALENA",
         "INST_CARACTER_ACADEMICO": "UNIVERSIDAD",
         "INST_ORIGEN": "OFICIAL DEPARTAMENTAL",
         "ESTU_PRIVADO_LIBERTAD": "N",
         "ESTU_COD_MCPIO_PRESENTACION": 20001,
         "ESTU_MCPIO_PRESENTACION": "VALLEDUPAR",
         "ESTU_DEPTO_PRESENTACION": "CESAR",
         "ESTU_COD_DEPTO_PRESENTACION": 20,
         "MOD_RAZONA_CUANTITAT_PUNT": 116,
         "MOD_RAZONA_CUANTITAT_DESEM": 1,
         "MOD_RAZONA_CUANTITATIVO_PNAL": 17,
         "MOD_RAZONA_CUANTITATIVO_PNBC": 33,
         "MOD_LECTURA_CRITICA_PUNT": 133,
         "MOD_LECTURA_CRITICA_DESEM": 2,
         "MOD_LECTURA_CRITICA_PNAL": 29,
         "MOD_LECTURA_CRITICA_PNBC": 50,
         "MOD_COMPETEN_CIUDADA_PUNT": 123,
         "MOD_COMPETEN_CIUDADA_DESEM": 1,
         "MOD_COMPETEN_CIUDADA_PNAL": 19,
         "MOD_COMPETEN_CIUDADA_PNBC": 34,
         "MOD_INGLES_PUNT": 130,
         "MOD_INGLES_DESEM": "A1",
         "MOD_INGLES_PNAL": 22,
         "MOD_INGLES_PNBC": 44,
         "MOD_COMUNI_ESCRITA_PUNT": 119,
         "MOD_COMUNI_ESCRITA_DESEM": 2,
         "MOD_COMUNI_ESCRITA_PNAL": 18,
         "MOD_COMUNI_ESCRITA_PNBC": 30,
         "PUNT_GLOBAL": 124,
         "PERCENTIL_NBC": 37,
         "PERCENTIL_GLOBAL": 17,
         "ESTU_INSE_INDIVIDUAL": 40.78893458,
         "ESTU_NSE_INDIVIDUAL": 1,
         "ESTU_NSE_IES": 2,
         "ESTU_ESTADOINVESTIGACION": "PUBLICAR",
         "_deepnote_index_column": 2
        },
        {
         "ESTU_TIPODOCUMENTO": "CC",
         "ESTU_NACIONALIDAD": "COLOMBIA",
         "ESTU_GENERO": "F",
         "ESTU_FECHANACIMIENTO": "01/10/1995",
         "ESTU_EXTERIOR": "NO",
         "PERIODO": 20203,
         "ESTU_CONSECUTIVO": "EK202030168977",
         "ESTU_ESTUDIANTE": "ESTUDIANTE",
         "ESTU_PAIS_RESIDE": "COLOMBIA",
         "ESTU_DEPTO_RESIDE": "LA GUAJIRA",
         "ESTU_COD_RESIDE_DEPTO": 44,
         "ESTU_MCPIO_RESIDE": "MAICAO",
         "ESTU_COD_RESIDE_MCPIO": 44430,
         "ESTU_AREARESIDE": "Cabecera Municipal",
         "ESTU_ESTADOCIVIL": "Soltero",
         "ESTU_COLE_TERMINO": "INSTITUCION EDUCATIVA NORMAL SUPERIOR INDIGENA",
         "ESTU_CODDANE_COLE_TERMINO": 144847000000,
         "ESTU_COD_COLE_MCPIO_TERMINO": 44847,
         "ESTU_TITULOOBTENIDOBACHILLER": "Bachiller pedag�gico o normalista",
         "ESTU_VALORMATRICULAUNIVERSIDAD": "Entre 500 mil y menos de 1 mill�n",
         "ESTU_PAGOMATRICULABECA": "Si",
         "ESTU_PAGOMATRICULACREDITO": "No",
         "ESTU_PAGOMATRICULAPADRES": "No",
         "ESTU_PAGOMATRICULAPROPIO": "Si",
         "ESTU_COMOCAPACITOEXAMENSB11": "Repas� por cuenta propia",
         "ESTU_CURSODOCENTESIES": "nan",
         "ESTU_CURSOIESAPOYOEXTERNO": "nan",
         "ESTU_CURSOIESEXTERNA": "nan",
         "ESTU_SIMULACROTIPOICFES": "nan",
         "ESTU_ACTIVIDADREFUERZOAREAS": "nan",
         "ESTU_ACTIVIDADREFUERZOGENERIC": "nan",
         "ESTU_TIPODOCUMENTOSB11": "TI",
         "ESTU_SEMESTRECURSA": "8",
         "FAMI_EDUCACIONPADRE": "Primaria incompleta",
         "FAMI_EDUCACIONMADRE": "Ninguno",
         "FAMI_TRABAJOLABORPADRE": "Trabaja en el hogar, no trabaja o estudia",
         "FAMI_TRABAJOLABORMADRE": "Trabaja en el hogar, no trabaja o estudia",
         "FAMI_ESTRATOVIVIENDA": "Estrato 1",
         "ESTU_OTROCOLE_TERMINO": "nan",
         "FAMI_TIENEINTERNET": "Si",
         "FAMI_TIENECOMPUTADOR": "Si",
         "FAMI_TIENELAVADORA": "No",
         "FAMI_TIENEHORNOMICROOGAS": "No",
         "FAMI_TIENESERVICIOTV": "No",
         "FAMI_TIENEAUTOMOVIL": "No",
         "FAMI_TIENEMOTOCICLETA": "No",
         "FAMI_TIENECONSOLAVIDEOJUEGOS": "No",
         "FAMI_CUANTOSCOMPARTEBA�O": "MAS DE 6",
         "ESTU_HORASSEMANATRABAJA": "Entre 21 y 30 horas",
         "INST_COD_INSTITUCION": 1218,
         "INST_NOMBRE_INSTITUCION": "UNIVERSIDAD DE LA GUAJIRA-RIOHACHA",
         "ESTU_PRGM_ACADEMICO": "LICENCIATURA EN ETNOEDUCACION",
         "ESTU_SNIES_PRGMACADEMICO": 102508,
         "GRUPOREFERENCIA": "EDUCACI�N",
         "ESTU_PRGM_CODMUNICIPIO": 44560,
         "ESTU_PRGM_MUNICIPIO": "MANAURE",
         "ESTU_PRGM_DEPARTAMENTO": "LA GUAJIRA",
         "ESTU_NIVEL_PRGM_ACADEMICO": "UNIVERSITARIO",
         "ESTU_METODO_PRGM": "DISTANCIA",
         "ESTU_NUCLEO_PREGRADO": "EDUCACI�N",
         "ESTU_INST_CODMUNICIPIO": 44001,
         "ESTU_INST_MUNICIPIO": "RIOHACHA",
         "ESTU_INST_DEPARTAMENTO": "LA GUAJIRA",
         "INST_CARACTER_ACADEMICO": "UNIVERSIDAD",
         "INST_ORIGEN": "OFICIAL DEPARTAMENTAL",
         "ESTU_PRIVADO_LIBERTAD": "N",
         "ESTU_COD_MCPIO_PRESENTACION": 11001,
         "ESTU_MCPIO_PRESENTACION": "BOGOT� D.C.",
         "ESTU_DEPTO_PRESENTACION": "BOGOT�",
         "ESTU_COD_DEPTO_PRESENTACION": 11,
         "MOD_RAZONA_CUANTITAT_PUNT": 116,
         "MOD_RAZONA_CUANTITAT_DESEM": 1,
         "MOD_RAZONA_CUANTITATIVO_PNAL": 17,
         "MOD_RAZONA_CUANTITATIVO_PNBC": 30,
         "MOD_LECTURA_CRITICA_PUNT": 153,
         "MOD_LECTURA_CRITICA_DESEM": 2,
         "MOD_LECTURA_CRITICA_PNAL": 52,
         "MOD_LECTURA_CRITICA_PNBC": 60,
         "MOD_COMPETEN_CIUDADA_PUNT": 144,
         "MOD_COMPETEN_CIUDADA_DESEM": 2,
         "MOD_COMPETEN_CIUDADA_PNAL": 37,
         "MOD_COMPETEN_CIUDADA_PNBC": 49,
         "MOD_INGLES_PUNT": 131,
         "MOD_INGLES_DESEM": "A1",
         "MOD_INGLES_PNAL": 24,
         "MOD_INGLES_PNBC": 33,
         "MOD_COMUNI_ESCRITA_PUNT": 122,
         "MOD_COMUNI_ESCRITA_DESEM": 2,
         "MOD_COMUNI_ESCRITA_PNAL": 21,
         "MOD_COMUNI_ESCRITA_PNBC": 22,
         "PUNT_GLOBAL": 133,
         "PERCENTIL_NBC": 39,
         "PERCENTIL_GLOBAL": 28,
         "ESTU_INSE_INDIVIDUAL": 32.73512471,
         "ESTU_NSE_INDIVIDUAL": 1,
         "ESTU_NSE_IES": 2,
         "ESTU_ESTADOINVESTIGACION": "PUBLICAR",
         "_deepnote_index_column": 3
        },
        {
         "ESTU_TIPODOCUMENTO": "CC",
         "ESTU_NACIONALIDAD": "COLOMBIA",
         "ESTU_GENERO": "F",
         "ESTU_FECHANACIMIENTO": "21/01/1971",
         "ESTU_EXTERIOR": "NO",
         "PERIODO": 20203,
         "ESTU_CONSECUTIVO": "EK202030323133",
         "ESTU_ESTUDIANTE": "ESTUDIANTE",
         "ESTU_PAIS_RESIDE": "COLOMBIA",
         "ESTU_DEPTO_RESIDE": "ATLANTICO",
         "ESTU_COD_RESIDE_DEPTO": 8,
         "ESTU_MCPIO_RESIDE": "BARRANQUILLA",
         "ESTU_COD_RESIDE_MCPIO": 8001,
         "ESTU_AREARESIDE": "Cabecera Municipal",
         "ESTU_ESTADOCIVIL": "Casado",
         "ESTU_COLE_TERMINO": "INSTITUCION EDUCATIVA ESCUELA NORMAL SUPERIOR SANTA ANA",
         "ESTU_CODDANE_COLE_TERMINO": 108078000000,
         "ESTU_COD_COLE_MCPIO_TERMINO": 8078,
         "ESTU_TITULOOBTENIDOBACHILLER": "Bachiller pedag�gico o normalista",
         "ESTU_VALORMATRICULAUNIVERSIDAD": "Entre 500 mil y menos de 1 mill�n",
         "ESTU_PAGOMATRICULABECA": "No",
         "ESTU_PAGOMATRICULACREDITO": "Si",
         "ESTU_PAGOMATRICULAPADRES": "No",
         "ESTU_PAGOMATRICULAPROPIO": "Si",
         "ESTU_COMOCAPACITOEXAMENSB11": "Repas� por cuenta propia",
         "ESTU_CURSODOCENTESIES": "nan",
         "ESTU_CURSOIESAPOYOEXTERNO": "nan",
         "ESTU_CURSOIESEXTERNA": "nan",
         "ESTU_SIMULACROTIPOICFES": "nan",
         "ESTU_ACTIVIDADREFUERZOAREAS": "nan",
         "ESTU_ACTIVIDADREFUERZOGENERIC": "nan",
         "ESTU_TIPODOCUMENTOSB11": "TI",
         "ESTU_SEMESTRECURSA": "8",
         "FAMI_EDUCACIONPADRE": "Primaria completa",
         "FAMI_EDUCACIONMADRE": "Primaria completa",
         "FAMI_TRABAJOLABORPADRE": "No sabe",
         "FAMI_TRABAJOLABORMADRE": "Es vendedor o trabaja en atenci�n al p�blico",
         "FAMI_ESTRATOVIVIENDA": "Estrato 1",
         "ESTU_OTROCOLE_TERMINO": "nan",
         "FAMI_TIENEINTERNET": "No",
         "FAMI_TIENECOMPUTADOR": "Si",
         "FAMI_TIENELAVADORA": "Si",
         "FAMI_TIENEHORNOMICROOGAS": "No",
         "FAMI_TIENESERVICIOTV": "Si",
         "FAMI_TIENEAUTOMOVIL": "No",
         "FAMI_TIENEMOTOCICLETA": "No",
         "FAMI_TIENECONSOLAVIDEOJUEGOS": "No",
         "FAMI_CUANTOSCOMPARTEBA�O": "5 o 6",
         "ESTU_HORASSEMANATRABAJA": "M�s de 30 horas",
         "INST_COD_INSTITUCION": 2829,
         "INST_NOMBRE_INSTITUCION": "CORPORACION UNIVERSITARIA MINUTO DE DIOS -UNIMINUTO-BOGOT� D.C.",
         "ESTU_PRGM_ACADEMICO": "LICENCIATURA EN PEDAGOG�A INFANTIL",
         "ESTU_SNIES_PRGMACADEMICO": 90962,
         "GRUPOREFERENCIA": "EDUCACI�N",
         "ESTU_PRGM_CODMUNICIPIO": 8001,
         "ESTU_PRGM_MUNICIPIO": "BARRANQUILLA",
         "ESTU_PRGM_DEPARTAMENTO": "ATLANTICO",
         "ESTU_NIVEL_PRGM_ACADEMICO": "UNIVERSITARIO",
         "ESTU_METODO_PRGM": "DISTANCIA",
         "ESTU_NUCLEO_PREGRADO": "EDUCACI�N",
         "ESTU_INST_CODMUNICIPIO": 11001,
         "ESTU_INST_MUNICIPIO": "BOGOT� D.C.",
         "ESTU_INST_DEPARTAMENTO": "BOGOT�",
         "INST_CARACTER_ACADEMICO": "INSTITUCI�N UNIVERSITARIA",
         "INST_ORIGEN": "NO OFICIAL - CORPORACI�N",
         "ESTU_PRIVADO_LIBERTAD": "N",
         "ESTU_COD_MCPIO_PRESENTACION": 8001,
         "ESTU_MCPIO_PRESENTACION": "BARRANQUILLA",
         "ESTU_DEPTO_PRESENTACION": "ATLANTICO",
         "ESTU_COD_DEPTO_PRESENTACION": 8,
         "MOD_RAZONA_CUANTITAT_PUNT": 139,
         "MOD_RAZONA_CUANTITAT_DESEM": 2,
         "MOD_RAZONA_CUANTITATIVO_PNAL": 40,
         "MOD_RAZONA_CUANTITATIVO_PNBC": 58,
         "MOD_LECTURA_CRITICA_PUNT": 114,
         "MOD_LECTURA_CRITICA_DESEM": 1,
         "MOD_LECTURA_CRITICA_PNAL": 11,
         "MOD_LECTURA_CRITICA_PNBC": 16,
         "MOD_COMPETEN_CIUDADA_PUNT": 106,
         "MOD_COMPETEN_CIUDADA_DESEM": 1,
         "MOD_COMPETEN_CIUDADA_PNAL": 9,
         "MOD_COMPETEN_CIUDADA_PNBC": 13,
         "MOD_INGLES_PUNT": 110,
         "MOD_INGLES_DESEM": "#�VALOR!",
         "MOD_INGLES_PNAL": 6,
         "MOD_INGLES_PNBC": 9,
         "MOD_COMUNI_ESCRITA_PUNT": 114,
         "MOD_COMUNI_ESCRITA_DESEM": 1,
         "MOD_COMUNI_ESCRITA_PNAL": 16,
         "MOD_COMUNI_ESCRITA_PNBC": 17,
         "PUNT_GLOBAL": 117,
         "PERCENTIL_NBC": 18,
         "PERCENTIL_GLOBAL": 11,
         "ESTU_INSE_INDIVIDUAL": 45.38130627,
         "ESTU_NSE_INDIVIDUAL": 1,
         "ESTU_NSE_IES": 2,
         "ESTU_ESTADOINVESTIGACION": "PUBLICAR",
         "_deepnote_index_column": 4
        }
       ]
      },
      "text/plain": "  ESTU_TIPODOCUMENTO ESTU_NACIONALIDAD ESTU_GENERO ESTU_FECHANACIMIENTO  \\\n0                 CC          COLOMBIA           M           29/05/1990   \n1                 CE         VENEZUELA           M           28/12/1995   \n2                 CC          COLOMBIA           F           09/12/1977   \n3                 CC          COLOMBIA           F           01/10/1995   \n4                 CC          COLOMBIA           F           21/01/1971   \n\n  ESTU_EXTERIOR  PERIODO ESTU_CONSECUTIVO ESTU_ESTUDIANTE ESTU_PAIS_RESIDE  \\\n0            NO    20203   EK202030122120      ESTUDIANTE         COLOMBIA   \n1            NO    20203   EK202030183321      ESTUDIANTE        VENEZUELA   \n2            NO    20203   EK202030300407      ESTUDIANTE         COLOMBIA   \n3            NO    20203   EK202030168977      ESTUDIANTE         COLOMBIA   \n4            NO    20203   EK202030323133      ESTUDIANTE         COLOMBIA   \n\n  ESTU_DEPTO_RESIDE  ...  MOD_COMUNI_ESCRITA_DESEM MOD_COMUNI_ESCRITA_PNAL  \\\n0            BOGOT�  ...                       2.0                    17.0   \n1            BOGOT�  ...                       2.0                    43.0   \n2             CESAR  ...                       2.0                    18.0   \n3        LA GUAJIRA  ...                       2.0                    21.0   \n4         ATLANTICO  ...                       1.0                    16.0   \n\n   MOD_COMUNI_ESCRITA_PNBC PUNT_GLOBAL PERCENTIL_NBC PERCENTIL_GLOBAL  \\\n0                     21.0         117          15.0               11   \n1                     49.0         164          83.0               72   \n2                     30.0         124          37.0               17   \n3                     22.0         133          39.0               28   \n4                     17.0         117          18.0               11   \n\n   ESTU_INSE_INDIVIDUAL  ESTU_NSE_INDIVIDUAL ESTU_NSE_IES  \\\n0             58.500207                  3.0            2   \n1             76.137447                  4.0            4   \n2             40.788935                  1.0            2   \n3             32.735125                  1.0            2   \n4             45.381306                  1.0            2   \n\n  ESTU_ESTADOINVESTIGACION  \n0                 PUBLICAR  \n1                 PUBLICAR  \n2                 PUBLICAR  \n3                 PUBLICAR  \n4                 PUBLICAR  \n\n[5 rows x 97 columns]",
      "text/html": "<div>\n<style scoped>\n    .dataframe tbody tr th:only-of-type {\n        vertical-align: middle;\n    }\n\n    .dataframe tbody tr th {\n        vertical-align: top;\n    }\n\n    .dataframe thead th {\n        text-align: right;\n    }\n</style>\n<table border=\"1\" class=\"dataframe\">\n  <thead>\n    <tr style=\"text-align: right;\">\n      <th></th>\n      <th>ESTU_TIPODOCUMENTO</th>\n      <th>ESTU_NACIONALIDAD</th>\n      <th>ESTU_GENERO</th>\n      <th>ESTU_FECHANACIMIENTO</th>\n      <th>ESTU_EXTERIOR</th>\n      <th>PERIODO</th>\n      <th>ESTU_CONSECUTIVO</th>\n      <th>ESTU_ESTUDIANTE</th>\n      <th>ESTU_PAIS_RESIDE</th>\n      <th>ESTU_DEPTO_RESIDE</th>\n      <th>...</th>\n      <th>MOD_COMUNI_ESCRITA_DESEM</th>\n      <th>MOD_COMUNI_ESCRITA_PNAL</th>\n      <th>MOD_COMUNI_ESCRITA_PNBC</th>\n      <th>PUNT_GLOBAL</th>\n      <th>PERCENTIL_NBC</th>\n      <th>PERCENTIL_GLOBAL</th>\n      <th>ESTU_INSE_INDIVIDUAL</th>\n      <th>ESTU_NSE_INDIVIDUAL</th>\n      <th>ESTU_NSE_IES</th>\n      <th>ESTU_ESTADOINVESTIGACION</th>\n    </tr>\n  </thead>\n  <tbody>\n    <tr>\n      <th>0</th>\n      <td>CC</td>\n      <td>COLOMBIA</td>\n      <td>M</td>\n      <td>29/05/1990</td>\n      <td>NO</td>\n      <td>20203</td>\n      <td>EK202030122120</td>\n      <td>ESTUDIANTE</td>\n      <td>COLOMBIA</td>\n      <td>BOGOT�</td>\n      <td>...</td>\n      <td>2.0</td>\n      <td>17.0</td>\n      <td>21.0</td>\n      <td>117</td>\n      <td>15.0</td>\n      <td>11</td>\n      <td>58.500207</td>\n      <td>3.0</td>\n      <td>2</td>\n      <td>PUBLICAR</td>\n    </tr>\n    <tr>\n      <th>1</th>\n      <td>CE</td>\n      <td>VENEZUELA</td>\n      <td>M</td>\n      <td>28/12/1995</td>\n      <td>NO</td>\n      <td>20203</td>\n      <td>EK202030183321</td>\n      <td>ESTUDIANTE</td>\n      <td>VENEZUELA</td>\n      <td>BOGOT�</td>\n      <td>...</td>\n      <td>2.0</td>\n      <td>43.0</td>\n      <td>49.0</td>\n      <td>164</td>\n      <td>83.0</td>\n      <td>72</td>\n      <td>76.137447</td>\n      <td>4.0</td>\n      <td>4</td>\n      <td>PUBLICAR</td>\n    </tr>\n    <tr>\n      <th>2</th>\n      <td>CC</td>\n      <td>COLOMBIA</td>\n      <td>F</td>\n      <td>09/12/1977</td>\n      <td>NO</td>\n      <td>20203</td>\n      <td>EK202030300407</td>\n      <td>ESTUDIANTE</td>\n      <td>COLOMBIA</td>\n      <td>CESAR</td>\n      <td>...</td>\n      <td>2.0</td>\n      <td>18.0</td>\n      <td>30.0</td>\n      <td>124</td>\n      <td>37.0</td>\n      <td>17</td>\n      <td>40.788935</td>\n      <td>1.0</td>\n      <td>2</td>\n      <td>PUBLICAR</td>\n    </tr>\n    <tr>\n      <th>3</th>\n      <td>CC</td>\n      <td>COLOMBIA</td>\n      <td>F</td>\n      <td>01/10/1995</td>\n      <td>NO</td>\n      <td>20203</td>\n      <td>EK202030168977</td>\n      <td>ESTUDIANTE</td>\n      <td>COLOMBIA</td>\n      <td>LA GUAJIRA</td>\n      <td>...</td>\n      <td>2.0</td>\n      <td>21.0</td>\n      <td>22.0</td>\n      <td>133</td>\n      <td>39.0</td>\n      <td>28</td>\n      <td>32.735125</td>\n      <td>1.0</td>\n      <td>2</td>\n      <td>PUBLICAR</td>\n    </tr>\n    <tr>\n      <th>4</th>\n      <td>CC</td>\n      <td>COLOMBIA</td>\n      <td>F</td>\n      <td>21/01/1971</td>\n      <td>NO</td>\n      <td>20203</td>\n      <td>EK202030323133</td>\n      <td>ESTUDIANTE</td>\n      <td>COLOMBIA</td>\n      <td>ATLANTICO</td>\n      <td>...</td>\n      <td>1.0</td>\n      <td>16.0</td>\n      <td>17.0</td>\n      <td>117</td>\n      <td>18.0</td>\n      <td>11</td>\n      <td>45.381306</td>\n      <td>1.0</td>\n      <td>2</td>\n      <td>PUBLICAR</td>\n    </tr>\n  </tbody>\n</table>\n<p>5 rows × 97 columns</p>\n</div>"
     },
     "metadata": {}
    }
   ]
  },
  {
   "cell_type": "markdown",
   "source": "### 3. Exploración de los datos",
   "metadata": {
    "tags": [],
    "cell_id": "00007-c4be3b7c-061b-4b03-88da-57d7fd240972",
    "deepnote_app_coordinates": {
     "x": 0,
     "y": 42,
     "w": 12,
     "h": 5
    },
    "deepnote_cell_type": "markdown"
   }
  },
  {
   "cell_type": "code",
   "metadata": {
    "tags": [],
    "cell_id": "00002-1a4646a4-6539-4b1a-8b01-c75683a0126e",
    "deepnote_to_be_reexecuted": false,
    "source_hash": "6fa99127",
    "execution_start": 1640008229622,
    "execution_millis": 13,
    "deepnote_output_heights": [
     611
    ],
    "deepnote_app_coordinates": {
     "x": 0,
     "y": 48,
     "w": 12,
     "h": 5
    },
    "deepnote_cell_type": "code"
   },
   "source": "# ¿Que columnas tienen los datos?\nsaber_pro.columns",
   "outputs": [
    {
     "output_type": "execute_result",
     "execution_count": 4,
     "data": {
      "text/plain": "Index(['ESTU_TIPODOCUMENTO', 'ESTU_NACIONALIDAD', 'ESTU_GENERO',\n       'ESTU_FECHANACIMIENTO', 'ESTU_EXTERIOR', 'PERIODO', 'ESTU_CONSECUTIVO',\n       'ESTU_ESTUDIANTE', 'ESTU_PAIS_RESIDE', 'ESTU_DEPTO_RESIDE',\n       'ESTU_COD_RESIDE_DEPTO', 'ESTU_MCPIO_RESIDE', 'ESTU_COD_RESIDE_MCPIO',\n       'ESTU_AREARESIDE', 'ESTU_ESTADOCIVIL', 'ESTU_COLE_TERMINO',\n       'ESTU_CODDANE_COLE_TERMINO', 'ESTU_COD_COLE_MCPIO_TERMINO',\n       'ESTU_TITULOOBTENIDOBACHILLER', 'ESTU_VALORMATRICULAUNIVERSIDAD',\n       'ESTU_PAGOMATRICULABECA', 'ESTU_PAGOMATRICULACREDITO',\n       'ESTU_PAGOMATRICULAPADRES', 'ESTU_PAGOMATRICULAPROPIO',\n       'ESTU_COMOCAPACITOEXAMENSB11', 'ESTU_CURSODOCENTESIES',\n       'ESTU_CURSOIESAPOYOEXTERNO', 'ESTU_CURSOIESEXTERNA',\n       'ESTU_SIMULACROTIPOICFES', 'ESTU_ACTIVIDADREFUERZOAREAS',\n       'ESTU_ACTIVIDADREFUERZOGENERIC', 'ESTU_TIPODOCUMENTOSB11',\n       'ESTU_SEMESTRECURSA', 'FAMI_EDUCACIONPADRE', 'FAMI_EDUCACIONMADRE',\n       'FAMI_TRABAJOLABORPADRE', 'FAMI_TRABAJOLABORMADRE',\n       'FAMI_ESTRATOVIVIENDA', 'ESTU_OTROCOLE_TERMINO', 'FAMI_TIENEINTERNET',\n       'FAMI_TIENECOMPUTADOR', 'FAMI_TIENELAVADORA',\n       'FAMI_TIENEHORNOMICROOGAS', 'FAMI_TIENESERVICIOTV',\n       'FAMI_TIENEAUTOMOVIL', 'FAMI_TIENEMOTOCICLETA',\n       'FAMI_TIENECONSOLAVIDEOJUEGOS', 'FAMI_CUANTOSCOMPARTEBA�O',\n       'ESTU_HORASSEMANATRABAJA', 'INST_COD_INSTITUCION',\n       'INST_NOMBRE_INSTITUCION', 'ESTU_PRGM_ACADEMICO',\n       'ESTU_SNIES_PRGMACADEMICO', 'GRUPOREFERENCIA', 'ESTU_PRGM_CODMUNICIPIO',\n       'ESTU_PRGM_MUNICIPIO', 'ESTU_PRGM_DEPARTAMENTO',\n       'ESTU_NIVEL_PRGM_ACADEMICO', 'ESTU_METODO_PRGM', 'ESTU_NUCLEO_PREGRADO',\n       'ESTU_INST_CODMUNICIPIO', 'ESTU_INST_MUNICIPIO',\n       'ESTU_INST_DEPARTAMENTO', 'INST_CARACTER_ACADEMICO', 'INST_ORIGEN',\n       'ESTU_PRIVADO_LIBERTAD', 'ESTU_COD_MCPIO_PRESENTACION',\n       'ESTU_MCPIO_PRESENTACION', 'ESTU_DEPTO_PRESENTACION',\n       'ESTU_COD_DEPTO_PRESENTACION', 'MOD_RAZONA_CUANTITAT_PUNT',\n       'MOD_RAZONA_CUANTITAT_DESEM', 'MOD_RAZONA_CUANTITATIVO_PNAL',\n       'MOD_RAZONA_CUANTITATIVO_PNBC', 'MOD_LECTURA_CRITICA_PUNT',\n       'MOD_LECTURA_CRITICA_DESEM', 'MOD_LECTURA_CRITICA_PNAL',\n       'MOD_LECTURA_CRITICA_PNBC', 'MOD_COMPETEN_CIUDADA_PUNT',\n       'MOD_COMPETEN_CIUDADA_DESEM', 'MOD_COMPETEN_CIUDADA_PNAL',\n       'MOD_COMPETEN_CIUDADA_PNBC', 'MOD_INGLES_PUNT', 'MOD_INGLES_DESEM',\n       'MOD_INGLES_PNAL', 'MOD_INGLES_PNBC', 'MOD_COMUNI_ESCRITA_PUNT',\n       'MOD_COMUNI_ESCRITA_DESEM', 'MOD_COMUNI_ESCRITA_PNAL',\n       'MOD_COMUNI_ESCRITA_PNBC', 'PUNT_GLOBAL', 'PERCENTIL_NBC',\n       'PERCENTIL_GLOBAL', 'ESTU_INSE_INDIVIDUAL', 'ESTU_NSE_INDIVIDUAL',\n       'ESTU_NSE_IES', 'ESTU_ESTADOINVESTIGACION'],\n      dtype='object')"
     },
     "metadata": {}
    }
   ],
   "execution_count": null
  },
  {
   "cell_type": "code",
   "metadata": {
    "tags": [],
    "cell_id": "00009-560ff49c-aa23-4c17-b3b9-7783d68cae9d",
    "deepnote_to_be_reexecuted": false,
    "source_hash": "4a2db9ee",
    "execution_start": 1640008234014,
    "execution_millis": 10,
    "deepnote_output_heights": [
     21
    ],
    "deepnote_app_coordinates": {
     "x": 0,
     "y": 54,
     "w": 12,
     "h": 5
    },
    "deepnote_cell_type": "code"
   },
   "source": "# ¿Que tamaño tienen los datos?\nsaber_pro.shape",
   "outputs": [
    {
     "output_type": "execute_result",
     "execution_count": 5,
     "data": {
      "text/plain": "(246436, 97)"
     },
     "metadata": {}
    }
   ],
   "execution_count": null
  },
  {
   "cell_type": "code",
   "metadata": {
    "tags": [],
    "cell_id": "00010-6c780d1d-e872-41ac-bbff-18fa87b1719b",
    "deepnote_to_be_reexecuted": false,
    "source_hash": "f3239e7",
    "execution_start": 1640008236063,
    "execution_millis": 1224,
    "deepnote_app_coordinates": {
     "x": 0,
     "y": 60,
     "w": 12,
     "h": 5
    },
    "deepnote_cell_type": "code"
   },
   "source": "# ¿Hay datos nulos?\nsaber_pro.info()",
   "outputs": [
    {
     "name": "stdout",
     "text": "<class 'pandas.core.frame.DataFrame'>\nRangeIndex: 246436 entries, 0 to 246435\nData columns (total 97 columns):\n #   Column                          Non-Null Count   Dtype  \n---  ------                          --------------   -----  \n 0   ESTU_TIPODOCUMENTO              246436 non-null  object \n 1   ESTU_NACIONALIDAD               246436 non-null  object \n 2   ESTU_GENERO                     246363 non-null  object \n 3   ESTU_FECHANACIMIENTO            246397 non-null  object \n 4   ESTU_EXTERIOR                   246436 non-null  object \n 5   PERIODO                         246436 non-null  int64  \n 6   ESTU_CONSECUTIVO                246436 non-null  object \n 7   ESTU_ESTUDIANTE                 246436 non-null  object \n 8   ESTU_PAIS_RESIDE                246436 non-null  object \n 9   ESTU_DEPTO_RESIDE               246435 non-null  object \n 10  ESTU_COD_RESIDE_DEPTO           246435 non-null  float64\n 11  ESTU_MCPIO_RESIDE               246435 non-null  object \n 12  ESTU_COD_RESIDE_MCPIO           246435 non-null  float64\n 13  ESTU_AREARESIDE                 244728 non-null  object \n 14  ESTU_ESTADOCIVIL                245471 non-null  object \n 15  ESTU_COLE_TERMINO               168331 non-null  object \n 16  ESTU_CODDANE_COLE_TERMINO       168331 non-null  float64\n 17  ESTU_COD_COLE_MCPIO_TERMINO     168331 non-null  float64\n 18  ESTU_TITULOOBTENIDOBACHILLER    244627 non-null  object \n 19  ESTU_VALORMATRICULAUNIVERSIDAD  244627 non-null  object \n 20  ESTU_PAGOMATRICULABECA          244563 non-null  object \n 21  ESTU_PAGOMATRICULACREDITO       244575 non-null  object \n 22  ESTU_PAGOMATRICULAPADRES        244589 non-null  object \n 23  ESTU_PAGOMATRICULAPROPIO        244576 non-null  object \n 24  ESTU_COMOCAPACITOEXAMENSB11     244715 non-null  object \n 25  ESTU_CURSODOCENTESIES           25087 non-null   object \n 26  ESTU_CURSOIESAPOYOEXTERNO       25079 non-null   object \n 27  ESTU_CURSOIESEXTERNA            25077 non-null   object \n 28  ESTU_SIMULACROTIPOICFES         25088 non-null   object \n 29  ESTU_ACTIVIDADREFUERZOAREAS     25086 non-null   object \n 30  ESTU_ACTIVIDADREFUERZOGENERIC   25085 non-null   object \n 31  ESTU_TIPODOCUMENTOSB11          241893 non-null  object \n 32  ESTU_SEMESTRECURSA              244627 non-null  object \n 33  FAMI_EDUCACIONPADRE             242758 non-null  object \n 34  FAMI_EDUCACIONMADRE             242510 non-null  object \n 35  FAMI_TRABAJOLABORPADRE          220853 non-null  object \n 36  FAMI_TRABAJOLABORMADRE          232267 non-null  object \n 37  FAMI_ESTRATOVIVIENDA            241644 non-null  object \n 38  ESTU_OTROCOLE_TERMINO           51304 non-null   object \n 39  FAMI_TIENEINTERNET              241461 non-null  object \n 40  FAMI_TIENECOMPUTADOR            238856 non-null  object \n 41  FAMI_TIENELAVADORA              238613 non-null  object \n 42  FAMI_TIENEHORNOMICROOGAS        236804 non-null  object \n 43  FAMI_TIENESERVICIOTV            241185 non-null  object \n 44  FAMI_TIENEAUTOMOVIL             235462 non-null  object \n 45  FAMI_TIENEMOTOCICLETA           234754 non-null  object \n 46  FAMI_TIENECONSOLAVIDEOJUEGOS    234558 non-null  object \n 47  FAMI_CUANTOSCOMPARTEBA�O        240378 non-null  object \n 48  ESTU_HORASSEMANATRABAJA         239576 non-null  object \n 49  INST_COD_INSTITUCION            246436 non-null  int64  \n 50  INST_NOMBRE_INSTITUCION         246436 non-null  object \n 51  ESTU_PRGM_ACADEMICO             246436 non-null  object \n 52  ESTU_SNIES_PRGMACADEMICO        246436 non-null  int64  \n 53  GRUPOREFERENCIA                 246436 non-null  object \n 54  ESTU_PRGM_CODMUNICIPIO          246436 non-null  int64  \n 55  ESTU_PRGM_MUNICIPIO             246436 non-null  object \n 56  ESTU_PRGM_DEPARTAMENTO          246436 non-null  object \n 57  ESTU_NIVEL_PRGM_ACADEMICO       246436 non-null  object \n 58  ESTU_METODO_PRGM                246436 non-null  object \n 59  ESTU_NUCLEO_PREGRADO            246436 non-null  object \n 60  ESTU_INST_CODMUNICIPIO          246436 non-null  int64  \n 61  ESTU_INST_MUNICIPIO             246436 non-null  object \n 62  ESTU_INST_DEPARTAMENTO          246436 non-null  object \n 63  INST_CARACTER_ACADEMICO         246436 non-null  object \n 64  INST_ORIGEN                     246436 non-null  object \n 65  ESTU_PRIVADO_LIBERTAD           246436 non-null  object \n 66  ESTU_COD_MCPIO_PRESENTACION     246354 non-null  float64\n 67  ESTU_MCPIO_PRESENTACION         246354 non-null  object \n 68  ESTU_DEPTO_PRESENTACION         246354 non-null  object \n 69  ESTU_COD_DEPTO_PRESENTACION     246354 non-null  float64\n 70  MOD_RAZONA_CUANTITAT_PUNT       246436 non-null  int64  \n 71  MOD_RAZONA_CUANTITAT_DESEM      246436 non-null  int64  \n 72  MOD_RAZONA_CUANTITATIVO_PNAL    246436 non-null  int64  \n 73  MOD_RAZONA_CUANTITATIVO_PNBC    246435 non-null  float64\n 74  MOD_LECTURA_CRITICA_PUNT        246436 non-null  int64  \n 75  MOD_LECTURA_CRITICA_DESEM       246436 non-null  int64  \n 76  MOD_LECTURA_CRITICA_PNAL        246436 non-null  int64  \n 77  MOD_LECTURA_CRITICA_PNBC        246435 non-null  float64\n 78  MOD_COMPETEN_CIUDADA_PUNT       246436 non-null  int64  \n 79  MOD_COMPETEN_CIUDADA_DESEM      246436 non-null  int64  \n 80  MOD_COMPETEN_CIUDADA_PNAL       246436 non-null  int64  \n 81  MOD_COMPETEN_CIUDADA_PNBC       246435 non-null  float64\n 82  MOD_INGLES_PUNT                 246436 non-null  int64  \n 83  MOD_INGLES_DESEM                246436 non-null  object \n 84  MOD_INGLES_PNAL                 246436 non-null  int64  \n 85  MOD_INGLES_PNBC                 246435 non-null  float64\n 86  MOD_COMUNI_ESCRITA_PUNT         246435 non-null  float64\n 87  MOD_COMUNI_ESCRITA_DESEM        236500 non-null  float64\n 88  MOD_COMUNI_ESCRITA_PNAL         246435 non-null  float64\n 89  MOD_COMUNI_ESCRITA_PNBC         246434 non-null  float64\n 90  PUNT_GLOBAL                     246436 non-null  int64  \n 91  PERCENTIL_NBC                   246435 non-null  float64\n 92  PERCENTIL_GLOBAL                246436 non-null  int64  \n 93  ESTU_INSE_INDIVIDUAL            241030 non-null  float64\n 94  ESTU_NSE_INDIVIDUAL             241030 non-null  float64\n 95  ESTU_NSE_IES                    246436 non-null  int64  \n 96  ESTU_ESTADOINVESTIGACION        246436 non-null  object \ndtypes: float64(17), int64(19), object(61)\nmemory usage: 182.4+ MB\n",
     "output_type": "stream",
     "data": {}
    }
   ],
   "execution_count": null
  },
  {
   "cell_type": "code",
   "metadata": {
    "tags": [],
    "cell_id": "00013-f0674191-614e-4d9d-af77-03d20d86729d",
    "deepnote_to_be_reexecuted": false,
    "source_hash": "3f79f6c5",
    "execution_start": 1640008251365,
    "execution_millis": 5834,
    "deepnote_app_coordinates": {
     "x": 0,
     "y": 66,
     "w": 12,
     "h": 5
    },
    "deepnote_cell_type": "code"
   },
   "source": "# ¿Como se comportan las variables categoricas?\nsaber_pro.describe(include=[\"O\"])",
   "outputs": [
    {
     "output_type": "execute_result",
     "execution_count": 7,
     "data": {
      "application/vnd.deepnote.dataframe.v3+json": {
       "column_count": 61,
       "row_count": 4,
       "columns": [
        {
         "name": "ESTU_TIPODOCUMENTO",
         "dtype": "object",
         "stats": {
          "unique_count": 4,
          "nan_count": 0,
          "categories": [
           {
            "name": "246436",
            "count": 1
           },
           {
            "name": "8",
            "count": 1
           },
           {
            "name": "2 others",
            "count": 2
           }
          ]
         }
        },
        {
         "name": "ESTU_NACIONALIDAD",
         "dtype": "object",
         "stats": {
          "unique_count": 4,
          "nan_count": 0,
          "categories": [
           {
            "name": "246436",
            "count": 1
           },
           {
            "name": "49",
            "count": 1
           },
           {
            "name": "2 others",
            "count": 2
           }
          ]
         }
        },
        {
         "name": "ESTU_GENERO",
         "dtype": "object",
         "stats": {
          "unique_count": 4,
          "nan_count": 0,
          "categories": [
           {
            "name": "246363",
            "count": 1
           },
           {
            "name": "2",
            "count": 1
           },
           {
            "name": "2 others",
            "count": 2
           }
          ]
         }
        },
        {
         "name": "ESTU_FECHANACIMIENTO",
         "dtype": "object",
         "stats": {
          "unique_count": 4,
          "nan_count": 0,
          "categories": [
           {
            "name": "246397",
            "count": 1
           },
           {
            "name": "12924",
            "count": 1
           },
           {
            "name": "2 others",
            "count": 2
           }
          ]
         }
        },
        {
         "name": "ESTU_EXTERIOR",
         "dtype": "object",
         "stats": {
          "unique_count": 4,
          "nan_count": 0,
          "categories": [
           {
            "name": "246436",
            "count": 1
           },
           {
            "name": "2",
            "count": 1
           },
           {
            "name": "2 others",
            "count": 2
           }
          ]
         }
        },
        {
         "name": "ESTU_CONSECUTIVO",
         "dtype": "object",
         "stats": {
          "unique_count": 3,
          "nan_count": 0,
          "categories": [
           {
            "name": "246436",
            "count": 2
           },
           {
            "name": "EK202030293844",
            "count": 1
           },
           {
            "name": "1",
            "count": 1
           }
          ]
         }
        },
        {
         "name": "ESTU_ESTUDIANTE",
         "dtype": "object",
         "stats": {
          "unique_count": 3,
          "nan_count": 0,
          "categories": [
           {
            "name": "246436",
            "count": 2
           },
           {
            "name": "1",
            "count": 1
           },
           {
            "name": "ESTUDIANTE",
            "count": 1
           }
          ]
         }
        },
        {
         "name": "ESTU_PAIS_RESIDE",
         "dtype": "object",
         "stats": {
          "unique_count": 4,
          "nan_count": 0,
          "categories": [
           {
            "name": "246436",
            "count": 1
           },
           {
            "name": "49",
            "count": 1
           },
           {
            "name": "2 others",
            "count": 2
           }
          ]
         }
        },
        {
         "name": "ESTU_DEPTO_RESIDE",
         "dtype": "object",
         "stats": {
          "unique_count": 4,
          "nan_count": 0,
          "categories": [
           {
            "name": "246435",
            "count": 1
           },
           {
            "name": "34",
            "count": 1
           },
           {
            "name": "2 others",
            "count": 2
           }
          ]
         }
        },
        {
         "name": "ESTU_MCPIO_RESIDE",
         "dtype": "object",
         "stats": {
          "unique_count": 4,
          "nan_count": 0,
          "categories": [
           {
            "name": "246435",
            "count": 1
           },
           {
            "name": "1025",
            "count": 1
           },
           {
            "name": "2 others",
            "count": 2
           }
          ]
         }
        },
        {
         "name": "ESTU_AREARESIDE",
         "dtype": "object",
         "stats": {
          "unique_count": 4,
          "nan_count": 0,
          "categories": [
           {
            "name": "244728",
            "count": 1
           },
           {
            "name": "2",
            "count": 1
           },
           {
            "name": "2 others",
            "count": 2
           }
          ]
         }
        },
        {
         "name": "ESTU_ESTADOCIVIL",
         "dtype": "object",
         "stats": {
          "unique_count": 4,
          "nan_count": 0,
          "categories": [
           {
            "name": "245471",
            "count": 1
           },
           {
            "name": "4",
            "count": 1
           },
           {
            "name": "2 others",
            "count": 2
           }
          ]
         }
        },
        {
         "name": "ESTU_COLE_TERMINO",
         "dtype": "object",
         "stats": {
          "unique_count": 4,
          "nan_count": 0,
          "categories": [
           {
            "name": "168331",
            "count": 1
           },
           {
            "name": "9487",
            "count": 1
           },
           {
            "name": "2 others",
            "count": 2
           }
          ]
         }
        },
        {
         "name": "ESTU_TITULOOBTENIDOBACHILLER",
         "dtype": "object",
         "stats": {
          "unique_count": 4,
          "nan_count": 0,
          "categories": [
           {
            "name": "244627",
            "count": 1
           },
           {
            "name": "3",
            "count": 1
           },
           {
            "name": "2 others",
            "count": 2
           }
          ]
         }
        },
        {
         "name": "ESTU_VALORMATRICULAUNIVERSIDAD",
         "dtype": "object",
         "stats": {
          "unique_count": 4,
          "nan_count": 0,
          "categories": [
           {
            "name": "244627",
            "count": 1
           },
           {
            "name": "8",
            "count": 1
           },
           {
            "name": "2 others",
            "count": 2
           }
          ]
         }
        },
        {
         "name": "ESTU_PAGOMATRICULABECA",
         "dtype": "object",
         "stats": {
          "unique_count": 4,
          "nan_count": 0,
          "categories": [
           {
            "name": "244563",
            "count": 1
           },
           {
            "name": "2",
            "count": 1
           },
           {
            "name": "2 others",
            "count": 2
           }
          ]
         }
        },
        {
         "name": "ESTU_PAGOMATRICULACREDITO",
         "dtype": "object",
         "stats": {
          "unique_count": 4,
          "nan_count": 0,
          "categories": [
           {
            "name": "244575",
            "count": 1
           },
           {
            "name": "2",
            "count": 1
           },
           {
            "name": "2 others",
            "count": 2
           }
          ]
         }
        },
        {
         "name": "ESTU_PAGOMATRICULAPADRES",
         "dtype": "object",
         "stats": {
          "unique_count": 4,
          "nan_count": 0,
          "categories": [
           {
            "name": "244589",
            "count": 1
           },
           {
            "name": "2",
            "count": 1
           },
           {
            "name": "2 others",
            "count": 2
           }
          ]
         }
        },
        {
         "name": "ESTU_PAGOMATRICULAPROPIO",
         "dtype": "object",
         "stats": {
          "unique_count": 4,
          "nan_count": 0,
          "categories": [
           {
            "name": "244576",
            "count": 1
           },
           {
            "name": "2",
            "count": 1
           },
           {
            "name": "2 others",
            "count": 2
           }
          ]
         }
        },
        {
         "name": "ESTU_COMOCAPACITOEXAMENSB11",
         "dtype": "object",
         "stats": {
          "unique_count": 4,
          "nan_count": 0,
          "categories": [
           {
            "name": "244715",
            "count": 1
           },
           {
            "name": "3",
            "count": 1
           },
           {
            "name": "2 others",
            "count": 2
           }
          ]
         }
        },
        {
         "name": "ESTU_CURSODOCENTESIES",
         "dtype": "object",
         "stats": {
          "unique_count": 4,
          "nan_count": 0,
          "categories": [
           {
            "name": "25087",
            "count": 1
           },
           {
            "name": "3",
            "count": 1
           },
           {
            "name": "2 others",
            "count": 2
           }
          ]
         }
        },
        {
         "name": "ESTU_CURSOIESAPOYOEXTERNO",
         "dtype": "object",
         "stats": {
          "unique_count": 4,
          "nan_count": 0,
          "categories": [
           {
            "name": "25079",
            "count": 1
           },
           {
            "name": "3",
            "count": 1
           },
           {
            "name": "2 others",
            "count": 2
           }
          ]
         }
        },
        {
         "name": "ESTU_CURSOIESEXTERNA",
         "dtype": "object",
         "stats": {
          "unique_count": 4,
          "nan_count": 0,
          "categories": [
           {
            "name": "25077",
            "count": 1
           },
           {
            "name": "3",
            "count": 1
           },
           {
            "name": "2 others",
            "count": 2
           }
          ]
         }
        },
        {
         "name": "ESTU_SIMULACROTIPOICFES",
         "dtype": "object",
         "stats": {
          "unique_count": 4,
          "nan_count": 0,
          "categories": [
           {
            "name": "25088",
            "count": 1
           },
           {
            "name": "2",
            "count": 1
           },
           {
            "name": "2 others",
            "count": 2
           }
          ]
         }
        },
        {
         "name": "ESTU_ACTIVIDADREFUERZOAREAS",
         "dtype": "object",
         "stats": {
          "unique_count": 4,
          "nan_count": 0,
          "categories": [
           {
            "name": "25086",
            "count": 1
           },
           {
            "name": "2",
            "count": 1
           },
           {
            "name": "2 others",
            "count": 2
           }
          ]
         }
        },
        {
         "name": "ESTU_ACTIVIDADREFUERZOGENERIC",
         "dtype": "object",
         "stats": {
          "unique_count": 4,
          "nan_count": 0,
          "categories": [
           {
            "name": "25085",
            "count": 1
           },
           {
            "name": "2",
            "count": 1
           },
           {
            "name": "2 others",
            "count": 2
           }
          ]
         }
        },
        {
         "name": "ESTU_TIPODOCUMENTOSB11",
         "dtype": "object",
         "stats": {
          "unique_count": 4,
          "nan_count": 0,
          "categories": [
           {
            "name": "241893",
            "count": 1
           },
           {
            "name": "6",
            "count": 1
           },
           {
            "name": "2 others",
            "count": 2
           }
          ]
         }
        },
        {
         "name": "ESTU_SEMESTRECURSA",
         "dtype": "object",
         "stats": {
          "unique_count": 4,
          "nan_count": 0,
          "categories": [
           {
            "name": "244627",
            "count": 1
           },
           {
            "name": "12",
            "count": 1
           },
           {
            "name": "2 others",
            "count": 2
           }
          ]
         }
        },
        {
         "name": "FAMI_EDUCACIONPADRE",
         "dtype": "object",
         "stats": {
          "unique_count": 4,
          "nan_count": 0,
          "categories": [
           {
            "name": "242758",
            "count": 1
           },
           {
            "name": "12",
            "count": 1
           },
           {
            "name": "2 others",
            "count": 2
           }
          ]
         }
        },
        {
         "name": "FAMI_EDUCACIONMADRE",
         "dtype": "object",
         "stats": {
          "unique_count": 4,
          "nan_count": 0,
          "categories": [
           {
            "name": "242510",
            "count": 1
           },
           {
            "name": "12",
            "count": 1
           },
           {
            "name": "2 others",
            "count": 2
           }
          ]
         }
        },
        {
         "name": "FAMI_TRABAJOLABORPADRE",
         "dtype": "object",
         "stats": {
          "unique_count": 4,
          "nan_count": 0,
          "categories": [
           {
            "name": "220853",
            "count": 1
           },
           {
            "name": "13",
            "count": 1
           },
           {
            "name": "2 others",
            "count": 2
           }
          ]
         }
        },
        {
         "name": "FAMI_TRABAJOLABORMADRE",
         "dtype": "object",
         "stats": {
          "unique_count": 4,
          "nan_count": 0,
          "categories": [
           {
            "name": "232267",
            "count": 1
           },
           {
            "name": "13",
            "count": 1
           },
           {
            "name": "2 others",
            "count": 2
           }
          ]
         }
        },
        {
         "name": "FAMI_ESTRATOVIVIENDA",
         "dtype": "object",
         "stats": {
          "unique_count": 4,
          "nan_count": 0,
          "categories": [
           {
            "name": "241644",
            "count": 1
           },
           {
            "name": "7",
            "count": 1
           },
           {
            "name": "2 others",
            "count": 2
           }
          ]
         }
        },
        {
         "name": "ESTU_OTROCOLE_TERMINO",
         "dtype": "object",
         "stats": {
          "unique_count": 4,
          "nan_count": 0,
          "categories": [
           {
            "name": "51304",
            "count": 1
           },
           {
            "name": "35387",
            "count": 1
           },
           {
            "name": "2 others",
            "count": 2
           }
          ]
         }
        },
        {
         "name": "FAMI_TIENEINTERNET",
         "dtype": "object",
         "stats": {
          "unique_count": 4,
          "nan_count": 0,
          "categories": [
           {
            "name": "241461",
            "count": 1
           },
           {
            "name": "2",
            "count": 1
           },
           {
            "name": "2 others",
            "count": 2
           }
          ]
         }
        },
        {
         "name": "FAMI_TIENECOMPUTADOR",
         "dtype": "object",
         "stats": {
          "unique_count": 4,
          "nan_count": 0,
          "categories": [
           {
            "name": "238856",
            "count": 1
           },
           {
            "name": "2",
            "count": 1
           },
           {
            "name": "2 others",
            "count": 2
           }
          ]
         }
        },
        {
         "name": "FAMI_TIENELAVADORA",
         "dtype": "object",
         "stats": {
          "unique_count": 4,
          "nan_count": 0,
          "categories": [
           {
            "name": "238613",
            "count": 1
           },
           {
            "name": "2",
            "count": 1
           },
           {
            "name": "2 others",
            "count": 2
           }
          ]
         }
        },
        {
         "name": "FAMI_TIENEHORNOMICROOGAS",
         "dtype": "object",
         "stats": {
          "unique_count": 4,
          "nan_count": 0,
          "categories": [
           {
            "name": "236804",
            "count": 1
           },
           {
            "name": "2",
            "count": 1
           },
           {
            "name": "2 others",
            "count": 2
           }
          ]
         }
        },
        {
         "name": "FAMI_TIENESERVICIOTV",
         "dtype": "object",
         "stats": {
          "unique_count": 4,
          "nan_count": 0,
          "categories": [
           {
            "name": "241185",
            "count": 1
           },
           {
            "name": "2",
            "count": 1
           },
           {
            "name": "2 others",
            "count": 2
           }
          ]
         }
        },
        {
         "name": "FAMI_TIENEAUTOMOVIL",
         "dtype": "object",
         "stats": {
          "unique_count": 4,
          "nan_count": 0,
          "categories": [
           {
            "name": "235462",
            "count": 1
           },
           {
            "name": "2",
            "count": 1
           },
           {
            "name": "2 others",
            "count": 2
           }
          ]
         }
        },
        {
         "name": "FAMI_TIENEMOTOCICLETA",
         "dtype": "object",
         "stats": {
          "unique_count": 4,
          "nan_count": 0,
          "categories": [
           {
            "name": "234754",
            "count": 1
           },
           {
            "name": "2",
            "count": 1
           },
           {
            "name": "2 others",
            "count": 2
           }
          ]
         }
        },
        {
         "name": "FAMI_TIENECONSOLAVIDEOJUEGOS",
         "dtype": "object",
         "stats": {
          "unique_count": 4,
          "nan_count": 0,
          "categories": [
           {
            "name": "234558",
            "count": 1
           },
           {
            "name": "2",
            "count": 1
           },
           {
            "name": "2 others",
            "count": 2
           }
          ]
         }
        },
        {
         "name": "FAMI_CUANTOSCOMPARTEBA�O",
         "dtype": "object",
         "stats": {
          "unique_count": 4,
          "nan_count": 0,
          "categories": [
           {
            "name": "240378",
            "count": 1
           },
           {
            "name": "6",
            "count": 1
           },
           {
            "name": "2 others",
            "count": 2
           }
          ]
         }
        },
        {
         "name": "ESTU_HORASSEMANATRABAJA",
         "dtype": "object",
         "stats": {
          "unique_count": 4,
          "nan_count": 0,
          "categories": [
           {
            "name": "239576",
            "count": 1
           },
           {
            "name": "5",
            "count": 1
           },
           {
            "name": "2 others",
            "count": 2
           }
          ]
         }
        },
        {
         "name": "INST_NOMBRE_INSTITUCION",
         "dtype": "object",
         "stats": {
          "unique_count": 4,
          "nan_count": 0,
          "categories": [
           {
            "name": "246436",
            "count": 1
           },
           {
            "name": "260",
            "count": 1
           },
           {
            "name": "2 others",
            "count": 2
           }
          ]
         }
        },
        {
         "name": "ESTU_PRGM_ACADEMICO",
         "dtype": "object",
         "stats": {
          "unique_count": 4,
          "nan_count": 0,
          "categories": [
           {
            "name": "246436",
            "count": 1
           },
           {
            "name": "839",
            "count": 1
           },
           {
            "name": "2 others",
            "count": 2
           }
          ]
         }
        },
        {
         "name": "GRUPOREFERENCIA",
         "dtype": "object",
         "stats": {
          "unique_count": 4,
          "nan_count": 0,
          "categories": [
           {
            "name": "246436",
            "count": 1
           },
           {
            "name": "21",
            "count": 1
           },
           {
            "name": "2 others",
            "count": 2
           }
          ]
         }
        },
        {
         "name": "ESTU_PRGM_MUNICIPIO",
         "dtype": "object",
         "stats": {
          "unique_count": 4,
          "nan_count": 0,
          "categories": [
           {
            "name": "246436",
            "count": 1
           },
           {
            "name": "132",
            "count": 1
           },
           {
            "name": "2 others",
            "count": 2
           }
          ]
         }
        },
        {
         "name": "ESTU_PRGM_DEPARTAMENTO",
         "dtype": "object",
         "stats": {
          "unique_count": 4,
          "nan_count": 0,
          "categories": [
           {
            "name": "246436",
            "count": 1
           },
           {
            "name": "30",
            "count": 1
           },
           {
            "name": "2 others",
            "count": 2
           }
          ]
         }
        },
        {
         "name": "ESTU_NIVEL_PRGM_ACADEMICO",
         "dtype": "object",
         "stats": {
          "unique_count": 3,
          "nan_count": 0,
          "categories": [
           {
            "name": "246436",
            "count": 2
           },
           {
            "name": "1",
            "count": 1
           },
           {
            "name": "UNIVERSITARIO",
            "count": 1
           }
          ]
         }
        },
        {
         "name": "ESTU_METODO_PRGM",
         "dtype": "object",
         "stats": {
          "unique_count": 4,
          "nan_count": 0,
          "categories": [
           {
            "name": "246436",
            "count": 1
           },
           {
            "name": "3",
            "count": 1
           },
           {
            "name": "2 others",
            "count": 2
           }
          ]
         }
        },
        {
         "name": "ESTU_NUCLEO_PREGRADO",
         "dtype": "object",
         "stats": {
          "unique_count": 4,
          "nan_count": 0,
          "categories": [
           {
            "name": "246436",
            "count": 1
           },
           {
            "name": "56",
            "count": 1
           },
           {
            "name": "2 others",
            "count": 2
           }
          ]
         }
        },
        {
         "name": "ESTU_INST_MUNICIPIO",
         "dtype": "object",
         "stats": {
          "unique_count": 4,
          "nan_count": 0,
          "categories": [
           {
            "name": "246436",
            "count": 1
           },
           {
            "name": "60",
            "count": 1
           },
           {
            "name": "2 others",
            "count": 2
           }
          ]
         }
        },
        {
         "name": "ESTU_INST_DEPARTAMENTO",
         "dtype": "object",
         "stats": {
          "unique_count": 4,
          "nan_count": 0,
          "categories": [
           {
            "name": "246436",
            "count": 1
           },
           {
            "name": "26",
            "count": 1
           },
           {
            "name": "2 others",
            "count": 2
           }
          ]
         }
        },
        {
         "name": "INST_CARACTER_ACADEMICO",
         "dtype": "object",
         "stats": {
          "unique_count": 4,
          "nan_count": 0,
          "categories": [
           {
            "name": "246436",
            "count": 1
           },
           {
            "name": "4",
            "count": 1
           },
           {
            "name": "2 others",
            "count": 2
           }
          ]
         }
        },
        {
         "name": "INST_ORIGEN",
         "dtype": "object",
         "stats": {
          "unique_count": 4,
          "nan_count": 0,
          "categories": [
           {
            "name": "246436",
            "count": 1
           },
           {
            "name": "6",
            "count": 1
           },
           {
            "name": "2 others",
            "count": 2
           }
          ]
         }
        },
        {
         "name": "ESTU_PRIVADO_LIBERTAD",
         "dtype": "object",
         "stats": {
          "unique_count": 4,
          "nan_count": 0,
          "categories": [
           {
            "name": "246436",
            "count": 1
           },
           {
            "name": "2",
            "count": 1
           },
           {
            "name": "2 others",
            "count": 2
           }
          ]
         }
        },
        {
         "name": "ESTU_MCPIO_PRESENTACION",
         "dtype": "object",
         "stats": {
          "unique_count": 4,
          "nan_count": 0,
          "categories": [
           {
            "name": "246354",
            "count": 1
           },
           {
            "name": "118",
            "count": 1
           },
           {
            "name": "2 others",
            "count": 2
           }
          ]
         }
        },
        {
         "name": "ESTU_DEPTO_PRESENTACION",
         "dtype": "object",
         "stats": {
          "unique_count": 4,
          "nan_count": 0,
          "categories": [
           {
            "name": "246354",
            "count": 1
           },
           {
            "name": "34",
            "count": 1
           },
           {
            "name": "2 others",
            "count": 2
           }
          ]
         }
        },
        {
         "name": "MOD_INGLES_DESEM",
         "dtype": "object",
         "stats": {
          "unique_count": 4,
          "nan_count": 0,
          "categories": [
           {
            "name": "246436",
            "count": 1
           },
           {
            "name": "5",
            "count": 1
           },
           {
            "name": "2 others",
            "count": 2
           }
          ]
         }
        },
        {
         "name": "ESTU_ESTADOINVESTIGACION",
         "dtype": "object",
         "stats": {
          "unique_count": 4,
          "nan_count": 0,
          "categories": [
           {
            "name": "246436",
            "count": 1
           },
           {
            "name": "2",
            "count": 1
           },
           {
            "name": "2 others",
            "count": 2
           }
          ]
         }
        },
        {
         "name": "_deepnote_index_column",
         "dtype": "object"
        }
       ],
       "rows": [
        {
         "ESTU_TIPODOCUMENTO": "246436",
         "ESTU_NACIONALIDAD": "246436",
         "ESTU_GENERO": "246363",
         "ESTU_FECHANACIMIENTO": "246397",
         "ESTU_EXTERIOR": "246436",
         "ESTU_CONSECUTIVO": "246436",
         "ESTU_ESTUDIANTE": "246436",
         "ESTU_PAIS_RESIDE": "246436",
         "ESTU_DEPTO_RESIDE": "246435",
         "ESTU_MCPIO_RESIDE": "246435",
         "ESTU_AREARESIDE": "244728",
         "ESTU_ESTADOCIVIL": "245471",
         "ESTU_COLE_TERMINO": "168331",
         "ESTU_TITULOOBTENIDOBACHILLER": "244627",
         "ESTU_VALORMATRICULAUNIVERSIDAD": "244627",
         "ESTU_PAGOMATRICULABECA": "244563",
         "ESTU_PAGOMATRICULACREDITO": "244575",
         "ESTU_PAGOMATRICULAPADRES": "244589",
         "ESTU_PAGOMATRICULAPROPIO": "244576",
         "ESTU_COMOCAPACITOEXAMENSB11": "244715",
         "ESTU_CURSODOCENTESIES": "25087",
         "ESTU_CURSOIESAPOYOEXTERNO": "25079",
         "ESTU_CURSOIESEXTERNA": "25077",
         "ESTU_SIMULACROTIPOICFES": "25088",
         "ESTU_ACTIVIDADREFUERZOAREAS": "25086",
         "ESTU_ACTIVIDADREFUERZOGENERIC": "25085",
         "ESTU_TIPODOCUMENTOSB11": "241893",
         "ESTU_SEMESTRECURSA": "244627",
         "FAMI_EDUCACIONPADRE": "242758",
         "FAMI_EDUCACIONMADRE": "242510",
         "FAMI_TRABAJOLABORPADRE": "220853",
         "FAMI_TRABAJOLABORMADRE": "232267",
         "FAMI_ESTRATOVIVIENDA": "241644",
         "ESTU_OTROCOLE_TERMINO": "51304",
         "FAMI_TIENEINTERNET": "241461",
         "FAMI_TIENECOMPUTADOR": "238856",
         "FAMI_TIENELAVADORA": "238613",
         "FAMI_TIENEHORNOMICROOGAS": "236804",
         "FAMI_TIENESERVICIOTV": "241185",
         "FAMI_TIENEAUTOMOVIL": "235462",
         "FAMI_TIENEMOTOCICLETA": "234754",
         "FAMI_TIENECONSOLAVIDEOJUEGOS": "234558",
         "FAMI_CUANTOSCOMPARTEBA�O": "240378",
         "ESTU_HORASSEMANATRABAJA": "239576",
         "INST_NOMBRE_INSTITUCION": "246436",
         "ESTU_PRGM_ACADEMICO": "246436",
         "GRUPOREFERENCIA": "246436",
         "ESTU_PRGM_MUNICIPIO": "246436",
         "ESTU_PRGM_DEPARTAMENTO": "246436",
         "ESTU_NIVEL_PRGM_ACADEMICO": "246436",
         "ESTU_METODO_PRGM": "246436",
         "ESTU_NUCLEO_PREGRADO": "246436",
         "ESTU_INST_MUNICIPIO": "246436",
         "ESTU_INST_DEPARTAMENTO": "246436",
         "INST_CARACTER_ACADEMICO": "246436",
         "INST_ORIGEN": "246436",
         "ESTU_PRIVADO_LIBERTAD": "246436",
         "ESTU_MCPIO_PRESENTACION": "246354",
         "ESTU_DEPTO_PRESENTACION": "246354",
         "MOD_INGLES_DESEM": "246436",
         "ESTU_ESTADOINVESTIGACION": "246436",
         "_deepnote_index_column": "count"
        },
        {
         "ESTU_TIPODOCUMENTO": "8",
         "ESTU_NACIONALIDAD": "49",
         "ESTU_GENERO": "2",
         "ESTU_FECHANACIMIENTO": "12924",
         "ESTU_EXTERIOR": "2",
         "ESTU_CONSECUTIVO": "246436",
         "ESTU_ESTUDIANTE": "1",
         "ESTU_PAIS_RESIDE": "49",
         "ESTU_DEPTO_RESIDE": "34",
         "ESTU_MCPIO_RESIDE": "1025",
         "ESTU_AREARESIDE": "2",
         "ESTU_ESTADOCIVIL": "4",
         "ESTU_COLE_TERMINO": "9487",
         "ESTU_TITULOOBTENIDOBACHILLER": "3",
         "ESTU_VALORMATRICULAUNIVERSIDAD": "8",
         "ESTU_PAGOMATRICULABECA": "2",
         "ESTU_PAGOMATRICULACREDITO": "2",
         "ESTU_PAGOMATRICULAPADRES": "2",
         "ESTU_PAGOMATRICULAPROPIO": "2",
         "ESTU_COMOCAPACITOEXAMENSB11": "3",
         "ESTU_CURSODOCENTESIES": "3",
         "ESTU_CURSOIESAPOYOEXTERNO": "3",
         "ESTU_CURSOIESEXTERNA": "3",
         "ESTU_SIMULACROTIPOICFES": "2",
         "ESTU_ACTIVIDADREFUERZOAREAS": "2",
         "ESTU_ACTIVIDADREFUERZOGENERIC": "2",
         "ESTU_TIPODOCUMENTOSB11": "6",
         "ESTU_SEMESTRECURSA": "12",
         "FAMI_EDUCACIONPADRE": "12",
         "FAMI_EDUCACIONMADRE": "12",
         "FAMI_TRABAJOLABORPADRE": "13",
         "FAMI_TRABAJOLABORMADRE": "13",
         "FAMI_ESTRATOVIVIENDA": "7",
         "ESTU_OTROCOLE_TERMINO": "35387",
         "FAMI_TIENEINTERNET": "2",
         "FAMI_TIENECOMPUTADOR": "2",
         "FAMI_TIENELAVADORA": "2",
         "FAMI_TIENEHORNOMICROOGAS": "2",
         "FAMI_TIENESERVICIOTV": "2",
         "FAMI_TIENEAUTOMOVIL": "2",
         "FAMI_TIENEMOTOCICLETA": "2",
         "FAMI_TIENECONSOLAVIDEOJUEGOS": "2",
         "FAMI_CUANTOSCOMPARTEBA�O": "6",
         "ESTU_HORASSEMANATRABAJA": "5",
         "INST_NOMBRE_INSTITUCION": "260",
         "ESTU_PRGM_ACADEMICO": "839",
         "GRUPOREFERENCIA": "21",
         "ESTU_PRGM_MUNICIPIO": "132",
         "ESTU_PRGM_DEPARTAMENTO": "30",
         "ESTU_NIVEL_PRGM_ACADEMICO": "1",
         "ESTU_METODO_PRGM": "3",
         "ESTU_NUCLEO_PREGRADO": "56",
         "ESTU_INST_MUNICIPIO": "60",
         "ESTU_INST_DEPARTAMENTO": "26",
         "INST_CARACTER_ACADEMICO": "4",
         "INST_ORIGEN": "6",
         "ESTU_PRIVADO_LIBERTAD": "2",
         "ESTU_MCPIO_PRESENTACION": "118",
         "ESTU_DEPTO_PRESENTACION": "34",
         "MOD_INGLES_DESEM": "5",
         "ESTU_ESTADOINVESTIGACION": "2",
         "_deepnote_index_column": "unique"
        },
        {
         "ESTU_TIPODOCUMENTO": "CC",
         "ESTU_NACIONALIDAD": "COLOMBIA",
         "ESTU_GENERO": "F",
         "ESTU_FECHANACIMIENTO": "10/09/1998",
         "ESTU_EXTERIOR": "NO",
         "ESTU_CONSECUTIVO": "EK202030293844",
         "ESTU_ESTUDIANTE": "ESTUDIANTE",
         "ESTU_PAIS_RESIDE": "COLOMBIA",
         "ESTU_DEPTO_RESIDE": "BOGOT�",
         "ESTU_MCPIO_RESIDE": "BOGOT� D.C.",
         "ESTU_AREARESIDE": "Cabecera Municipal",
         "ESTU_ESTADOCIVIL": "Soltero",
         "ESTU_COLE_TERMINO": "INST EDUC CEFA",
         "ESTU_TITULOOBTENIDOBACHILLER": "Bachiller acad�mico",
         "ESTU_VALORMATRICULAUNIVERSIDAD": "Entre 1 mill�n y menos de 2.5 millones",
         "ESTU_PAGOMATRICULABECA": "No",
         "ESTU_PAGOMATRICULACREDITO": "No",
         "ESTU_PAGOMATRICULAPADRES": "Si",
         "ESTU_PAGOMATRICULAPROPIO": "No",
         "ESTU_COMOCAPACITOEXAMENSB11": "Repas� por cuenta propia",
         "ESTU_CURSODOCENTESIES": "Menos de 20 horas",
         "ESTU_CURSOIESAPOYOEXTERNO": "Menos de 20 horas",
         "ESTU_CURSOIESEXTERNA": "Menos de 20 horas",
         "ESTU_SIMULACROTIPOICFES": "Si",
         "ESTU_ACTIVIDADREFUERZOAREAS": "Si",
         "ESTU_ACTIVIDADREFUERZOGENERIC": "Si",
         "ESTU_TIPODOCUMENTOSB11": "TI",
         "ESTU_SEMESTRECURSA": "9",
         "FAMI_EDUCACIONPADRE": "Primaria incompleta",
         "FAMI_EDUCACIONMADRE": "Secundaria (Bachillerato) completa",
         "FAMI_TRABAJOLABORPADRE": "Trabaja por cuenta propia (por ejemplo plomero, electricista)",
         "FAMI_TRABAJOLABORMADRE": "Trabaja en el hogar, no trabaja o estudia",
         "FAMI_ESTRATOVIVIENDA": "Estrato 2",
         "ESTU_OTROCOLE_TERMINO": "Liceo Salazar y Herrera",
         "FAMI_TIENEINTERNET": "Si",
         "FAMI_TIENECOMPUTADOR": "Si",
         "FAMI_TIENELAVADORA": "Si",
         "FAMI_TIENEHORNOMICROOGAS": "Si",
         "FAMI_TIENESERVICIOTV": "Si",
         "FAMI_TIENEAUTOMOVIL": "No",
         "FAMI_TIENEMOTOCICLETA": "No",
         "FAMI_TIENECONSOLAVIDEOJUEGOS": "No",
         "FAMI_CUANTOSCOMPARTEBA�O": "3 o 4",
         "ESTU_HORASSEMANATRABAJA": "M�s de 30 horas",
         "INST_NOMBRE_INSTITUCION": "CORPORACION UNIVERSITARIA MINUTO DE DIOS -UNIMINUTO-BOGOT� D.C.",
         "ESTU_PRGM_ACADEMICO": "DERECHO",
         "GRUPOREFERENCIA": "ADMINISTRACI�N Y AFINES",
         "ESTU_PRGM_MUNICIPIO": "BOGOT� D.C.",
         "ESTU_PRGM_DEPARTAMENTO": "BOGOT�",
         "ESTU_NIVEL_PRGM_ACADEMICO": "UNIVERSITARIO",
         "ESTU_METODO_PRGM": "PRESENCIAL",
         "ESTU_NUCLEO_PREGRADO": "ADMINISTRACI�N",
         "ESTU_INST_MUNICIPIO": "BOGOT� D.C.",
         "ESTU_INST_DEPARTAMENTO": "BOGOT�",
         "INST_CARACTER_ACADEMICO": "UNIVERSIDAD",
         "INST_ORIGEN": "NO OFICIAL - CORPORACI�N",
         "ESTU_PRIVADO_LIBERTAD": "N",
         "ESTU_MCPIO_PRESENTACION": "BOGOT� D.C.",
         "ESTU_DEPTO_PRESENTACION": "BOGOT�",
         "MOD_INGLES_DESEM": "A2",
         "ESTU_ESTADOINVESTIGACION": "PUBLICAR",
         "_deepnote_index_column": "top"
        },
        {
         "ESTU_TIPODOCUMENTO": "245020",
         "ESTU_NACIONALIDAD": "245930",
         "ESTU_GENERO": "145345",
         "ESTU_FECHANACIMIENTO": "164",
         "ESTU_EXTERIOR": "245756",
         "ESTU_CONSECUTIVO": "1",
         "ESTU_ESTUDIANTE": "246436",
         "ESTU_PAIS_RESIDE": "245930",
         "ESTU_DEPTO_RESIDE": "66544",
         "ESTU_MCPIO_RESIDE": "66544",
         "ESTU_AREARESIDE": "215832",
         "ESTU_ESTADOCIVIL": "199438",
         "ESTU_COLE_TERMINO": "595",
         "ESTU_TITULOOBTENIDOBACHILLER": "176618",
         "ESTU_VALORMATRICULAUNIVERSIDAD": "71704",
         "ESTU_PAGOMATRICULABECA": "196573",
         "ESTU_PAGOMATRICULACREDITO": "165358",
         "ESTU_PAGOMATRICULAPADRES": "123109",
         "ESTU_PAGOMATRICULAPROPIO": "136862",
         "ESTU_COMOCAPACITOEXAMENSB11": "162810",
         "ESTU_CURSODOCENTESIES": "9784",
         "ESTU_CURSOIESAPOYOEXTERNO": "13604",
         "ESTU_CURSOIESEXTERNA": "17065",
         "ESTU_SIMULACROTIPOICFES": "22370",
         "ESTU_ACTIVIDADREFUERZOAREAS": "20477",
         "ESTU_ACTIVIDADREFUERZOGENERIC": "20431",
         "ESTU_TIPODOCUMENTOSB11": "172612",
         "ESTU_SEMESTRECURSA": "81706",
         "FAMI_EDUCACIONPADRE": "47157",
         "FAMI_EDUCACIONMADRE": "51300",
         "FAMI_TRABAJOLABORPADRE": "33962",
         "FAMI_TRABAJOLABORMADRE": "95969",
         "FAMI_ESTRATOVIVIENDA": "87099",
         "ESTU_OTROCOLE_TERMINO": "49",
         "FAMI_TIENEINTERNET": "223357",
         "FAMI_TIENECOMPUTADOR": "224110",
         "FAMI_TIENELAVADORA": "207815",
         "FAMI_TIENEHORNOMICROOGAS": "125567",
         "FAMI_TIENESERVICIOTV": "190740",
         "FAMI_TIENEAUTOMOVIL": "150616",
         "FAMI_TIENEMOTOCICLETA": "151917",
         "FAMI_TIENECONSOLAVIDEOJUEGOS": "183555",
         "FAMI_CUANTOSCOMPARTEBA�O": "100238",
         "ESTU_HORASSEMANATRABAJA": "85896",
         "INST_NOMBRE_INSTITUCION": "18944",
         "ESTU_PRGM_ACADEMICO": "19875",
         "GRUPOREFERENCIA": "55448",
         "ESTU_PRGM_MUNICIPIO": "101260",
         "ESTU_PRGM_DEPARTAMENTO": "101260",
         "ESTU_NIVEL_PRGM_ACADEMICO": "246436",
         "ESTU_METODO_PRGM": "191522",
         "ESTU_NUCLEO_PREGRADO": "52931",
         "ESTU_INST_MUNICIPIO": "113299",
         "ESTU_INST_DEPARTAMENTO": "113299",
         "INST_CARACTER_ACADEMICO": "149622",
         "INST_ORIGEN": "88310",
         "ESTU_PRIVADO_LIBERTAD": "246419",
         "ESTU_MCPIO_PRESENTACION": "211614",
         "ESTU_DEPTO_PRESENTACION": "211614",
         "MOD_INGLES_DESEM": "68490",
         "ESTU_ESTADOINVESTIGACION": "246385",
         "_deepnote_index_column": "freq"
        }
       ]
      },
      "text/plain": "       ESTU_TIPODOCUMENTO ESTU_NACIONALIDAD ESTU_GENERO ESTU_FECHANACIMIENTO  \\\ncount              246436            246436      246363               246397   \nunique                  8                49           2                12924   \ntop                    CC          COLOMBIA           F           10/09/1998   \nfreq               245020            245930      145345                  164   \n\n       ESTU_EXTERIOR ESTU_CONSECUTIVO ESTU_ESTUDIANTE ESTU_PAIS_RESIDE  \\\ncount         246436           246436          246436           246436   \nunique             2           246436               1               49   \ntop               NO   EK202030293844      ESTUDIANTE         COLOMBIA   \nfreq          245756                1          246436           245930   \n\n       ESTU_DEPTO_RESIDE ESTU_MCPIO_RESIDE  ... ESTU_NUCLEO_PREGRADO  \\\ncount             246435            246435  ...               246436   \nunique                34              1025  ...                   56   \ntop               BOGOT�       BOGOT� D.C.  ...       ADMINISTRACI�N   \nfreq               66544             66544  ...                52931   \n\n       ESTU_INST_MUNICIPIO ESTU_INST_DEPARTAMENTO INST_CARACTER_ACADEMICO  \\\ncount               246436                 246436                  246436   \nunique                  60                     26                       4   \ntop            BOGOT� D.C.                 BOGOT�             UNIVERSIDAD   \nfreq                113299                 113299                  149622   \n\n                     INST_ORIGEN ESTU_PRIVADO_LIBERTAD  \\\ncount                     246436                246436   \nunique                         6                     2   \ntop     NO OFICIAL - CORPORACI�N                     N   \nfreq                       88310                246419   \n\n       ESTU_MCPIO_PRESENTACION ESTU_DEPTO_PRESENTACION MOD_INGLES_DESEM  \\\ncount                   246354                  246354           246436   \nunique                     118                      34                5   \ntop                BOGOT� D.C.                  BOGOT�               A2   \nfreq                    211614                  211614            68490   \n\n       ESTU_ESTADOINVESTIGACION  \ncount                    246436  \nunique                        2  \ntop                    PUBLICAR  \nfreq                     246385  \n\n[4 rows x 61 columns]",
      "text/html": "<div>\n<style scoped>\n    .dataframe tbody tr th:only-of-type {\n        vertical-align: middle;\n    }\n\n    .dataframe tbody tr th {\n        vertical-align: top;\n    }\n\n    .dataframe thead th {\n        text-align: right;\n    }\n</style>\n<table border=\"1\" class=\"dataframe\">\n  <thead>\n    <tr style=\"text-align: right;\">\n      <th></th>\n      <th>ESTU_TIPODOCUMENTO</th>\n      <th>ESTU_NACIONALIDAD</th>\n      <th>ESTU_GENERO</th>\n      <th>ESTU_FECHANACIMIENTO</th>\n      <th>ESTU_EXTERIOR</th>\n      <th>ESTU_CONSECUTIVO</th>\n      <th>ESTU_ESTUDIANTE</th>\n      <th>ESTU_PAIS_RESIDE</th>\n      <th>ESTU_DEPTO_RESIDE</th>\n      <th>ESTU_MCPIO_RESIDE</th>\n      <th>...</th>\n      <th>ESTU_NUCLEO_PREGRADO</th>\n      <th>ESTU_INST_MUNICIPIO</th>\n      <th>ESTU_INST_DEPARTAMENTO</th>\n      <th>INST_CARACTER_ACADEMICO</th>\n      <th>INST_ORIGEN</th>\n      <th>ESTU_PRIVADO_LIBERTAD</th>\n      <th>ESTU_MCPIO_PRESENTACION</th>\n      <th>ESTU_DEPTO_PRESENTACION</th>\n      <th>MOD_INGLES_DESEM</th>\n      <th>ESTU_ESTADOINVESTIGACION</th>\n    </tr>\n  </thead>\n  <tbody>\n    <tr>\n      <th>count</th>\n      <td>246436</td>\n      <td>246436</td>\n      <td>246363</td>\n      <td>246397</td>\n      <td>246436</td>\n      <td>246436</td>\n      <td>246436</td>\n      <td>246436</td>\n      <td>246435</td>\n      <td>246435</td>\n      <td>...</td>\n      <td>246436</td>\n      <td>246436</td>\n      <td>246436</td>\n      <td>246436</td>\n      <td>246436</td>\n      <td>246436</td>\n      <td>246354</td>\n      <td>246354</td>\n      <td>246436</td>\n      <td>246436</td>\n    </tr>\n    <tr>\n      <th>unique</th>\n      <td>8</td>\n      <td>49</td>\n      <td>2</td>\n      <td>12924</td>\n      <td>2</td>\n      <td>246436</td>\n      <td>1</td>\n      <td>49</td>\n      <td>34</td>\n      <td>1025</td>\n      <td>...</td>\n      <td>56</td>\n      <td>60</td>\n      <td>26</td>\n      <td>4</td>\n      <td>6</td>\n      <td>2</td>\n      <td>118</td>\n      <td>34</td>\n      <td>5</td>\n      <td>2</td>\n    </tr>\n    <tr>\n      <th>top</th>\n      <td>CC</td>\n      <td>COLOMBIA</td>\n      <td>F</td>\n      <td>10/09/1998</td>\n      <td>NO</td>\n      <td>EK202030293844</td>\n      <td>ESTUDIANTE</td>\n      <td>COLOMBIA</td>\n      <td>BOGOT�</td>\n      <td>BOGOT� D.C.</td>\n      <td>...</td>\n      <td>ADMINISTRACI�N</td>\n      <td>BOGOT� D.C.</td>\n      <td>BOGOT�</td>\n      <td>UNIVERSIDAD</td>\n      <td>NO OFICIAL - CORPORACI�N</td>\n      <td>N</td>\n      <td>BOGOT� D.C.</td>\n      <td>BOGOT�</td>\n      <td>A2</td>\n      <td>PUBLICAR</td>\n    </tr>\n    <tr>\n      <th>freq</th>\n      <td>245020</td>\n      <td>245930</td>\n      <td>145345</td>\n      <td>164</td>\n      <td>245756</td>\n      <td>1</td>\n      <td>246436</td>\n      <td>245930</td>\n      <td>66544</td>\n      <td>66544</td>\n      <td>...</td>\n      <td>52931</td>\n      <td>113299</td>\n      <td>113299</td>\n      <td>149622</td>\n      <td>88310</td>\n      <td>246419</td>\n      <td>211614</td>\n      <td>211614</td>\n      <td>68490</td>\n      <td>246385</td>\n    </tr>\n  </tbody>\n</table>\n<p>4 rows × 61 columns</p>\n</div>"
     },
     "metadata": {}
    }
   ],
   "execution_count": null
  },
  {
   "cell_type": "markdown",
   "source": "### 3.1 Gráficos de la variable puntaje global",
   "metadata": {
    "tags": [],
    "deepnote_app_coordinates": {
     "x": 0,
     "y": 0,
     "w": 12,
     "h": 5
    },
    "cell_id": "00011-779d2e90-f59c-46b1-ba13-6842d8338b79",
    "deepnote_cell_type": "markdown"
   }
  },
  {
   "cell_type": "code",
   "metadata": {
    "tags": [],
    "deepnote_app_coordinates": {
     "x": 0,
     "y": 0,
     "w": 12,
     "h": 5
    },
    "cell_id": "00012-fc11b6c9-16ff-4d8e-a7b8-75f88c367c03",
    "deepnote_to_be_reexecuted": false,
    "source_hash": "49944225",
    "execution_start": 1640003506829,
    "execution_millis": 3319,
    "deepnote_output_heights": [
     335
    ],
    "deepnote_cell_type": "code"
   },
   "source": "# Gráficamos la variable depediente que es el puntaje de los estudiantes\nplt.figure(figsize=(9,5))\nsns.histplot(data = saber_pro, x = \"PUNT_GLOBAL\", color = \"g\", \n             binwidth = 10, binrange = [0, 300], kde = True)\nplt.title(\"Resultados de los estudiantes\")\nplt.xlabel(\"Puntaje\")\nplt.show()",
   "execution_count": null,
   "outputs": [
    {
     "data": {
      "text/plain": "<Figure size 648x360 with 1 Axes>",
      "image/png": "[encoded data removed]"
     },
     "metadata": {
      "needs_background": "light",
      "image/png": {
       "width": 569,
       "height": 333
      }
     },
     "output_type": "display_data"
    }
   ]
  },
  {
   "cell_type": "code",
   "metadata": {
    "tags": [],
    "deepnote_app_coordinates": {
     "x": 0,
     "y": 0,
     "w": 12,
     "h": 5
    },
    "cell_id": "00014-4849d8f0-c71f-4d56-ad06-d779bf42f95c",
    "deepnote_to_be_reexecuted": false,
    "source_hash": "2fa732bc",
    "execution_start": 1640003515277,
    "execution_millis": 3956,
    "deepnote_output_heights": [
     335
    ],
    "deepnote_cell_type": "code"
   },
   "source": "# Resultados y género\nplt.figure(figsize=(9,5))\nsns.histplot(data = saber_pro, x = \"PUNT_GLOBAL\", palette = \"rocket\", hue = \"ESTU_GENERO\",  \n             binwidth = 10, binrange = [0, 300], kde = True)\nplt.title(\"Resultados de los estudiantes por género\")\nplt.xlabel(\"Puntaje\")\nplt.show()",
   "execution_count": null,
   "outputs": [
    {
     "data": {
      "text/plain": "<Figure size 648x360 with 1 Axes>",
      "image/png": "[encoded data removed]"
     },
     "metadata": {
      "needs_background": "light",
      "image/png": {
       "width": 569,
       "height": 333
      }
     },
     "output_type": "display_data"
    }
   ]
  },
  {
   "cell_type": "code",
   "metadata": {
    "tags": [],
    "deepnote_app_coordinates": {
     "x": 0,
     "y": 0,
     "w": 12,
     "h": 5
    },
    "cell_id": "00014-90f990a7-3902-49a8-8a8d-061b7901fd15",
    "deepnote_to_be_reexecuted": false,
    "source_hash": "e8fefc94",
    "execution_start": 1640002543962,
    "execution_millis": 3345,
    "deepnote_output_heights": [
     335
    ],
    "deepnote_cell_type": "code"
   },
   "source": "# Resultados y estrato socioeconómico\nplt.figure(figsize=(9,5))\nsns.histplot(data = saber_pro, x = \"PUNT_GLOBAL\", palette = \"rocket\", hue = \"FAMI_ESTRATOVIVIENDA\", multiple = \"stack\",  \n             binwidth = 10, binrange = [0, 300], kde = True)\nplt.title(\"Resultados de los estudiantes y estrato socioeconómico\")\nplt.xlabel(\"Puntaje\")\nplt.show()",
   "execution_count": null,
   "outputs": [
    {
     "data": {
      "text/plain": "<Figure size 648x360 with 1 Axes>",
      "image/png": "[encoded data removed]"
     },
     "metadata": {
      "needs_background": "light",
      "image/png": {
       "width": 569,
       "height": 333
      }
     },
     "output_type": "display_data"
    }
   ]
  },
  {
   "cell_type": "code",
   "metadata": {
    "tags": [],
    "deepnote_app_coordinates": {
     "x": 0,
     "y": 0,
     "w": 12,
     "h": 5
    },
    "cell_id": "00015-2e9c0fcf-bec1-462c-af4c-a90667014649",
    "deepnote_to_be_reexecuted": false,
    "source_hash": "105d3810",
    "execution_start": 1640002547317,
    "execution_millis": 3167,
    "deepnote_output_heights": [
     335
    ],
    "deepnote_cell_type": "code"
   },
   "source": "# Resultados y institución educativa\nplt.figure(figsize=(9,5))\nsns.histplot(data = saber_pro, x = \"PUNT_GLOBAL\", palette = \"magma\", hue = \"INST_ORIGEN\", multiple = \"stack\",  \n             binwidth = 10, binrange = [0, 300], kde = True)\nplt.title(\"Resultados de los estudiantes y institución educativa\")\nplt.xlabel(\"Puntaje\")\nplt.show()",
   "execution_count": null,
   "outputs": [
    {
     "data": {
      "text/plain": "<Figure size 648x360 with 1 Axes>",
      "image/png": "[encoded data removed]"
     },
     "metadata": {
      "needs_background": "light",
      "image/png": {
       "width": 569,
       "height": 333
      }
     },
     "output_type": "display_data"
    }
   ]
  },
  {
   "cell_type": "code",
   "metadata": {
    "tags": [],
    "deepnote_app_coordinates": {
     "x": 0,
     "y": 0,
     "w": 12,
     "h": 5
    },
    "cell_id": "00016-ac410074-e5ef-4e7c-92eb-b7ca948b40e2",
    "deepnote_to_be_reexecuted": false,
    "source_hash": "16a4c2e3",
    "execution_start": 1640002550549,
    "execution_millis": 2771,
    "deepnote_output_heights": [
     335
    ],
    "deepnote_cell_type": "code"
   },
   "source": "# Resultados y modalidad de estudio\nplt.figure(figsize=(9,5))\nsns.histplot(data = saber_pro, x = \"PUNT_GLOBAL\", palette = \"magma\", hue = \"ESTU_METODO_PRGM\", multiple = \"stack\",  \n             binwidth = 10, binrange = [0, 300], kde = True)\nplt.title(\"Resultados de los estudiantes y modalidad de estudio\")\nplt.xlabel(\"Puntaje\")\nplt.show()",
   "execution_count": null,
   "outputs": [
    {
     "data": {
      "text/plain": "<Figure size 648x360 with 1 Axes>",
      "image/png": "[encoded data removed]"
     },
     "metadata": {
      "needs_background": "light",
      "image/png": {
       "width": 569,
       "height": 333
      }
     },
     "output_type": "display_data"
    }
   ]
  },
  {
   "cell_type": "markdown",
   "source": "### 4. Procesamiento de datos",
   "metadata": {
    "tags": [],
    "cell_id": "00012-f86c8a97-0261-4971-a406-d86ff5740566",
    "deepnote_app_coordinates": {
     "x": 0,
     "y": 102,
     "w": 12,
     "h": 5
    },
    "deepnote_cell_type": "markdown"
   }
  },
  {
   "cell_type": "code",
   "metadata": {
    "tags": [],
    "cell_id": "00003-cd083cb5-c7b2-455f-81cc-351cc406c33d",
    "deepnote_to_be_reexecuted": false,
    "source_hash": "8199cc87",
    "execution_start": 1640008573766,
    "execution_millis": 25,
    "deepnote_app_coordinates": {
     "x": 0,
     "y": 72,
     "w": 12,
     "h": 5
    },
    "deepnote_cell_type": "code"
   },
   "source": "# Procedemos a seleccionar nuestras columnas de interes\nsaber_pro = saber_pro[[\"ESTU_GENERO\", \"ESTU_AREARESIDE\", \"ESTU_VALORMATRICULAUNIVERSIDAD\", \"ESTU_PAGOMATRICULABECA\",\n\"FAMI_EDUCACIONPADRE\", \"FAMI_EDUCACIONMADRE\", \"FAMI_ESTRATOVIVIENDA\", \"FAMI_TIENEINTERNET\",\n\"FAMI_TIENECOMPUTADOR\", \"FAMI_TIENELAVADORA\", \"FAMI_TIENEHORNOMICROOGAS\", \"FAMI_TIENESERVICIOTV\",\n\"FAMI_TIENEAUTOMOVIL\", \"FAMI_TIENEMOTOCICLETA\", \"FAMI_TIENECONSOLAVIDEOJUEGOS\",\n\"ESTU_HORASSEMANATRABAJA\", \"ESTU_METODO_PRGM\", \"INST_ORIGEN\", \"ESTU_ESTADOCIVIL\", \"ESTU_SIMULACROTIPOICFES\", \"PUNT_GLOBAL\"]]",
   "execution_count": 4,
   "outputs": []
  },
  {
   "cell_type": "code",
   "metadata": {
    "tags": [],
    "cell_id": "00014-cbed662d-5b3a-4259-8de9-b90e47e2d70c",
    "deepnote_to_be_reexecuted": false,
    "source_hash": "8d43e41a",
    "execution_start": 1640008576519,
    "execution_millis": 172,
    "deepnote_app_coordinates": {
     "x": 0,
     "y": 108,
     "w": 12,
     "h": 5
    },
    "deepnote_cell_type": "code"
   },
   "source": "# Observamos las 5 primeras filas de nuestro dataset\nsaber_pro.info()",
   "execution_count": 5,
   "outputs": [
    {
     "name": "stdout",
     "text": "<class 'pandas.core.frame.DataFrame'>\nRangeIndex: 246436 entries, 0 to 246435\nData columns (total 21 columns):\n #   Column                          Non-Null Count   Dtype \n---  ------                          --------------   ----- \n 0   ESTU_GENERO                     246363 non-null  object\n 1   ESTU_AREARESIDE                 244728 non-null  object\n 2   ESTU_VALORMATRICULAUNIVERSIDAD  244627 non-null  object\n 3   ESTU_PAGOMATRICULABECA          244563 non-null  object\n 4   FAMI_EDUCACIONPADRE             242758 non-null  object\n 5   FAMI_EDUCACIONMADRE             242510 non-null  object\n 6   FAMI_ESTRATOVIVIENDA            241644 non-null  object\n 7   FAMI_TIENEINTERNET              241461 non-null  object\n 8   FAMI_TIENECOMPUTADOR            238856 non-null  object\n 9   FAMI_TIENELAVADORA              238613 non-null  object\n 10  FAMI_TIENEHORNOMICROOGAS        236804 non-null  object\n 11  FAMI_TIENESERVICIOTV            241185 non-null  object\n 12  FAMI_TIENEAUTOMOVIL             235462 non-null  object\n 13  FAMI_TIENEMOTOCICLETA           234754 non-null  object\n 14  FAMI_TIENECONSOLAVIDEOJUEGOS    234558 non-null  object\n 15  ESTU_HORASSEMANATRABAJA         239576 non-null  object\n 16  ESTU_METODO_PRGM                246436 non-null  object\n 17  INST_ORIGEN                     246436 non-null  object\n 18  ESTU_ESTADOCIVIL                245471 non-null  object\n 19  ESTU_SIMULACROTIPOICFES         25088 non-null   object\n 20  PUNT_GLOBAL                     246436 non-null  int64 \ndtypes: int64(1), object(20)\nmemory usage: 39.5+ MB\n",
     "output_type": "stream",
     "data": {}
    }
   ]
  },
  {
   "cell_type": "markdown",
   "source": "### 5. Regresión lineal multiple con scikit-learn",
   "metadata": {
    "tags": [],
    "cell_id": "00015-8ddff06f-2660-429d-b435-8dec23e7bf1a",
    "deepnote_app_coordinates": {
     "x": 0,
     "y": 120,
     "w": 12,
     "h": 5
    },
    "deepnote_cell_type": "markdown"
   }
  },
  {
   "cell_type": "markdown",
   "source": "Creamos un modelo de machine learning donde nuestra variable dependiente sera el puntaje global. Sin embargo, nuestras variables independientes son de caracter object, por tanto procederemos a su transformación a dummy para realizar el modelo.\n",
   "metadata": {
    "tags": [],
    "cell_id": "00016-17442430-a438-43ce-98c9-5714ddd6433f",
    "deepnote_app_coordinates": {
     "x": 0,
     "y": 126,
     "w": 12,
     "h": 5
    },
    "deepnote_cell_type": "markdown"
   }
  },
  {
   "cell_type": "code",
   "metadata": {
    "tags": [],
    "cell_id": "00015-4d191894-601f-4d6f-bbe2-a46508332f88",
    "deepnote_to_be_reexecuted": false,
    "source_hash": "38989381",
    "execution_start": 1640008583436,
    "execution_millis": 24,
    "deepnote_app_coordinates": {
     "x": 0,
     "y": 114,
     "w": 12,
     "h": 5
    },
    "deepnote_cell_type": "code"
   },
   "source": "# Creación de nuestra variable independiente\nX = saber_pro.drop([\"PUNT_GLOBAL\"], axis = 1)",
   "execution_count": 6,
   "outputs": []
  },
  {
   "cell_type": "code",
   "metadata": {
    "tags": [],
    "cell_id": "00018-bd6d3a19-2395-40ce-95cd-9477ea1d81b5",
    "deepnote_to_be_reexecuted": false,
    "source_hash": "203a949a",
    "execution_start": 1640008585414,
    "execution_millis": 1,
    "deepnote_app_coordinates": {
     "x": 0,
     "y": 132,
     "w": 12,
     "h": 5
    },
    "deepnote_cell_type": "code"
   },
   "source": "# Creación de nuestra variable dependiente\nY = saber_pro[\"PUNT_GLOBAL\"]",
   "execution_count": 7,
   "outputs": []
  },
  {
   "cell_type": "code",
   "metadata": {
    "tags": [],
    "cell_id": "00006-404417f2-0192-4e0c-9398-9886bf97d872",
    "deepnote_to_be_reexecuted": false,
    "source_hash": "8fe91d77",
    "execution_start": 1640008587846,
    "execution_millis": 509,
    "deepnote_app_coordinates": {
     "x": 0,
     "y": 78,
     "w": 12,
     "h": 5
    },
    "deepnote_cell_type": "code"
   },
   "source": "# Procedemos a la creación de las variables dummys\nX = pd.get_dummies(data = X, drop_first=True) ",
   "execution_count": 8,
   "outputs": []
  },
  {
   "cell_type": "markdown",
   "source": "Con el comando drop_first se elimina una columna para no caer en colinalidad perfecta o trampa dummy. Igualmente, al aplicar pd.get_dummies las variables con valores categoricos con Nulls / NaNs en ellos, los nulos se ignoran, es decir, se obtiene 0 en las columnas recién creadas. En este caso se dejara de esta forma dado la complejidad del tratatamiento de las variables categoricas del dataset. ",
   "metadata": {
    "tags": [],
    "cell_id": "00020-6cc94049-636f-4a18-98be-4c1e7bfe434c",
    "deepnote_app_coordinates": {
     "x": 0,
     "y": 138,
     "w": 12,
     "h": 5
    },
    "deepnote_cell_type": "markdown"
   }
  },
  {
   "cell_type": "code",
   "metadata": {
    "tags": [],
    "cell_id": "00021-70b48e53-7fba-4061-8256-974389ebc055",
    "deepnote_to_be_reexecuted": false,
    "source_hash": "d31972b6",
    "execution_start": 1640008592679,
    "execution_millis": 55,
    "deepnote_app_coordinates": {
     "x": 0,
     "y": 144,
     "w": 12,
     "h": 5
    },
    "deepnote_cell_type": "code"
   },
   "source": "# Información de la variable X\nX.info()",
   "execution_count": 9,
   "outputs": [
    {
     "name": "stdout",
     "text": "<class 'pandas.core.frame.DataFrame'>\nRangeIndex: 246436 entries, 0 to 246435\nData columns (total 61 columns):\n #   Column                                                                   Non-Null Count   Dtype\n---  ------                                                                   --------------   -----\n 0   ESTU_GENERO_M                                                            246436 non-null  uint8\n 1   ESTU_AREARESIDE_Cabecera Municipal                                       246436 non-null  uint8\n 2   ESTU_VALORMATRICULAUNIVERSIDAD_Entre 2.5 millones y menos de 4 millones  246436 non-null  uint8\n 3   ESTU_VALORMATRICULAUNIVERSIDAD_Entre 4 millones y menos de 5.5 millones  246436 non-null  uint8\n 4   ESTU_VALORMATRICULAUNIVERSIDAD_Entre 5.5 millones y menos de 7 millones  246436 non-null  uint8\n 5   ESTU_VALORMATRICULAUNIVERSIDAD_Entre 500 mil y menos de 1 mill�n         246436 non-null  uint8\n 6   ESTU_VALORMATRICULAUNIVERSIDAD_Menos de 500 mil                          246436 non-null  uint8\n 7   ESTU_VALORMATRICULAUNIVERSIDAD_M�s de 7 millones                         246436 non-null  uint8\n 8   ESTU_VALORMATRICULAUNIVERSIDAD_No pag� matr�cula                         246436 non-null  uint8\n 9   ESTU_PAGOMATRICULABECA_Si                                                246436 non-null  uint8\n 10  FAMI_EDUCACIONPADRE_Educaci�n profesional incompleta                     246436 non-null  uint8\n 11  FAMI_EDUCACIONPADRE_Ninguno                                              246436 non-null  uint8\n 12  FAMI_EDUCACIONPADRE_No Aplica                                            246436 non-null  uint8\n 13  FAMI_EDUCACIONPADRE_No sabe                                              246436 non-null  uint8\n 14  FAMI_EDUCACIONPADRE_Postgrado                                            246436 non-null  uint8\n 15  FAMI_EDUCACIONPADRE_Primaria completa                                    246436 non-null  uint8\n 16  FAMI_EDUCACIONPADRE_Primaria incompleta                                  246436 non-null  uint8\n 17  FAMI_EDUCACIONPADRE_Secundaria (Bachillerato) completa                   246436 non-null  uint8\n 18  FAMI_EDUCACIONPADRE_Secundaria (Bachillerato) incompleta                 246436 non-null  uint8\n 19  FAMI_EDUCACIONPADRE_T�cnica o tecnol�gica completa                       246436 non-null  uint8\n 20  FAMI_EDUCACIONPADRE_T�cnica o tecnol�gica incompleta                     246436 non-null  uint8\n 21  FAMI_EDUCACIONMADRE_Educaci�n profesional incompleta                     246436 non-null  uint8\n 22  FAMI_EDUCACIONMADRE_Ninguno                                              246436 non-null  uint8\n 23  FAMI_EDUCACIONMADRE_No Aplica                                            246436 non-null  uint8\n 24  FAMI_EDUCACIONMADRE_No sabe                                              246436 non-null  uint8\n 25  FAMI_EDUCACIONMADRE_Postgrado                                            246436 non-null  uint8\n 26  FAMI_EDUCACIONMADRE_Primaria completa                                    246436 non-null  uint8\n 27  FAMI_EDUCACIONMADRE_Primaria incompleta                                  246436 non-null  uint8\n 28  FAMI_EDUCACIONMADRE_Secundaria (Bachillerato) completa                   246436 non-null  uint8\n 29  FAMI_EDUCACIONMADRE_Secundaria (Bachillerato) incompleta                 246436 non-null  uint8\n 30  FAMI_EDUCACIONMADRE_T�cnica o tecnol�gica completa                       246436 non-null  uint8\n 31  FAMI_EDUCACIONMADRE_T�cnica o tecnol�gica incompleta                     246436 non-null  uint8\n 32  FAMI_ESTRATOVIVIENDA_Estrato 2                                           246436 non-null  uint8\n 33  FAMI_ESTRATOVIVIENDA_Estrato 3                                           246436 non-null  uint8\n 34  FAMI_ESTRATOVIVIENDA_Estrato 4                                           246436 non-null  uint8\n 35  FAMI_ESTRATOVIVIENDA_Estrato 5                                           246436 non-null  uint8\n 36  FAMI_ESTRATOVIVIENDA_Estrato 6                                           246436 non-null  uint8\n 37  FAMI_ESTRATOVIVIENDA_Sin Estrato                                         246436 non-null  uint8\n 38  FAMI_TIENEINTERNET_Si                                                    246436 non-null  uint8\n 39  FAMI_TIENECOMPUTADOR_Si                                                  246436 non-null  uint8\n 40  FAMI_TIENELAVADORA_Si                                                    246436 non-null  uint8\n 41  FAMI_TIENEHORNOMICROOGAS_Si                                              246436 non-null  uint8\n 42  FAMI_TIENESERVICIOTV_Si                                                  246436 non-null  uint8\n 43  FAMI_TIENEAUTOMOVIL_Si                                                   246436 non-null  uint8\n 44  FAMI_TIENEMOTOCICLETA_Si                                                 246436 non-null  uint8\n 45  FAMI_TIENECONSOLAVIDEOJUEGOS_Si                                          246436 non-null  uint8\n 46  ESTU_HORASSEMANATRABAJA_Entre 11 y 20 horas                              246436 non-null  uint8\n 47  ESTU_HORASSEMANATRABAJA_Entre 21 y 30 horas                              246436 non-null  uint8\n 48  ESTU_HORASSEMANATRABAJA_Menos de 10 horas                                246436 non-null  uint8\n 49  ESTU_HORASSEMANATRABAJA_M�s de 30 horas                                  246436 non-null  uint8\n 50  ESTU_METODO_PRGM_DISTANCIA VITUAL                                        246436 non-null  uint8\n 51  ESTU_METODO_PRGM_PRESENCIAL                                              246436 non-null  uint8\n 52  INST_ORIGEN_NO OFICIAL - FUNDACI�N                                       246436 non-null  uint8\n 53  INST_ORIGEN_OFICIAL DEPARTAMENTAL                                        246436 non-null  uint8\n 54  INST_ORIGEN_OFICIAL MUNICIPAL                                            246436 non-null  uint8\n 55  INST_ORIGEN_OFICIAL NACIONAL                                             246436 non-null  uint8\n 56  INST_ORIGEN_REGIMEN ESPECIAL                                             246436 non-null  uint8\n 57  ESTU_ESTADOCIVIL_Separado y/o Viudo                                      246436 non-null  uint8\n 58  ESTU_ESTADOCIVIL_Soltero                                                 246436 non-null  uint8\n 59  ESTU_ESTADOCIVIL_Uni�n libre                                             246436 non-null  uint8\n 60  ESTU_SIMULACROTIPOICFES_Si                                               246436 non-null  uint8\ndtypes: uint8(61)\nmemory usage: 14.3 MB\n",
     "output_type": "stream",
     "data": {}
    }
   ]
  },
  {
   "cell_type": "code",
   "metadata": {
    "tags": [],
    "cell_id": "00011-d8dbcb61-d896-424b-a4fb-792aa7ec138e",
    "deepnote_to_be_reexecuted": false,
    "source_hash": "ea5b36a3",
    "execution_start": 1640008598615,
    "execution_millis": 113,
    "deepnote_app_coordinates": {
     "x": 0,
     "y": 84,
     "w": 12,
     "h": 5
    },
    "deepnote_cell_type": "code"
   },
   "source": "# Dividimos nuestros datos con train_test_split\nX_train, X_test, Y_train, Y_test = train_test_split(X, Y, test_size = .20, random_state = 40)\nprint('Muestras de entrenamiento: ',X_train.shape[0])\n\n",
   "execution_count": 10,
   "outputs": [
    {
     "name": "stdout",
     "text": "Muestras de entrenamiento:  197148\n",
     "output_type": "stream",
     "data": {}
    }
   ]
  },
  {
   "cell_type": "code",
   "metadata": {
    "tags": [],
    "cell_id": "00013-88e6724f-1377-4f4b-9ce2-c8965f433bad",
    "deepnote_to_be_reexecuted": false,
    "source_hash": "2ad23f1b",
    "execution_start": 1640008600773,
    "execution_millis": 908,
    "deepnote_output_heights": [
     21
    ],
    "deepnote_app_coordinates": {
     "x": 0,
     "y": 90,
     "w": 12,
     "h": 5
    },
    "deepnote_cell_type": "code"
   },
   "source": "# Regresión lineal\nregressor = LinearRegression()\nregressor.fit(X_train, Y_train)",
   "execution_count": 11,
   "outputs": [
    {
     "output_type": "execute_result",
     "execution_count": 11,
     "data": {
      "text/plain": "LinearRegression()"
     },
     "metadata": {}
    }
   ]
  },
  {
   "cell_type": "code",
   "metadata": {
    "tags": [],
    "cell_id": "00013-178a79e9-85ed-4158-9834-a5dd16979307",
    "deepnote_to_be_reexecuted": false,
    "source_hash": "8a4b9f51",
    "execution_start": 1640008605556,
    "execution_millis": 25,
    "deepnote_output_heights": [
     21
    ],
    "deepnote_app_coordinates": {
     "x": 0,
     "y": 96,
     "w": 12,
     "h": 5
    },
    "deepnote_cell_type": "code"
   },
   "source": "# Capacidad predictora\nregressor.score(X_test, Y_test)",
   "execution_count": 12,
   "outputs": [
    {
     "output_type": "execute_result",
     "execution_count": 12,
     "data": {
      "text/plain": "0.281577010980683"
     },
     "metadata": {}
    }
   ]
  },
  {
   "cell_type": "markdown",
   "source": "### 5.1 Aplicación de PCA",
   "metadata": {
    "tags": [],
    "deepnote_app_coordinates": {
     "x": 0,
     "y": 0,
     "w": 12,
     "h": 5
    },
    "cell_id": "00029-32253439-a99f-4bd1-8003-c8b010dda050",
    "deepnote_cell_type": "markdown"
   }
  },
  {
   "cell_type": "code",
   "metadata": {
    "tags": [],
    "deepnote_app_coordinates": {
     "x": 0,
     "y": 0,
     "w": 12,
     "h": 5
    },
    "cell_id": "00030-a1e2bbb2-d8f6-49fa-8b3a-6fc4d8aa0a43",
    "deepnote_to_be_reexecuted": false,
    "source_hash": "3d8627ec",
    "execution_start": 1640008653874,
    "execution_millis": 1455,
    "deepnote_cell_type": "code"
   },
   "source": "# Creamos la variable de pca\npca = decomposition.PCA(n_components=9)\nX = pca.fit_transform(X)",
   "execution_count": 17,
   "outputs": []
  },
  {
   "cell_type": "code",
   "metadata": {
    "tags": [],
    "deepnote_app_coordinates": {
     "x": 0,
     "y": 0,
     "w": 12,
     "h": 5
    },
    "cell_id": "00031-d6de62ed-70a5-487a-9fd8-ec4fde72cb4e",
    "deepnote_to_be_reexecuted": false,
    "source_hash": "8176e09e",
    "execution_start": 1640008660750,
    "execution_millis": 35,
    "deepnote_cell_type": "code"
   },
   "source": "# Dividimos nuestros datos con train_test_split\nX_train, X_test, Y_train, Y_test = train_test_split(X, Y, test_size = .20, random_state = 40)\nprint('Muestras de entrenamiento: ',X_train.shape[0])",
   "execution_count": 18,
   "outputs": [
    {
     "name": "stdout",
     "text": "Muestras de entrenamiento:  197148\n",
     "output_type": "stream",
     "data": {}
    }
   ]
  },
  {
   "cell_type": "code",
   "metadata": {
    "tags": [],
    "deepnote_app_coordinates": {
     "x": 0,
     "y": 0,
     "w": 12,
     "h": 5
    },
    "cell_id": "00032-85ee2657-9ef5-406c-aa79-016913c8d450",
    "deepnote_to_be_reexecuted": false,
    "source_hash": "2ad23f1b",
    "execution_start": 1640008664560,
    "execution_millis": 58,
    "deepnote_output_heights": [
     21
    ],
    "deepnote_cell_type": "code"
   },
   "source": "# Regresión lineal\nregressor = LinearRegression()\nregressor.fit(X_train, Y_train)",
   "execution_count": 19,
   "outputs": [
    {
     "output_type": "execute_result",
     "execution_count": 19,
     "data": {
      "text/plain": "LinearRegression()"
     },
     "metadata": {}
    }
   ]
  },
  {
   "cell_type": "code",
   "metadata": {
    "tags": [],
    "deepnote_app_coordinates": {
     "x": 0,
     "y": 0,
     "w": 12,
     "h": 5
    },
    "cell_id": "00031-db4dd67e-78b2-4266-a9a3-37346215994b",
    "deepnote_to_be_reexecuted": false,
    "source_hash": "8a4b9f51",
    "execution_start": 1640008666488,
    "execution_millis": 11,
    "deepnote_output_heights": [
     21
    ],
    "deepnote_cell_type": "code"
   },
   "source": "# Capacidad predictora\nregressor.score(X_test, Y_test)",
   "execution_count": 20,
   "outputs": [
    {
     "output_type": "execute_result",
     "execution_count": 20,
     "data": {
      "text/plain": "0.19590057801331984"
     },
     "metadata": {}
    }
   ]
  },
  {
   "cell_type": "markdown",
   "source": "Con la implementación de PCA solo se necesita 9 variables artificiales para llegar a un resultado de 19%.",
   "metadata": {
    "tags": [],
    "deepnote_app_coordinates": {
     "x": 0,
     "y": 0,
     "w": 12,
     "h": 5
    },
    "cell_id": "00034-cafc5991-236b-47e2-beee-ca5a41843f42",
    "deepnote_cell_type": "markdown"
   }
  },
  {
   "cell_type": "markdown",
   "source": "### 6. Regresión lineal multiple con statsmodels",
   "metadata": {
    "tags": [],
    "cell_id": "00025-4d7c71be-ac53-45bf-af52-b77348ade2b7",
    "deepnote_app_coordinates": {
     "x": 0,
     "y": 174,
     "w": 12,
     "h": 5
    },
    "deepnote_cell_type": "markdown"
   }
  },
  {
   "cell_type": "markdown",
   "source": "Utilizamos la libreria statsmodels para aplicar un modelo econométrico para conocer cuales son las variables mas significativas a la hora de explicar el rendimiento de los estudiantes. ",
   "metadata": {
    "tags": [],
    "deepnote_app_coordinates": {
     "x": 0,
     "y": 0,
     "w": 12,
     "h": 5
    },
    "cell_id": "00036-af45e179-c486-4a3b-90fa-fa87ca13d4e6",
    "deepnote_cell_type": "markdown"
   }
  },
  {
   "cell_type": "code",
   "metadata": {
    "tags": [],
    "deepnote_app_coordinates": {
     "x": 0,
     "y": 0,
     "w": 12,
     "h": 5
    },
    "cell_id": "00037-7d727f8e-c235-4fb4-ab70-1c33fb429211",
    "deepnote_to_be_reexecuted": false,
    "source_hash": "a200f0b0",
    "execution_start": 1640003898971,
    "execution_millis": 9249,
    "deepnote_cell_type": "code"
   },
   "source": "!pip install statsmodels==0.13.1",
   "execution_count": null,
   "outputs": [
    {
     "name": "stdout",
     "text": "Collecting statsmodels==0.13.1\n  Downloading statsmodels-0.13.1-cp39-cp39-manylinux_2_17_x86_64.manylinux2014_x86_64.whl (9.9 MB)\n\u001b[K     |████████████████████████████████| 9.9 MB 20.2 MB/s \n\u001b[?25hCollecting patsy>=0.5.2\n  Downloading patsy-0.5.2-py2.py3-none-any.whl (233 kB)\n\u001b[K     |████████████████████████████████| 233 kB 52.0 MB/s \n\u001b[?25hRequirement already satisfied: scipy>=1.3 in /shared-libs/python3.9/py/lib/python3.9/site-packages (from statsmodels==0.13.1) (1.7.3)\nRequirement already satisfied: numpy>=1.17 in /shared-libs/python3.9/py/lib/python3.9/site-packages (from statsmodels==0.13.1) (1.21.4)\nRequirement already satisfied: pandas>=0.25 in /shared-libs/python3.9/py/lib/python3.9/site-packages (from statsmodels==0.13.1) (1.2.5)\nRequirement already satisfied: python-dateutil>=2.7.3 in /shared-libs/python3.9/py-core/lib/python3.9/site-packages (from pandas>=0.25->statsmodels==0.13.1) (2.8.2)\nRequirement already satisfied: pytz>=2017.3 in /shared-libs/python3.9/py/lib/python3.9/site-packages (from pandas>=0.25->statsmodels==0.13.1) (2021.3)\nRequirement already satisfied: six in /shared-libs/python3.9/py-core/lib/python3.9/site-packages (from patsy>=0.5.2->statsmodels==0.13.1) (1.16.0)\nInstalling collected packages: patsy, statsmodels\nSuccessfully installed patsy-0.5.2 statsmodels-0.13.1\n\u001b[33mWARNING: You are using pip version 21.2.3; however, version 21.3.1 is available.\nYou should consider upgrading via the '/root/venv/bin/python -m pip install --upgrade pip' command.\u001b[0m\n",
     "output_type": "stream",
     "data": {}
    }
   ]
  },
  {
   "cell_type": "code",
   "metadata": {
    "tags": [],
    "cell_id": "00025-5e394c5f-9fb8-4a56-831b-e13384b4198c",
    "deepnote_to_be_reexecuted": false,
    "source_hash": "a7a825d4",
    "execution_start": 1640003913812,
    "execution_millis": 517,
    "deepnote_app_coordinates": {
     "x": 0,
     "y": 162,
     "w": 12,
     "h": 5
    },
    "deepnote_cell_type": "code"
   },
   "source": "# Importamos el modelo\nimport statsmodels.api as sm",
   "execution_count": null,
   "outputs": []
  },
  {
   "cell_type": "code",
   "metadata": {
    "tags": [],
    "deepnote_app_coordinates": {
     "x": 0,
     "y": 0,
     "w": 12,
     "h": 5
    },
    "cell_id": "00039-f605ed4a-c7ac-4bf7-851c-b9dbc927f356",
    "deepnote_to_be_reexecuted": false,
    "source_hash": "fd36754c",
    "execution_start": 1640004139032,
    "execution_millis": 11,
    "deepnote_cell_type": "code"
   },
   "source": "# Volvemos a complementar X con todos los datos\nX = saber_pro.drop([\"PUNT_GLOBAL\"], axis = 1)",
   "execution_count": null,
   "outputs": []
  },
  {
   "cell_type": "code",
   "metadata": {
    "tags": [],
    "deepnote_app_coordinates": {
     "x": 0,
     "y": 0,
     "w": 12,
     "h": 5
    },
    "cell_id": "00040-c4fd17ec-22f7-4d45-84f7-621df2d0d434",
    "deepnote_to_be_reexecuted": false,
    "source_hash": "8fe91d77",
    "execution_start": 1640004172618,
    "execution_millis": 506,
    "deepnote_cell_type": "code"
   },
   "source": "# Procedemos a la creación de las variables dummys\nX = pd.get_dummies(data = X, drop_first=True) ",
   "execution_count": null,
   "outputs": []
  },
  {
   "cell_type": "code",
   "metadata": {
    "tags": [],
    "deepnote_app_coordinates": {
     "x": 0,
     "y": 0,
     "w": 12,
     "h": 5
    },
    "cell_id": "00041-6739b0f6-5249-49ed-bd16-890ca196f2c9",
    "deepnote_to_be_reexecuted": false,
    "source_hash": "8176e09e",
    "execution_start": 1640004200400,
    "execution_millis": 147,
    "deepnote_cell_type": "code"
   },
   "source": "# Dividimos nuestros datos con train_test_split\nX_train, X_test, Y_train, Y_test = train_test_split(X, Y, test_size = .20, random_state = 40)\nprint('Muestras de entrenamiento: ',X_train.shape[0])",
   "execution_count": null,
   "outputs": [
    {
     "name": "stdout",
     "text": "Muestras de entrenamiento:  197148\n",
     "output_type": "stream",
     "data": {}
    }
   ]
  },
  {
   "cell_type": "code",
   "metadata": {
    "tags": [],
    "deepnote_app_coordinates": {
     "x": 0,
     "y": 0,
     "w": 12,
     "h": 5
    },
    "cell_id": "00042-83f0d329-7957-4d2f-9f91-669b03d6c21a",
    "deepnote_to_be_reexecuted": false,
    "source_hash": "2ad23f1b",
    "execution_start": 1640004244110,
    "execution_millis": 802,
    "deepnote_output_heights": [
     21
    ],
    "deepnote_cell_type": "code"
   },
   "source": "# Regresión lineal\nregressor = LinearRegression()\nregressor.fit(X_train, Y_train)",
   "execution_count": null,
   "outputs": [
    {
     "output_type": "execute_result",
     "execution_count": 37,
     "data": {
      "text/plain": "LinearRegression()"
     },
     "metadata": {}
    }
   ]
  },
  {
   "cell_type": "code",
   "metadata": {
    "tags": [],
    "cell_id": "00025-f1b3f951-dd84-4e72-a530-4c2cc6d7e2fa",
    "deepnote_to_be_reexecuted": false,
    "source_hash": "e68d6627",
    "execution_start": 1640004248488,
    "execution_millis": 2463,
    "deepnote_app_coordinates": {
     "x": 0,
     "y": 156,
     "w": 12,
     "h": 5
    },
    "deepnote_cell_type": "code"
   },
   "source": "# Creación del modelo con statsmodels\nX_train = sm.add_constant(X_train, prepend=True)\nmodelo  = sm.OLS(endog=Y_train, exog=X_train,)\nmodelo  = modelo.fit()\nprint(modelo.summary())",
   "execution_count": null,
   "outputs": [
    {
     "name": "stdout",
     "text": "                            OLS Regression Results                            \n==============================================================================\nDep. Variable:            PUNT_GLOBAL   R-squared:                       0.284\nModel:                            OLS   Adj. R-squared:                  0.283\nMethod:                 Least Squares   F-statistic:                     1279.\nDate:                Mon, 20 Dec 2021   Prob (F-statistic):               0.00\nTime:                        12:44:10   Log-Likelihood:            -8.9052e+05\nNo. Observations:              197148   AIC:                         1.781e+06\nDf Residuals:                  197086   BIC:                         1.782e+06\nDf Model:                          61                                         \nCovariance Type:            nonrobust                                         \n===========================================================================================================================================\n                                                                              coef    std err          t      P>|t|      [0.025      0.975]\n-------------------------------------------------------------------------------------------------------------------------------------------\nconst                                                                     118.1010      0.357    330.627      0.000     117.401     118.801\nESTU_GENERO_M                                                               3.5827      0.104     34.293      0.000       3.378       3.787\nESTU_AREARESIDE_Cabecera Municipal                                          4.3043      0.154     27.953      0.000       4.002       4.606\nESTU_VALORMATRICULAUNIVERSIDAD_Entre 2.5 millones y menos de 4 millones    -0.3298      0.169     -1.948      0.051      -0.661       0.002\nESTU_VALORMATRICULAUNIVERSIDAD_Entre 4 millones y menos de 5.5 millones     4.9281      0.204     24.108      0.000       4.527       5.329\nESTU_VALORMATRICULAUNIVERSIDAD_Entre 5.5 millones y menos de 7 millones     8.2733      0.249     33.244      0.000       7.786       8.761\nESTU_VALORMATRICULAUNIVERSIDAD_Entre 500 mil y menos de 1 mill�n           -0.0457      0.199     -0.230      0.818      -0.435       0.344\nESTU_VALORMATRICULAUNIVERSIDAD_Menos de 500 mil                             3.2127      0.214     15.026      0.000       2.794       3.632\nESTU_VALORMATRICULAUNIVERSIDAD_M�s de 7 millones                           18.7906      0.224     83.973      0.000      18.352      19.229\nESTU_VALORMATRICULAUNIVERSIDAD_No pag� matr�cula                            3.6865      0.379      9.736      0.000       2.944       4.429\nESTU_PAGOMATRICULABECA_Si                                                   5.5144      0.129     42.650      0.000       5.261       5.768\nFAMI_EDUCACIONPADRE_Educaci�n profesional incompleta                        2.3502      0.289      8.141      0.000       1.784       2.916\nFAMI_EDUCACIONPADRE_Ninguno                                                -4.4168      0.410    -10.778      0.000      -5.220      -3.614\nFAMI_EDUCACIONPADRE_No Aplica                                               1.0485      0.461      2.275      0.023       0.145       1.952\nFAMI_EDUCACIONPADRE_No sabe                                                 3.2042      0.339      9.465      0.000       2.541       3.868\nFAMI_EDUCACIONPADRE_Postgrado                                               3.8270      0.246     15.561      0.000       3.345       4.309\nFAMI_EDUCACIONPADRE_Primaria completa                                      -2.1942      0.244     -8.994      0.000      -2.672      -1.716\nFAMI_EDUCACIONPADRE_Primaria incompleta                                    -1.9765      0.212     -9.335      0.000      -2.391      -1.562\nFAMI_EDUCACIONPADRE_Secundaria (Bachillerato) completa                     -0.7610      0.192     -3.954      0.000      -1.138      -0.384\nFAMI_EDUCACIONPADRE_Secundaria (Bachillerato) incompleta                   -1.0435      0.224     -4.652      0.000      -1.483      -0.604\nFAMI_EDUCACIONPADRE_T�cnica o tecnol�gica completa                          0.3663      0.219      1.670      0.095      -0.064       0.796\nFAMI_EDUCACIONPADRE_T�cnica o tecnol�gica incompleta                       -1.9403      0.335     -5.786      0.000      -2.598      -1.283\nFAMI_EDUCACIONMADRE_Educaci�n profesional incompleta                        1.0834      0.318      3.407      0.001       0.460       1.707\nFAMI_EDUCACIONMADRE_Ninguno                                                -8.8046      0.486    -18.110      0.000      -9.757      -7.852\nFAMI_EDUCACIONMADRE_No Aplica                                              -4.5910      1.192     -3.852      0.000      -6.927      -2.255\nFAMI_EDUCACIONMADRE_No sabe                                                -4.3048      0.856     -5.031      0.000      -5.982      -2.628\nFAMI_EDUCACIONMADRE_Postgrado                                               3.0832      0.239     12.914      0.000       2.615       3.551\nFAMI_EDUCACIONMADRE_Primaria completa                                      -3.0874      0.245    -12.590      0.000      -3.568      -2.607\nFAMI_EDUCACIONMADRE_Primaria incompleta                                    -4.2738      0.225    -18.972      0.000      -4.715      -3.832\nFAMI_EDUCACIONMADRE_Secundaria (Bachillerato) completa                     -1.4323      0.189     -7.570      0.000      -1.803      -1.061\nFAMI_EDUCACIONMADRE_Secundaria (Bachillerato) incompleta                   -1.5516      0.218     -7.120      0.000      -1.979      -1.124\nFAMI_EDUCACIONMADRE_T�cnica o tecnol�gica completa                          0.0460      0.197      0.234      0.815      -0.340       0.432\nFAMI_EDUCACIONMADRE_T�cnica o tecnol�gica incompleta                       -1.9913      0.309     -6.444      0.000      -2.597      -1.386\nFAMI_ESTRATOVIVIENDA_Estrato 2                                              4.4716      0.154     29.109      0.000       4.171       4.773\nFAMI_ESTRATOVIVIENDA_Estrato 3                                              6.0023      0.172     34.973      0.000       5.666       6.339\nFAMI_ESTRATOVIVIENDA_Estrato 4                                              8.3023      0.238     34.911      0.000       7.836       8.768\nFAMI_ESTRATOVIVIENDA_Estrato 5                                              9.4977      0.335     28.371      0.000       8.842      10.154\nFAMI_ESTRATOVIVIENDA_Estrato 6                                             11.8721      0.434     27.324      0.000      11.021      12.724\nFAMI_ESTRATOVIVIENDA_Sin Estrato                                           -0.5565      0.887     -0.627      0.531      -2.296       1.183\nFAMI_TIENEINTERNET_Si                                                       4.2785      0.216     19.844      0.000       3.856       4.701\nFAMI_TIENECOMPUTADOR_Si                                                     5.6063      0.210     26.727      0.000       5.195       6.017\nFAMI_TIENELAVADORA_Si                                                       2.4243      0.158     15.313      0.000       2.114       2.735\nFAMI_TIENEHORNOMICROOGAS_Si                                                 2.2845      0.121     18.832      0.000       2.047       2.522\nFAMI_TIENESERVICIOTV_Si                                                    -2.7652      0.136    -20.380      0.000      -3.031      -2.499\nFAMI_TIENEAUTOMOVIL_Si                                                      0.1417      0.127      1.118      0.263      -0.107       0.390\nFAMI_TIENEMOTOCICLETA_Si                                                   -3.3245      0.110    -30.307      0.000      -3.539      -3.109\nFAMI_TIENECONSOLAVIDEOJUEGOS_Si                                             2.0936      0.138     15.160      0.000       1.823       2.364\nESTU_HORASSEMANATRABAJA_Entre 11 y 20 horas                                -5.5470      0.168    -33.043      0.000      -5.876      -5.218\nESTU_HORASSEMANATRABAJA_Entre 21 y 30 horas                                -4.7063      0.183    -25.728      0.000      -5.065      -4.348\nESTU_HORASSEMANATRABAJA_Menos de 10 horas                                  -5.3727      0.176    -30.538      0.000      -5.717      -5.028\nESTU_HORASSEMANATRABAJA_M�s de 30 horas                                    -2.8194      0.152    -18.598      0.000      -3.117      -2.522\nESTU_METODO_PRGM_DISTANCIA VITUAL                                           3.6375      0.250     14.537      0.000       3.147       4.128\nESTU_METODO_PRGM_PRESENCIAL                                                 8.1278      0.166     49.093      0.000       7.803       8.452\nINST_ORIGEN_NO OFICIAL - FUNDACI�N                                          1.4464      0.130     11.156      0.000       1.192       1.701\nINST_ORIGEN_OFICIAL DEPARTAMENTAL                                           6.9516      0.209     33.269      0.000       6.542       7.361\nINST_ORIGEN_OFICIAL MUNICIPAL                                               9.8929      0.382     25.896      0.000       9.144      10.642\nINST_ORIGEN_OFICIAL NACIONAL                                                8.3443      0.182     45.867      0.000       7.988       8.701\nINST_ORIGEN_REGIMEN ESPECIAL                                                7.3689      2.116      3.483      0.000       3.222      11.516\nESTU_ESTADOCIVIL_Separado y/o Viudo                                        -0.5084      0.521     -0.976      0.329      -1.529       0.512\nESTU_ESTADOCIVIL_Soltero                                                    4.1145      0.192     21.446      0.000       3.739       4.491\nESTU_ESTADOCIVIL_Uni�n libre                                               -1.5039      0.237     -6.348      0.000      -1.968      -1.040\nESTU_SIMULACROTIPOICFES_Si                                                 -3.1015      0.176    -17.649      0.000      -3.446      -2.757\n==============================================================================\nOmnibus:                     3805.367   Durbin-Watson:                   2.006\nProb(Omnibus):                  0.000   Jarque-Bera (JB):             4824.714\nSkew:                          -0.265   Prob(JB):                         0.00\nKurtosis:                       3.553   Cond. No.                         119.\n==============================================================================\n\nNotes:\n[1] Standard Errors assume that the covariance matrix of the errors is correctly specified.\n",
     "output_type": "stream",
     "data": {}
    }
   ]
  },
  {
   "cell_type": "markdown",
   "source": "### 7. Conclusiones\n\nPodemos apreciar que las variables que tienen mayor incidencia en los resultados de los estudiantes en las pruebas SABER PRO son las siguientes:\n\nCon respecto al género se puede apreciar que los hombres obtuvierón mejores resultados que las mujeres. Esto puede deberse a aspectos culturales y socioeconómicos.\n\nLos estudiantes que son de las ciudades obtuvierón mejores puntajes en comparación con los que son del área rural. Lo que significa que la educación primario y secundaria en las ciudades es de mayor calidad que la rural, lo cual nos muestra que aun persiste una brecha de desigualdad educativa en Colombia.\n\nLos estudiantes que pagan una matricula por encima de los 7 millones son los que obtuvierón mejores puntajes, lo cual refirma la calidad educativa de las universidades privadas, en comparación con las universidades publicas que en los ultimos años han presentado una disminución en su nivel educativo, dado la crisis economica que presentan muchas de ellas.\n\nLos estudiantes becados obtuvieron buenos resultados en la prueba, puesto que existe una motivación por superar su situación economica.\n\nLos estudiantes que tienen padres con mayor nivel educativo obtuvierón mejores puntajes en la prueba. Puesto que los padres mas educados tienen mayores ingresos, lo que significa una mayor inversión en la educación de sus hijos, ya sea con mejor material educativo, clases privadas y educación en instituciones privadas.\n\nLos estudiantes que pertencer a los estratos socioeconómicos mas altos son los que obtuvierón mejores puntajes, debido a que en sus hogares tienen un ingreso alto y esto se traduce en mayor inversión en su educación.\n\nLos estudiantes con acceso a internet y un cumputador obtuvierón mejores resultados. Esto nos da ha entender de la importancia de la tecnología en la educación, puesto que a través de ella se puede acceder al conocimiento global mejorando los niveles educativos.\n\nLos estudiantes que no trabajan o tienen un horario laboral bajo en la semana otuvierón mejores puntajes, en comparación a los estudiantes que trabajn una mayor cantidad de horas a la semana. Debido a que un estudiante que no labora tiene mas tiempo para dedicarse a sus estudios, por tanto tiene mejores resultados académicos.\n\nNo obstante, hay que aclarar que el modelo obtuvo una capacidad predictora de 28%, por tanto, no es un modelo optimo, así sea que la mayoria de sus variables son significativas. Debido a la complejidad de trabajar con una base de datos que tiene artas variables categoricas con un número significativo de respuestas. Además, la política que tiene el icfes que no obliga a los estudiantes a brindar su información socioeconómica dificultado el analisis de estas variables.\n",
   "metadata": {
    "tags": [],
    "cell_id": "00025-8124cdbc-f22a-4b5c-acbb-d013729dfa3d",
    "deepnote_app_coordinates": {
     "x": 0,
     "y": 150,
     "w": 12,
     "h": 5
    },
    "deepnote_cell_type": "markdown"
   }
  },
  {
   "cell_type": "markdown",
   "source": "<a style='text-decoration:none;line-height:16px;display:flex;color:#5B5B62;padding:10px;justify-content:end;' href='https://deepnote.com?utm_source=created-in-deepnote-cell&projectId=114aadd5-637a-48fb-921a-0840736ff396' target=\"_blank\">\n<img alt='Created in deepnote.com' style='display:inline;max-height:16px;margin:0px;margin-right:7.5px;' src='data:image/svg+xml;base64,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' > </img>\nCreated in <span style='font-weight:600;margin-left:4px;'>Deepnote</span></a>",
   "metadata": {
    "tags": [],
    "created_in_deepnote_cell": true,
    "deepnote_cell_type": "markdown"
   }
  }
 ],
 "nbformat": 4,
 "nbformat_minor": 2,
 "metadata": {
  "orig_nbformat": 2,
  "deepnote": {
   "is_reactive": false
  },
  "deepnote_notebook_id": "6f8ebb55-1b0b-42cd-a8d5-287e60addac5",
  "deepnote_execution_queue": [],
  "deepnote_app_layout": "article"
 }
}